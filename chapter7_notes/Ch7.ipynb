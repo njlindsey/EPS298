{
 "cells": [
  {
   "cell_type": "code",
   "execution_count": 2,
   "metadata": {
    "collapsed": true
   },
   "outputs": [],
   "source": [
    "from PIL import Image\n",
    "%matplotlib inline"
   ]
  },
  {
   "cell_type": "markdown",
   "metadata": {},
   "source": [
    "# Chapter 7 \n",
    "Surface Waves in a Vertically Heterogeneous Medium\n",
    "\n",
    "#### Introductory remarks\n",
    " - Geometrical spreading effect is less for surface waves than for body waves because energy spreads in 2 rather than 3 dimensions\n",
    " - Surface-wave propagation characteristics (phase and group velocity, attenuation) have been used to delineate Earth structure, and their source spectra and radiation patterns have been used to locate and study earthquakes, and for nuclear discrimination\n",
    "\n",
    "#### Aims:\n",
    " - Describe basic properties of seismic surface waves traveling in a layered medium with a free surface\n",
    " - Derive formulae for amplitude and phase spectra due to arbitrary point sources\n",
    " - Represent the total wave field as a sum of normal modes and leaky modes"
   ]
  },
  {
   "cell_type": "markdown",
   "metadata": {},
   "source": [
    "## 7.1 Basic Properties of Surface Waves"
   ]
  },
  {
   "cell_type": "markdown",
   "metadata": {},
   "source": [
    "#### Preliminaries (p. 249)\n",
    "Consider a vertically-heterogeneous medium with surface waves propagativng in a +x horizontal Cartesian coordinate system. \n",
    "\n",
    "3 general conditions for surface wave solutions:\n",
    " - Satisfy equation of motion\n",
    " - Zero tractions at $z=0$ (free surface)\n",
    " - Zero amplitude at $z=\\infty$ (no energy supplied there)\n",
    "\n",
    "From these restrictions, solutions to the wave equation will take the form:\n",
    "\n",
    "$$ \\textbf{u}(x,y,z,t) = \\textbf{Z}(z) e^{i(kx-\\omega t)} $$\n",
    "\n",
    "Note that this form will only have z-derivatives in the wave equation.\n",
    "\n",
    "Nontrivial solutions of this form do not exist unless $k(\\omega)$ $\\Rightarrow$ Eigenvalue problem \n",
    "( eigenvalues :: $k_n(\\omega)$, \n",
    "eigenfunctions :: $\\textbf{u}_n z$ )\n",
    "\n",
    "Thus, any surface wave traveling with frequency $\\omega$ will potentially have unique and ordered wavenumbers $k_0(\\omega) \\gt k_1(\\omega) \\gt k_2(\\omega) \\gt k_3(\\omega) ...$ and corresponding phase velocities $c_n = \\omega/k_n$"
   ]
  },
  {
   "cell_type": "markdown",
   "metadata": {},
   "source": [
    "#### Box 7.1: Initial assumptions\n",
    "Surface waves in seismology are functions of wavenumber. So where previously we thought of the steady-state wave solution as moving in x, z, and t, now we find steady state solutions that are functions of k, z, and $\\omega$:\n",
    "\n",
    "$$ \\frac{\\partial}{\\partial t} \\textbf{u}(x,t) = -i\\omega \\textbf{u}(k, z, \\omega),\n",
    "\\\\\n",
    "\\frac{\\partial}{\\partial x} \\textbf{u}(x,t) = +i k \\textbf{u}(k, z, \\omega)$$."
   ]
  },
  {
   "cell_type": "markdown",
   "metadata": {},
   "source": [
    "#### Planar Love waves in a layer (1) of thickness z=H over a half-space (2) (bottom p. 250)\n",
    "\n",
    "Consider how the y-comp of displacement ($v$) satisfies the wave equation:\n",
    "\n",
    "$$\\frac{\\partial^2 v}{\\partial t^2} = \\frac{\\mu_1}{\\rho_1} (\\frac{\\partial^2 v}{\\partial x^2} + \\frac{\\partial^2 v}{\\partial z^2}), 0 \\lt z \\lt H\n",
    "\\\\\n",
    "\\frac{\\partial^2 v}{\\partial t^2} = \\frac{\\mu_2}{\\rho_2} (\\frac{\\partial^2 v}{\\partial x^2} + \\frac{\\partial^2 v}{\\partial z^2}), z \\gt H$$\n",
    "\n",
    "Attempt solution in form above:\n",
    "\n",
    "$$ \\textbf{v}(x,z,t) = [S'_1 e^{- v_1 z}+S''_1 e^{v_1 z}] e^{i(kx-\\omega t)}, 0 \\lt z \\lt H \n",
    "\\\\\n",
    "\\textbf{v}(x,z,t) = [S'_2 e^{- v_2 z}+S''_2 e^{v_2 z}] e^{i(kx-\\omega t)}, z \\gt H $$\n",
    "\n",
    "where\n",
    "\n",
    "$$ v_i = \\sqrt{k^2 - \\omega ^2 / \\beta_i^2}\n",
    "\\\\\n",
    "Re (v_i) \\geq 0\n",
    "\\\\\n",
    "\\beta_i = \\sqrt{\\mu_i / \\rho_i}\n",
    "\\\\\n",
    "\\Rightarrow Im (v_i) \\leq 0$$\n",
    "\n",
    "Apply conditions and reduce 4 unknown constants to 2 unknowns ($S'_1$ and $S'_2$) and 2 equations:\n",
    "- Assume that $\\beta_1<\\beta_2$ \n",
    "- BC @ z $\\rightarrow \\infty $: only downgoing (homogeneous) waves $\\Rightarrow S''_2 = 0$ \n",
    "- BC @ z = 0: iff $\\frac{\\partial v }{\\partial z} = 0$ at z = 0 $\\Rightarrow S'_1=S''_1$\n",
    "- For continuity at z=H:\n",
    "$$ 2S'_1 cos(i v_1 H) = S'_2 e^{-v_2 H}\n",
    "\\\\\n",
    "2i\\mu_1 v_1 S'_1 sin(i v_1 H) = \\mu_2 v_2 S'_2 e^{-v_2 H} $$\n",
    "\n",
    "Rewrite:\n",
    "$$ \\frac{S'_2}{S'_1} = \\frac{2cos(i v_1 H)}{e^{-v_2 H}} = \\frac{2i\\mu_1 v_1 sin(i v_1 H)}{\\mu_2 v_2 e^{-v_2 H} } \\Rightarrow \\frac{sin(i v_1 H)}{cos(i v_1 H)} - \\frac{\\mu_2 v_2 }{i\\mu_1 v_1}$$\n",
    "\n",
    "Solutions (roots) of F(k) = 0, are the wavenumber eigenvalues $k_n$:\n",
    "\n",
    "$$F(k) \\equiv tan(i v_1 H) - \\frac{\\mu_2 v_2 }{i\\mu_1 v_1} $$.\n",
    "\n",
    "Or, solutions (roots) of \n",
    "\n",
    "$$tan(\\omega H \\sqrt{\\frac{1}{\\beta_1^2} - \\frac{1}{c^2}}) = \\frac{\\mu_2}{\\mu_1} \\frac{\\sqrt{\\frac{1}{c^2}-\\frac{1}{\\beta_1^2}}}{\\sqrt{\\frac{1}{\\beta_1^2} - \\frac{1}{c^2}}} $$\n",
    "\n",
    "give phase-velocity eigenvalues $c_n = \\omega / k_n$.\n",
    "\n",
    "The corresponding eigenfunctions $v_n$ are obtained by substitution of 7.4 into 7.2, where $S''_2 = 0$ and $S'_1=S''_1$, once the phase velocity (eigenvalue) is known:\n",
    "\n",
    "$$ \\textbf{v}(x,z,t) = 2 S'_1 cos(\\omega z \\sqrt{\\frac{1}{\\beta_1^2} - \\frac{1}{c_n^2}}) e^{i(k_n x-\\omega t)}, 0 \\lt z \\lt H \n",
    "\\\\\n",
    "\\textbf{v}(x,z,t) = 2 S'_1 cos(\\omega H \\sqrt{\\frac{1}{\\beta_1^2} - \\frac{1}{c_n^2}}) e^{-(\\omega \\sqrt{\\frac{1}{c_n^2}-\\frac{1}{\\beta_1^2}} (z-H))} e^{i(k_n x-\\omega t)}, z \\gt H $$\n",
    "\n",
    "\n",
    "$\\textbf{Notes}$\n",
    "- Layer displacements have sinusoidal oscillation with depth; half-space has exponential decay with depth\n",
    "- For a given frequency and model layer geometery, there are a finite number of real roots. $\\omega = 0 \\Rightarrow$ one root (fundamental mode); in the general case (cut-off frequency of the nth higher mode): \n",
    "\n",
    "$$\\omega_{cn} = \\frac{n \\pi \\beta_1}{H}/\\sqrt{1-\\frac{\\beta_1^2}{\\beta_2^2}}$$\n",
    "\n",
    "- At cut-off frequency, $c = \\beta_2$ for all modes; \n",
    "- As $\\omega \\rightarrow \\infty, c \\rightarrow \\beta_1$\n",
    "- Relative excitation of differents modes depnds on the depth and nature of the source.\n",
    "\n"
   ]
  },
  {
   "cell_type": "markdown",
   "metadata": {},
   "source": [
    "### Figure 7.2\n",
    "A graphic solution of equation (7.6) for the dispersion of Love waves in a signle layer over a half-space.\n"
   ]
  },
  {
   "cell_type": "code",
   "execution_count": 3,
   "metadata": {
    "collapsed": false
   },
   "outputs": [],
   "source": [
    "img72=Image.open('fig7.2.jpg')\n",
    "img72.show() "
   ]
  },
  {
   "cell_type": "markdown",
   "metadata": {},
   "source": [
    "### Figure 7.3\n",
    "Schematic diagram of phase velocities for the fundametnal mode (n=0) and the next three higher modes, plotted against frequency."
   ]
  },
  {
   "cell_type": "code",
   "execution_count": 4,
   "metadata": {
    "collapsed": false
   },
   "outputs": [],
   "source": [
    "img73=Image.open('fig7.3.jpg')\n",
    "img73.show() "
   ]
  },
  {
   "cell_type": "markdown",
   "metadata": {},
   "source": [
    "#### Group velocity vs. Phase velocity (bottom p. 253)\n",
    "\n",
    "Consider group velocity as a waveform with continuous spectrum by integrating over a cosine wave with a finte frequency band:\n",
    "\n",
    "$$ f_0 (x,t) = \\frac{1}{\\pi} \\int^{\\omega_0+\\frac{\\Delta\\omega}{2}}_{\\omega_0-\\frac{\\Delta\\omega}{2}}cos[\\omega t - k_n (\\omega) x ] d \\omega$$\n",
    "\n",
    "Expand $k_n(\\omega)$ and neglect terms higher than ($\\omega - \\omega_0$) in the integration:\n",
    "\n",
    "$$k_n(\\omega) = k_n(\\omega_0) + (\\frac{dk_n}{d\\omega})_0(\\omega-\\omega_0)+...\n",
    "\\\\\n",
    "\\\\\n",
    "f_0 (x,t) \\approx \\frac{\\Delta\\omega}{\\pi} \\frac{sin(Y)}{Y} cos[\\omega_0 t - k_n (\\omega_0) x ]$$,\n",
    "\n",
    "where\n",
    "$$Y=\\frac{\\Delta \\omega}{2} [t-(\\frac{dk_n}{d\\omega})_0 x]$$.\n",
    "\n",
    "$\\textbf{Notes}$\n",
    "- $cos$ waveform of frequency $\\omega_0$ (phase) is modulated by $sin(Y/Y)$ (group)\n",
    "- Phase velocity is $\\frac{\\omega_0}{k_n(\\omega_0)}$\n",
    "- Group velocity is $(\\frac{d\\omega}{dk_n})_0$\n",
    "\n",
    "Can also consider spectra $|F(\\omega)|$ and phase $\\phi(\\omega)$...\n",
    "$$ f(x,t) = \\frac{1}{2\\pi} \\int^{\\infty}_{-\\infty} |F(\\omega)| e^{[-i\\omega t + i k_n x + i \\phi(\\omega)]}$$.\n",
    "\n",
    "No change to waveform in the nondispersive case (e.g., Rayleigh waves in a half-space):\n",
    "$$ f(x,t) = \\frac{1}{2\\pi} \\int F(\\omega) e^{[-i\\omega (t - x /c_n)]} d\\omega = f(t-x/c_n)$$\n",
    "\n",
    "Dispersive case: (Stationary phase method of waveform approximation) Use steepest descents integration along a constant phase ($-\\omega t+k_n x$) path where amplitude changes most rapidly. Path is along the $Re(\\omega)$ axis. Only contribution to integral is at or near saddle point, where phase is stationary or varies slowly with $\\omega$ (everywhere else is wildly varying and self-canceling). Stationary phase saddle point is defined by the frequency $\\omega_s = \\omega_s (x,t)$ for which:\n",
    "$$\\frac{d}{d\\omega}(-\\omega t + k_n x) = 0 \\Rightarrow \\frac{x}{t}=\\frac{d\\omega}{dk_n}$$\n",
    "which is the dominant frequency at x,t, or the freqeuncy for which the group velocity is equal to x/t. May be multiple frequencies that satisfy any x,t saddle point. The dispersive waveform for each $\\omega_s$ is:\n",
    "$$f(x,t) \\approx \\frac{|F(\\omega_s)|}{\\pi}\\sqrt{\\frac{\\pi}{x|\\frac{d^2 k_n}{d\\omega^2}|}} cos[-\\omega_s t + k_n (\\omega) x \\pm \\pi/4]$$.\n",
    "\n",
    "$\\textbf{Notes}$\n",
    "- Airy phases are those arrivals associated with group velocity that is stationary with respect to frequency (denominator in above expression vanishes, so we consider higher order terms in expansion which are in terms of the Airy function).\n",
    "\n",
    "\n",
    "\n",
    "\n"
   ]
  },
  {
   "cell_type": "markdown",
   "metadata": {},
   "source": [
    "### Figure 7.4\n",
    "Misalignments between a peak with period T in a dispersed wave train and the peak of the corresponding Fourier component. This is normal dispersion, where longer periods have greater velocity. Anomalous dispersion is when longer periods travel slower."
   ]
  },
  {
   "cell_type": "code",
   "execution_count": 14,
   "metadata": {
    "collapsed": false
   },
   "outputs": [],
   "source": [
    "img74=Image.open('fig7.4.jpg')\n",
    "img74.show() "
   ]
  },
  {
   "cell_type": "markdown",
   "metadata": {},
   "source": [
    "### Box 7.2\n",
    "see text"
   ]
  },
  {
   "cell_type": "code",
   "execution_count": 17,
   "metadata": {
    "collapsed": false
   },
   "outputs": [],
   "source": [
    "img72B=Image.open('box7.2_B.jpg')\n",
    "img72B.show()\n",
    "img72C=Image.open('box7.2_C.jpg')\n",
    "img72C.show()"
   ]
  },
  {
   "cell_type": "markdown",
   "metadata": {},
   "source": [
    "## 7.2 Basic Properties of Surface Waves"
   ]
  },
  {
   "cell_type": "markdown",
   "metadata": {},
   "source": [
    "#### Summary\n",
    "This section develops the idea of surface wave modal summation by first intuiting that the solution to the equation of motion subject to vanishing boundary conditions can take the form of an eigenvalue problem, and then proposing two methods to solve the system (i.e., direct numerical integration via Runge-Kutta, and Thompson-Haskell propagator matrices).\n",
    "\n",
    "Consider plane surface waves travelling in +x within a vertically-heterogeneous, isotropic, elastic medium with elastic moduli $\\lambda(z)$, $\\mu(z)$, and density $\\rho(z)$.\n"
   ]
  },
  {
   "cell_type": "markdown",
   "metadata": {},
   "source": [
    "#### Formulation of the Eigenvalue-Eigenvector Problem\n",
    "Solution to Eqn of Motion for Love Waves will take the form: $v=l_1(k,z,\\omega)e^{i(kx-\\omega t)}; u=z=0$ with tractions:\n",
    "$\\tau_{yz} = \\mu \\frac{d l_1}{dz} e^{i(kx - \\omega t)}$ and $\\tau_{xy} = i k \\mu l_1 e^{i(kx - \\omega t)}$. \n",
    "\n",
    "In this form, the equation of motion is:\n",
    "$$-\\omega^2 \\rho(z) l_1 = \\frac{d}{dz}[\\mu(z) \\frac{d l_1}{dz}] - k^2 \\mu(z) l_1$$\n",
    "\n",
    "Call $\\mu(z)\\frac{dl_1}{dz} = l_2(k,z,\\omega)$. This substitution and the result of substituting it into the equation of motion yield 2 first-order ODEs, which in matrix form is the eigenvalue system:\n",
    "\n",
    "$$\\frac{d}{dz} \\begin{pmatrix} l_1 \\\\ l_2 \\end{pmatrix} = \\begin{pmatrix} 0 & \\frac{1}{\\mu(z)} \\\\ k^2 \\mu(z) - \\omega^2 \\rho(z) & 0 \\end{pmatrix} \\begin{pmatrix} l_1 \\\\ l_2 \\end{pmatrix}$$.\n",
    "\n",
    "\"We shall refer to the vector $(l_1,l_2)^T$ as the motion-stress vector for Love waves and note that it is also the double transform of the (x,t) dependence of $(u_{y},\\tau_{yz})^T$ for general SH particle motion along the y-direction.\"\n",
    "\n",
    "Rayleigh waves:\n",
    "$$\\frac{d}{dz} \\begin{pmatrix} r_1 \\\\ r_2 \\\\ r_3 \\\\ r_4 \\end{pmatrix} = \n",
    "\\begin{pmatrix} 0 & k & \\frac{1}{\\mu(z)} & z \\\\ \\frac{-k\\lambda(z)}{\\lambda(z)+2\\mu(z)} & 0 & 0 & \\frac{1}{\\lambda(z)+2\\mu(z)}\\\\ k^2 \\zeta(z) - \\omega^2 \\rho(z) & 0 & 0 & \\frac{k\\lambda(z)}{\\lambda(z)+2\\mu(z)}\\\\ 0 & -\\omega^2 \\rho(z) & -k & 0 \\end{pmatrix} \n",
    "\\begin{pmatrix} r_1 \\\\ r_2 \\\\ r_3 \\\\ r_4 \\end{pmatrix}$$\n",
    "\n",
    "where $\\zeta(z) = 4 \\mu(z)\\frac{\\lambda(z) + \\mu(z)}{\\lambda(z) + 2\\mu(z)}$.\n",
    "\n",
    "\n",
    "\n",
    "\n"
   ]
  },
  {
   "cell_type": "markdown",
   "metadata": {},
   "source": [
    "#### Numerical Integration (Runge-Kutta) to Solve"
   ]
  },
  {
   "cell_type": "markdown",
   "metadata": {},
   "source": [
    "Displacement forced to zero at large z (i.e., $z=z_n$, a rigid boundary). \n",
    "\n",
    "For Love waves, start by integrating the equation system upwards from $z=z_n$ for a trial $k$ using the inital value $l_1(z_n)=0$. Obtain a vector $(l_1(k,z,\\omega),l_2(k,z,\\omega))$ for $z_0 \\lt z \\lt z_n$, and then iterate over $k$ until $l_2(k,z_0,\\omega)$ vanishes. The solution is an eigenvalue $k=k(\\omega)$ and an eigenfunction $(l_1(k,\\omega),l_2(k,\\omega))$.\n",
    "\n",
    "For Rayleigh waves, follow similar procedure for 2 different sets of initial values at $z=z_n$: (1) $r_1=r_2=0$ and $r_3=1$ and $r_4=0$; (2) $r_1=r_2=0$ and $r_3=0$ and $r_4=1$, such that the eigenvector $r = A r^{(1)} + B r^{(2)}$ is resolved into a nontrivial vanishing solution through iterating over the eigenvalue as above.\n",
    "\n",
    "Another way to approach the numerical integration is to assume a homogeneous half-space below $z_n$ by setting the lower initial values to exponential decay. FOr small $\\omega/k$, this approach is numerically indistinguishable from the rigid boundary condition."
   ]
  },
  {
   "cell_type": "markdown",
   "metadata": {},
   "source": [
    "#### Thomson-Haskell Propagator Matrix Method to Solve"
   ]
  },
  {
   "cell_type": "markdown",
   "metadata": {},
   "source": [
    "Generalize equation system in matrix form (solved for L and R separately) as:\n",
    "$$\\frac{df(z)}{dz} = A(z) f(z)$$\n",
    "\n",
    "The propagator matrix is:\n",
    "$$P(z,z_0) = I + \\int^{z}_{z_0} A(\\zeta_1) d \\zeta_1 + \\int^{z}_{z_0} A(\\zeta_1) \\int^{\\zeta_1}_{z_0} A(\\zeta_1) d \\zeta_2 d \\zeta_1 + . . .$$ where P(z,z_0) satisfies the generalized equation system and $P(z,z_0) = I$. \n",
    "\n",
    "It follows that:\n",
    "$$f(z) = P(z,z_0) f(z_0)$$\n",
    "meaning P operates on the motion-stress vector at $z_0$ to generate the motion-stress vector at $z$.\n",
    "\n",
    "2 more properties of P:\n",
    "$$f(z_2) = P(z_2,z_1) P(z_1,z_0) f(z_0)$$\n",
    "$$I=P(z_0,z_1)P(z_1,z_0)$$"
   ]
  },
  {
   "cell_type": "markdown",
   "metadata": {},
   "source": [
    "If the model is assumed to be the stack of homogeneous layers, then $A$ within a layer is constant, such that (for Love waves):\n",
    "$$P(z,z_0) = e^{(z-z_0)A} = \\begin{pmatrix} cosh (\\nu (z-z_0)) & \\frac{sinh(\\nu (z-z_0))}{\\nu \\mu} \\\\ \\nu\\mu sinh( \\nu (z-z_0)) & cosh (\\nu (z-z_0)) \\end{pmatrix}$$\n",
    "where $\\nu=\\sqrt{k^2-\\omega^2/\\beta^2}$ comes from exapnsion of A with distinct eigenvalues. For Rayleigh waves, the elements of P(z,z_0)  are difference combinations of hyperbolic sine functions and the eigenvalues are $\\pm \\nu=\\sqrt{k^2-\\omega^2/\\beta^2}$ and $\\pm \\gamma=\\sqrt{k^2-\\omega^2/\\alpha^2}$.\n",
    "\n",
    "Thus, for a layered media, the propagator matrix $P(z,z_0)$ for $z_{k-1} \\lt z \\lt z_k$ is found from:\n",
    "$$f(z) = P(z,z_{k-1})P(z_{k-1},z_{k-2})...P(z_1,z_0)f(z_0)=P(z,z_0)f(z_0)$$\n",
    "$$P(z,z_0) = e^{(z-z_{k-1})A_k}\\Pi_{l=1}^{k-1}e^{(z_l-z_{l-1})A_l}$$"
   ]
  },
  {
   "cell_type": "markdown",
   "metadata": {},
   "source": [
    "The proagator matrix can also be used to solve the system with a source term,\n",
    "$$\\frac{df(z)}{dz} = A(z) f(z)+g(z)$$\n",
    "where $g(z)$ is a known n x 1 matrix function of z."
   ]
  },
  {
   "cell_type": "markdown",
   "metadata": {},
   "source": [
    "#### Box 7.5 (p.275): On avoiding potentials\n",
    "\"...understanding elastic wave potentials, and solving for them, is an important learning process. But it is better to move on to the use of matrix methods for solving the relevant wave equations. We shall occasionally use potentials in the pages that follow, but for the most part we shall emphasize an understanding of $f(z)=P(z,z_0)f(f_0)$ and $f(z) = F(z)w$. A connection between potentials and the layer matrix F is developed in Problem 5.11."
   ]
  },
  {
   "cell_type": "markdown",
   "metadata": {},
   "source": [
    "#### Practical problems encountered in the application of Thomson-Haskell (p.274)\n",
    "\"Radiation conditions are imposed on certain waves at infinity, rather than by constraining the motion-stress vector directly...the relation for SH-waves in a homogeneous body is:\"\n",
    "\n",
    "$$\\begin{pmatrix} l_1 \\\\ l_2 \\end{pmatrix} = \\begin{pmatrix} e^{-\\nu z} & e^{\\nu z} \\\\ -\\nu\\mu e^{-\\nu z} & e^{-\\nu z} \\end{pmatrix} \\begin{pmatrix} S' \\\\ S'' \\end{pmatrix}$$.\n",
    "\n",
    "which is abbreviated $l=Fw$, where $\\nu=\\sqrt{k^2-\\omega^2/\\beta^2}$, $\\beta=\\sqrt{\\mu/\\rho}$, and $S'$ and $S''$ are the displacement amplitude constants for downgoing and upgoing waves.\n",
    "\n",
    "The inverse of $w=F^{-1}l$ is used to express the amplitudes of the upgoing and downgoing waves in the lower half-space in terms of the motion-stress vector at the free surface $z=z_0$ as:\n",
    "$$w_{n+1}=F_{n+1}^{-1}P(z_n,z_0)l(z_0)=Bl(z_0)$$\n",
    "\n",
    "Since $S''_{n+1}=0$ and $l_2(z_0)=0$: \n",
    "$$\\begin{pmatrix} S'_{n+1} \\\\ 0 \\end{pmatrix} = \\begin{pmatrix} B_{11} & B_{12} \\\\ B_{21} & B_{22} \\end{pmatrix} \\begin{pmatrix} l_1(z_0) \\\\ 0 \\end{pmatrix}$$\n",
    "\n",
    "Thus, we can determine a nontrivial solution for $l$ by finding the root of this equation for a trial value of $k$ such that $B_{21}=0$. For known $\\omega$ and $k$, on can calculate the value of $B_{21}$ by matmul through $w=Bl$ for a layer's parameters. Then k is changed slightly, and the resulting change in $B_{21}$ is monitored. Once the eigenvalue is found, the eigenfunction can be calculated using the propagator matrices...So this is basically just imposing another condition on the solution.\n",
    "\n",
    "A similar approach can be extended to Rayleigh waves by finding a relation between the motion-stress vector $(r_1,r_2,r_3,r_4)$ and the displacement amplitudes $(P',S',P'',S'')$ describing the presence of each waves in the P-SV system for each layer."
   ]
  },
  {
   "cell_type": "markdown",
   "metadata": {},
   "source": [
    "#### Box 7.6: Mixture of solid and liquid layers (p.277)\n",
    "Love waves $\\rightarrow$ liquid-solid interface becomes free surface; liquid layers behave like vacuum\n",
    "\n",
    "Rayleigh waves $\\rightarrow$ continuous normal stress and normal displacement across liquid-solid interface; shear stress vanishes in liquid layer (but normal stress and normal displacement do not)"
   ]
  },
  {
   "cell_type": "code",
   "execution_count": null,
   "metadata": {
    "collapsed": true
   },
   "outputs": [],
   "source": []
  }
 ],
 "metadata": {
  "anaconda-cloud": {},
  "kernelspec": {
   "display_name": "Python [Root]",
   "language": "python",
   "name": "Python [Root]"
  },
  "language_info": {
   "codemirror_mode": {
    "name": "ipython",
    "version": 3
   },
   "file_extension": ".py",
   "mimetype": "text/x-python",
   "name": "python",
   "nbconvert_exporter": "python",
   "pygments_lexer": "ipython3",
   "version": "3.5.0rc4"
  }
 },
 "nbformat": 4,
 "nbformat_minor": 0
}
