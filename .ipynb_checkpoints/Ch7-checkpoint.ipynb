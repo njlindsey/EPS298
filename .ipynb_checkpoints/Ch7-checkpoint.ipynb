{
 "cells": [
  {
   "cell_type": "code",
   "execution_count": 2,
   "metadata": {
    "collapsed": true
   },
   "outputs": [],
   "source": [
    "from PIL import Image\n",
    "%matplotlib inline"
   ]
  },
  {
   "cell_type": "markdown",
   "metadata": {},
   "source": [
    "# Chapter 7 \n",
    "Surface Waves in a Vertically Heterogeneous Medium\n",
    "\n",
    "#### Introductory remarks\n",
    " - Geometrical spreading effect is less for surface waves than for body waves because energy spreads in 2 rather than 3 dimensions\n",
    " - Surface-wave propagation characteristics (phase and group velocity, attenuation) have been used to delineate Earth structure, and their source spectra and radiation patterns have been used to locate and study earthquakes, and for nuclear discrimination\n",
    "\n",
    "#### Aims:\n",
    " - Describe basic properties of seismic surface waves traveling in a layered medium with a free surface\n",
    " - Derive formulae for amplitude and phase spectra due to arbitrary point sources\n",
    " - Represent the total wave field as a sum of normal modes and leaky modes"
   ]
  },
  {
   "cell_type": "markdown",
   "metadata": {},
   "source": [
    "## 7.1 Basic Properties of Surface Waves"
   ]
  },
  {
   "cell_type": "markdown",
   "metadata": {},
   "source": [
    "#### Preliminaries (p. 249)\n",
    "Consider a vertically-heterogeneous medium with surface waves propagativng in a +x horizontal Cartesian coordinate system. \n",
    "\n",
    "3 general conditions for surface wave solutions:\n",
    " - Satisfy equation of motion\n",
    " - Zero tractions at $z=0$ (free surface)\n",
    " - Zero amplitude at $z=\\infty$ (no energy supplied there)\n",
    "\n",
    "From these restrictions, solutions to the wave equation will take the form:\n",
    "\n",
    "$$ \\textbf{u}(x,y,z,t) = \\textbf{Z}(z) e^{i(kx-\\omega t)} $$\n",
    "\n",
    "Note that this form will only have z-derivatives in the wave equation.\n",
    "\n",
    "Nontrivial solutions of this form do not exist unless $k(\\omega)$ $\\Rightarrow$ Eigenvalue problem \n",
    "( eigenvalues :: $k_n(\\omega)$, \n",
    "eigenfunctions :: $\\textbf{u}_n z$ )\n",
    "\n",
    "Thus, any surface wave traveling with frequency $\\omega$ will potentially have unique and ordered wavenumbers $k_0(\\omega) \\gt k_1(\\omega) \\gt k_2(\\omega) \\gt k_3(\\omega) ...$ and corresponding phase velocities $c_n = \\omega/k_n$"
   ]
  },
  {
   "cell_type": "markdown",
   "metadata": {},
   "source": [
    "#### Box 7.1: Initial assumptions\n",
    "Surface waves in seismology are functions of wavenumber. So where previously we thought of the steady-state wave solution as moving in x, z, and t, now we find steady state solutions that are functions of k, z, and $\\omega$:\n",
    "\n",
    "$$ \\frac{\\partial}{\\partial t} \\textbf{u}(x,t) = -i\\omega \\textbf{u}(k, z, \\omega),\n",
    "\\\\\n",
    "\\frac{\\partial}{\\partial x} \\textbf{u}(x,t) = +i k \\textbf{u}(k, z, \\omega)$$."
   ]
  },
  {
   "cell_type": "markdown",
   "metadata": {},
   "source": [
    "#### Planar Love waves in a layer (1) of thickness z=H over a half-space (2) (bottom p. 250)\n",
    "\n",
    "Consider how the y-comp of displacement ($v$) satisfies the wave equation:\n",
    "\n",
    "$$\\frac{\\partial^2 v}{\\partial t^2} = \\frac{\\mu_1}{\\rho_1} (\\frac{\\partial^2 v}{\\partial x^2} + \\frac{\\partial^2 v}{\\partial z^2}), 0 \\lt z \\lt H\n",
    "\\\\\n",
    "\\frac{\\partial^2 v}{\\partial t^2} = \\frac{\\mu_2}{\\rho_2} (\\frac{\\partial^2 v}{\\partial x^2} + \\frac{\\partial^2 v}{\\partial z^2}), z \\gt H$$\n",
    "\n",
    "Attempt solution in form above:\n",
    "\n",
    "$$ \\textbf{v}(x,z,t) = [S'_1 e^{- v_1 z}+S''_1 e^{v_1 z}] e^{i(kx-\\omega t)}, 0 \\lt z \\lt H \n",
    "\\\\\n",
    "\\textbf{v}(x,z,t) = [S'_2 e^{- v_2 z}+S''_2 e^{v_2 z}] e^{i(kx-\\omega t)}, z \\gt H $$\n",
    "\n",
    "where\n",
    "\n",
    "$$ v_i = \\sqrt{k^2 - \\omega ^2 / \\beta_i^2}\n",
    "\\\\\n",
    "Re (v_i) \\geq 0\n",
    "\\\\\n",
    "\\beta_i = \\sqrt{\\mu_i / \\rho_i}\n",
    "\\\\\n",
    "\\Rightarrow Im (v_i) \\leq 0$$\n",
    "\n",
    "Apply conditions and reduce 4 unknown constants to 2 unknowns ($S'_1$ and $S'_2$) and 2 equations:\n",
    "- Assume that $\\beta_1<\\beta_2$ \n",
    "- BC @ z $\\rightarrow \\infty $: only downgoing (homogeneous) waves $\\Rightarrow S''_2 = 0$ \n",
    "- BC @ z = 0: iff $\\frac{\\partial v }{\\partial z} = 0$ at z = 0 $\\Rightarrow S'_1=S''_1$\n",
    "- For continuity at z=H:\n",
    "$$ 2S'_1 cos(i v_1 H) = S'_2 e^{-v_2 H}\n",
    "\\\\\n",
    "2i\\mu_1 v_1 S'_1 sin(i v_1 H) = \\mu_2 v_2 S'_2 e^{-v_2 H} $$\n",
    "\n",
    "Rewrite:\n",
    "$$ \\frac{S'_2}{S'_1} = \\frac{2cos(i v_1 H)}{e^{-v_2 H}} = \\frac{2i\\mu_1 v_1 sin(i v_1 H)}{\\mu_2 v_2 e^{-v_2 H} } \\Rightarrow \\frac{sin(i v_1 H)}{cos(i v_1 H)} - \\frac{\\mu_2 v_2 }{i\\mu_1 v_1}$$\n",
    "\n",
    "Solutions (roots) of F(k) = 0, are the wavenumber eigenvalues $k_n$:\n",
    "\n",
    "$$F(k) \\equiv tan(i v_1 H) - \\frac{\\mu_2 v_2 }{i\\mu_1 v_1} $$.\n",
    "\n",
    "Or, solutions (roots) of \n",
    "\n",
    "$$tan(\\omega H \\sqrt{\\frac{1}{\\beta_1^2} - \\frac{1}{c^2}}) = \\frac{\\mu_2}{\\mu_1} \\frac{\\sqrt{\\frac{1}{c^2}-\\frac{1}{\\beta_1^2}}}{\\sqrt{\\frac{1}{\\beta_1^2} - \\frac{1}{c^2}}} $$\n",
    "\n",
    "give phase-velocity eigenvalues $c_n = \\omega / k_n$.\n",
    "\n",
    "The corresponding eigenfunctions $v_n$ are obtained by substitution of 7.4 into 7.2, where $S''_2 = 0$ and $S'_1=S''_1$, once the phase velocity (eigenvalue) is known:\n",
    "\n",
    "$$ \\textbf{v}(x,z,t) = 2 S'_1 cos(\\omega z \\sqrt{\\frac{1}{\\beta_1^2} - \\frac{1}{c_n^2}}) e^{i(k_n x-\\omega t)}, 0 \\lt z \\lt H \n",
    "\\\\\n",
    "\\textbf{v}(x,z,t) = 2 S'_1 cos(\\omega H \\sqrt{\\frac{1}{\\beta_1^2} - \\frac{1}{c_n^2}}) e^{-(\\omega \\sqrt{\\frac{1}{c_n^2}-\\frac{1}{\\beta_1^2}} (z-H))} e^{i(k_n x-\\omega t)}, z \\gt H $$\n",
    "\n",
    "\n",
    "$\\textbf{Notes}$\n",
    "- Layer displacements have sinusoidal oscillation with depth; half-space has exponential decay with depth\n",
    "- For a given frequency and model layer geometery, there are a finite number of real roots. $\\omega = 0 \\Rightarrow$ one root (fundamental mode); in the general case (cut-off frequency of the nth higher mode): \n",
    "\n",
    "$$\\omega_{cn} = \\frac{n \\pi \\beta_1}{H}/\\sqrt{1-\\frac{\\beta_1^2}{\\beta_2^2}}$$\n",
    "\n",
    "- At cut-off frequency, $c = \\beta_2$ for all modes; \n",
    "- As $\\omega \\rightarrow \\infty, c \\rightarrow \\beta_1$\n",
    "- Relative excitation of differents modes depnds on the depth and nature of the source.\n",
    "\n"
   ]
  },
  {
   "cell_type": "markdown",
   "metadata": {},
   "source": [
    "### Figure 7.2\n",
    "A graphic solution of equation (7.6) for the dispersion of Love waves in a signle layer over a half-space.\n"
   ]
  },
  {
   "cell_type": "code",
   "execution_count": 3,
   "metadata": {
    "collapsed": false
   },
   "outputs": [],
   "source": [
    "img72=Image.open('fig7.2.jpg')\n",
    "img72.show() "
   ]
  },
  {
   "cell_type": "markdown",
   "metadata": {},
   "source": [
    "### Figure 7.3\n",
    "Schematic diagram of phase velocities for the fundametnal mode (n=0) and the next three higher modes, plotted against frequency."
   ]
  },
  {
   "cell_type": "code",
   "execution_count": 4,
   "metadata": {
    "collapsed": false
   },
   "outputs": [],
   "source": [
    "img73=Image.open('fig7.3.jpg')\n",
    "img73.show() "
   ]
  },
  {
   "cell_type": "markdown",
   "metadata": {},
   "source": [
    "#### Group velocity vs. Phase velocity (bottom p. 253)\n",
    "\n",
    "Consider group velocity as a waveform with continuous spectrum by integrating over a cosine wave with a finte frequency band:\n",
    "\n",
    "$$ f_0 (x,t) = \\frac{1}{\\pi} \\int^{\\omega_0+\\frac{\\Delta\\omega}{2}}_{\\omega_0-\\frac{\\Delta\\omega}{2}}cos[\\omega t - k_n (\\omega) x ] d \\omega$$\n",
    "\n",
    "Expand $k_n(\\omega)$ and neglect terms higher than ($\\omega - \\omega_0$) in the integration:\n",
    "\n",
    "$$k_n(\\omega) = k_n(\\omega_0) + (\\frac{dk_n}{d\\omega})_0(\\omega-\\omega_0)+...\n",
    "\\\\\n",
    "\\\\\n",
    "f_0 (x,t) \\approx \\frac{\\Delta\\omega}{\\pi} \\frac{sin(Y)}{Y} cos[\\omega_0 t - k_n (\\omega_0) x ]$$,\n",
    "\n",
    "where\n",
    "$$Y=\\frac{\\Delta \\omega}{2} [t-(\\frac{dk_n}{d\\omega})_0 x]$$.\n",
    "\n",
    "$\\textbf{Notes}$\n",
    "- $cos$ waveform of frequency $\\omega_0$ (phase) is modulated by $sin(Y/Y)$ (group)\n",
    "- Phase velocity is $\\frac{\\omega_0}{k_n(\\omega_0)}$\n",
    "- Group velocity is $(\\frac{d\\omega}{dk_n})_0$\n",
    "\n",
    "Can also consider spectra $|F(\\omega)|$ and phase $\\phi(\\omega)$...\n",
    "$$ f(x,t) = \\frac{1}{2\\pi} \\int^{\\infty}_{-\\infty} |F(\\omega)| e^{[-i\\omega t + i k_n x + i \\phi(\\omega)]}$$.\n",
    "\n",
    "No change to waveform in the nondispersive case (e.g., Rayleigh waves in a half-space):\n",
    "$$ f(x,t) = \\frac{1}{2\\pi} \\int F(\\omega) e^{[-i\\omega (t - x /c_n)]} d\\omega = f(t-x/c_n)$$\n",
    "\n",
    "Dispersive case: (Stationary phase method of waveform approximation) Use steepest descents integration along a constant phase ($-\\omega t+k_n x$) path where amplitude changes most rapidly. Path is along the $Re(\\omega)$ axis. Only contribution to integral is at or near saddle point, where phase is stationary or varies slowly with $\\omega$ (everywhere else is wildly varying and self-canceling). Stationary phase saddle point is defined by the frequency $\\omega_s = \\omega_s (x,t)$ for which:\n",
    "$$\\frac{d}{d\\omega}(-\\omega t + k_n x) = 0 \\Rightarrow \\frac{x}{t}=\\frac{d\\omega}{dk_n}$$\n",
    "which is the dominant frequency at x,t, or the freqeuncy for which the group velocity is equal to x/t. May be multiple frequencies that satisfy any x,t saddle point. The dispersive waveform for each $\\omega_s$ is:\n",
    "$$f(x,t) \\approx \\frac{|F(\\omega_s)|}{\\pi}\\sqrt{\\frac{\\pi}{x|\\frac{d^2 k_n}{d\\omega^2}|}} cos[-\\omega_s t + k_n (\\omega) x \\pm \\pi/4]$$.\n",
    "\n",
    "$\\textbf{Notes}$\n",
    "- Airy phases are those arrivals associated with group velocity that is stationary with respect to frequency (denominator in above expression vanishes, so we consider higher order terms in expansion which are in terms of the Airy function).\n",
    "\n",
    "\n",
    "\n",
    "\n"
   ]
  },
  {
   "cell_type": "markdown",
   "metadata": {},
   "source": [
    "### Figure 7.4\n",
    "Misalignments between a peak with period T in a dispersed wave train and the peak of the corresponding Fourier component. This is normal dispersion, where longer periods have greater velocity. Anomalous dispersion is when longer periods travel slower."
   ]
  },
  {
   "cell_type": "code",
   "execution_count": 14,
   "metadata": {
    "collapsed": false
   },
   "outputs": [],
   "source": [
    "img74=Image.open('fig7.4.jpg')\n",
    "img74.show() "
   ]
  },
  {
   "cell_type": "markdown",
   "metadata": {},
   "source": [
    "### Box 7.2\n",
    "see text"
   ]
  },
  {
   "cell_type": "code",
   "execution_count": 17,
   "metadata": {
    "collapsed": false
   },
   "outputs": [],
   "source": [
    "img72B=Image.open('box7.2_B.jpg')\n",
    "img72B.show()\n",
    "img72C=Image.open('box7.2_C.jpg')\n",
    "img72C.show()"
   ]
  },
  {
   "cell_type": "markdown",
   "metadata": {},
   "source": [
    "## 7.2 Basic Properties of Surface Waves"
   ]
  },
  {
   "cell_type": "markdown",
   "metadata": {},
   "source": []
  }
 ],
 "metadata": {
  "anaconda-cloud": {},
  "kernelspec": {
   "display_name": "Python [Root]",
   "language": "python",
   "name": "Python [Root]"
  },
  "language_info": {
   "codemirror_mode": {
    "name": "ipython",
    "version": 3
   },
   "file_extension": ".py",
   "mimetype": "text/x-python",
   "name": "python",
   "nbconvert_exporter": "python",
   "pygments_lexer": "ipython3",
   "version": "3.5.0rc4"
  }
 },
 "nbformat": 4,
 "nbformat_minor": 0
}
