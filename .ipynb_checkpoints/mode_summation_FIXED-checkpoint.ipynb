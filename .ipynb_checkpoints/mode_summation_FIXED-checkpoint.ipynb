{
 "cells": [
  {
   "cell_type": "code",
   "execution_count": 7,
   "metadata": {
    "collapsed": false
   },
   "outputs": [],
   "source": [
    "import numpy as np\n",
    "import math\n",
    "import matplotlib.pyplot as plt\n",
    "import time\n",
    "import scipy as sp\n",
    "from scipy import interpolate\n",
    "from scipy.optimize import root\n",
    "import obspy\n",
    "import random\n",
    "from cdh_mc import Model\n",
    "from modal_sum import calc_nu, P_tl, P_tr, P_bl, P_br,F_tl, F_tr, F_bl, F_br, Pprecise_tl, Pprecise_tr, Pprecise_bl, Pprecise_br,amplifyP"
   ]
  },
  {
   "cell_type": "code",
   "execution_count": 8,
   "metadata": {
    "collapsed": false
   },
   "outputs": [],
   "source": [
    "params_dict = { 'min_layers':4, 'max_layers':4,  'min_rho':1, 'max_rho':3, 'min_vel':1, 'max_vel':3,\n",
    "                  'min_depth':0, 'max_depth':300,} # units: N/A; g/cc; km/s; km\\n\",\n",
    "model = Model(params_dict)\n",
    "#model.layer_1.mu = 2"
   ]
  },
  {
   "cell_type": "code",
   "execution_count": 9,
   "metadata": {
    "collapsed": false
   },
   "outputs": [
    {
     "data": {
      "text/plain": [
       "0.015625"
      ]
     },
     "execution_count": 9,
     "metadata": {},
     "output_type": "execute_result"
    }
   ],
   "source": [
    "1/64"
   ]
  },
  {
   "cell_type": "code",
   "execution_count": 10,
   "metadata": {
    "collapsed": false
   },
   "outputs": [],
   "source": [
    "z = model.no_layers\n",
    "\n",
    "nk = 1000\n",
    "\n",
    "nyquist = 1.0*(2*np.pi) # 1 hz\n",
    "nw = 64\n",
    "dw = nyquist/nw\n",
    "\n",
    "w = np.arange(dw, nyquist+dw, dw)\n",
    "\n",
    "model.layer_1.upper_interface = 0 \n",
    "model.layer_1.lower_interface = 4 #h1 = 4 km\n",
    "model.layer_1.h = 4\n",
    "model.layer_2.upper_interface = 4 \n",
    "model.layer_2.lower_interface = 29 #h2 = 25 km\n",
    "model.layer_2.h = 25\n",
    "# model.layer_3.upper_interface = 29\n",
    "# model.layer_3.lower_interface = 129 #h3 = 100 km\n",
    "# model.layer_3.h = 100\n",
    "\n",
    "model.layer_1.velocity = 2.4*100000 # 2.4*10^5 cm/s\n",
    "model.layer_2.velocity = 3.5*100000\n",
    "model.layer_3.velocity = 4.5*100000\n",
    "beta_max = max([model.layer_1.velocity,model.layer_2.velocity,model.layer_3.velocity])\n",
    "beta_min = min([model.layer_1.velocity,model.layer_2.velocity,model.layer_3.velocity])\n",
    "\n",
    "model.layer_1.density = 2.0 # 2 g/cm^3\n",
    "model.layer_2.density = 2.67\n",
    "#model.layer_3.density = 3.3\n",
    "\n",
    "model.layer_1.mu = model.layer_1.velocity**2 * model.layer_1.density\n",
    "model.layer_2.mu = model.layer_2.velocity**2 * model.layer_2.density\n",
    "#model.layer_3.mu = model.layer_3.velocity**2 * model.layer_3.density"
   ]
  },
  {
   "cell_type": "code",
   "execution_count": 11,
   "metadata": {
    "collapsed": false
   },
   "outputs": [],
   "source": [
    "z = model.layer_1.h * 100000 #set z thickness to be the top layer\n",
    "\n",
    "K = np.zeros((len(w))) #preallocate for final wavenumbers, to be filled by the search\n",
    "    \n",
    "for wn,wi in enumerate(w): #iterate through ang. frequency\n",
    "    \n",
    "    kmin = wi/beta_max; #wavenumber range is changing with every frequency\n",
    "    kmax = wi/beta_min;\n",
    "    k = np.arange(0, kmax+kmin/nk, kmin/nk)\n",
    "    B = np.zeros((len(k),2,2)) + 0j #preallocate the B matrix for this frequency with complex zeros\n",
    "    \n",
    "    for kn,ki in enumerate(k): #iterate through wavenumber\n",
    "         \n",
    "################################################################\n",
    "# ALEX: implement this convention after we get it working...\n",
    "#             layer = z+1\n",
    "#             layer_object = getattr(model, \\\"layer_%i\\\" % layer)\n",
    "#             beta = layer_object.velocity\n",
    "\n",
    "        nu1 = calc_nu(ki, wi, model.layer_1.velocity); #set vertical slowness for each layer\n",
    "        nu2 = calc_nu(ki, wi, model.layer_2.velocity);\n",
    "        #nu3 = calc_nu(k, w, model.layer_3.velocity)\n",
    "\n",
    "#             mu1 = model.layer_1.mu\n",
    "#             mu2 = model.layer_2.mu\n",
    "#             #mu3 = model.layer_3.mu\n",
    "\n",
    "#             h1 = model.layer_1.h\n",
    "#             h2 = model.layer_1.h\n",
    "#             #h3 = model.layer_1.h\n",
    "################################################################\n",
    "\n",
    "        #calc F matrix\\n\",\n",
    "        F = (1/(2*nu2*model.layer_2.mu))*np.array([[F_tl(nu2, z, model.layer_2.mu), F_tr(nu2, z, model.layer_2.mu)],\n",
    "                                              [F_bl(nu2, z, model.layer_2.mu), F_br(nu2, z, model.layer_2.mu)]])\n",
    "\n",
    "        #calc P matrix\n",
    "        P = np.array([[P_tl(nu1, z), P_tr(nu1, z, model.layer_1.mu)],\n",
    "                      [P_bl(nu1, z, model.layer_1.mu), P_br(nu1, z)]]);\n",
    "#         P = np.array([[Pprecise_tl(nu1, z), Pprecise_tr(nu1, z, model.layer_1.mu)],\n",
    "#                       [Pprecise_bl(nu1, z, model.layer_1.mu), Pprecise_br(nu1, z)]]);\n",
    "\n",
    "#         P = amplifyP(P,nu1,model.layer_1.mu)\n",
    "\n",
    "#         print(P)\n",
    "     \n",
    "        #fill B matrix\n",
    "        B[kn] = np.matmul(F,P) #equivalent to * in matlab\n",
    "\n",
    "\n",
    "# #B = []\n",
    "# for z in range(z-2):\n",
    "#     for wn,wi in enumerate(w):\n",
    "#         kmin = w/beta_max\n",
    "#         kmax = w/beta_min\n",
    "#         for k in np.arange(kmin, kmax, kmin/nk):\n",
    "\n",
    "#             current = z+1\n",
    "#             below = z+2\n",
    "#             current_layer = getattr(model, \"layer_%i\" % current)\n",
    "#             layer_below = getattr(model, \"layer_%i\" % below)\n",
    "\n",
    "#             F = np.array([[F_tl(calc_nu(k, w, current_layer.velocity), current_layer.h, current_layer.mu), #Fn\n",
    "#                            F_tr(calc_nu(k, w, current_layer.velocity), current_layer.h, current_layer.mu)], \n",
    "#                           [F_bl(calc_nu(k, w, current_layer.velocity), current_layer.h, current_layer.mu), \n",
    "#                            F_br(calc_nu(k, w, current_layer.velocity), current_layer.h, current_layer.mu)]]) \n",
    "\n",
    "#             P = np.array([[P_tl(calc_nu(k, w, layer_below.velocity), layer_below.h), #Pn+1\n",
    "#                            P_tr(calc_nu(k, w, layer_below.velocity), layer_below.h, layer_below.mu)],\n",
    "#                           [P_bl(calc_nu(k, w, layer_below.velocity), layer_below.h, layer_below.mu), \n",
    "#                            P_br(calc_nu(k, w, layer_below.velocity), layer_below.h)]]) \n",
    "\n",
    "# #         print(B)\n",
    "    B21 = np.real(B[:,1,0]) #grab the B21 component of B, which is a 1 x k vector now\n",
    "\n",
    "    IB21 = np.imag(B[:,1,0]) #find where B21 goes real\n",
    "    J = np.where(IB21 == 0)[0]\n",
    "    A = B21[J] \n",
    "\n",
    "    L = np.where(np.abs(A) < 0.01) #find a real, stable minimum value of B21\n",
    "    K[wn] = np.max(k[J[L]]) #retrieve the wavenumber associated with this value\""
   ]
  },
  {
   "cell_type": "code",
   "execution_count": 13,
   "metadata": {
    "collapsed": true
   },
   "outputs": [],
   "source": [
    "#phase velocity\n",
    "c=w/K"
   ]
  },
  {
   "cell_type": "code",
   "execution_count": 14,
   "metadata": {
    "collapsed": false
   },
   "outputs": [],
   "source": [
    "fig,ax = plt.subplots(1,2,figsize=(16,6))\n",
    "ax[0].plot(w/(2*np.pi),K)\n",
    "ax[0].set_title('k vs f')\n",
    "\n",
    "ax[1].plot(w/(2*np.pi),c/100000,'g-')\n",
    "ax[1].set_title('phase velocity vs f');\n",
    "\n",
    "\n",
    "plt.rcParams.update({'font.size': 22})"
   ]
  },
  {
   "cell_type": "code",
   "execution_count": 15,
   "metadata": {
    "collapsed": false
   },
   "outputs": [],
   "source": [
    "z=np.arange(0,41,1)*100000;\n",
    "\n",
    "L1 = np.zeros(np.shape(z)) + 0j\n",
    "L2 = np.zeros(np.shape(z)) + 0j\n",
    "\n",
    "ki = K[9];\n",
    "wi = w[9];\n",
    "\n",
    "for zn,zi in enumerate(z): #start from the top\n",
    "    \n",
    "    nu = calc_nu(ki, wi, [model.layer_1.velocity,model.layer_2.velocity,model.layer_3.velocity]); #vert. slownesses\\n\",\n",
    "    if zi <= model.layer_1.h*100000: #still inside the first layer\n",
    "        P = np.array([[P_tl(nu[0], zi), P_tr(nu[0], zi, model.layer_1.mu)],\n",
    "                      [P_bl(nu[0], zi, model.layer_1.mu), P_br(nu[0], zi)]]);\n",
    "\n",
    "    if zi > model.layer_1.h*100000: #now inside the 2nd layer\n",
    "        z0=model.layer_1.h*100000; #need to now think of z as the distance from the bottom of the first layer\n",
    "        P1 = np.array([[P_tl(nu[1], (zi-z0)), P_tr(nu[1], (zi-z0), model.layer_2.mu)],\n",
    "                      [P_bl(nu[1], (zi-z0), model.layer_2.mu), P_br(nu[1], (zi-z0))]]);\n",
    "        \n",
    "        P = np.matmul(P1,np.array([[P_tl(nu[0], z0), P_tr(nu[0], z0, model.layer_1.mu)],\n",
    "                      [P_bl(nu[0], z0, model.layer_1.mu), P_br(nu[0], z0)]]));\n",
    "\n",
    "    L1[zn] = P[0,0];\n",
    "    L2[zn] = P[1,0];"
   ]
  },
  {
   "cell_type": "code",
   "execution_count": 16,
   "metadata": {
    "collapsed": false
   },
   "outputs": [
    {
     "name": "stderr",
     "output_type": "stream",
     "text": [
      "/Users/Alex/Programs/anaconda/lib/python3.5/site-packages/numpy/core/numeric.py:482: ComplexWarning: Casting complex values to real discards the imaginary part\n",
      "  return array(a, dtype, copy=False, order=order)\n"
     ]
    }
   ],
   "source": [
    "fig,ax = plt.subplots(1,2,figsize=(16,6));\n",
    "ax[0].plot(z/100000,L1);\n",
    "ax[0].set_title('L1 vs z');\n",
    "\n",
    "ax[1].plot(z/100000,L2,'g-');\n",
    "ax[1].set_title('L2 vs z');\n",
    "\n",
    "\n",
    "plt.rcParams.update({'font.size': 22})"
   ]
  },
  {
   "cell_type": "code",
   "execution_count": 17,
   "metadata": {
    "collapsed": true
   },
   "outputs": [],
   "source": [
    "z=np.arange(0,41,1)*100000;\n",
    "\n",
    "L1 = np.zeros((len(z),len(K))) + 0j\n",
    "L2 = np.zeros((len(z),len(K))) + 0j\n",
    "\n",
    "ki = K[4];\n",
    "wi = w[4];\n",
    "\n",
    "for zn,zi in enumerate(z): #start from the top\n",
    "    \n",
    "    for i in range(len(K)):\n",
    "        nu = calc_nu(K[i], w[i], [model.layer_1.velocity,model.layer_2.velocity,model.layer_3.velocity]); #vert. slownesses\n",
    "\n",
    "        if zi <= model.layer_1.h*100000: #still inside the first layer\n",
    "            P = np.array([[Pprecise_tl(nu[0], zi), Pprecise_tr(nu[0], zi, model.layer_1.mu)],\n",
    "                          [Pprecise_bl(nu[0], zi, model.layer_1.mu), Pprecise_br(nu[0], zi)]]);\n",
    "#             P = np.array([[P_tl(nu[0], zi), P_tr(nu[0], zi, model.layer_1.mu)],\n",
    "#                           [P_bl(nu[0], zi, model.layer_1.mu), P_br(nu[0], zi)]]);\n",
    "\n",
    "        if zi > model.layer_1.h*100000: #now inside the 2nd layer\\n\",\n",
    "            z0=model.layer_1.h*100000; #need to now think of z as the distance from the bottom of the first layer\n",
    "            P1 = np.array([[Pprecise_tl(nu[1], (zi-z0)), Pprecise_tr(nu[1], (zi-z0), model.layer_2.mu)],\n",
    "                          [Pprecise_bl(nu[1], (zi-z0), model.layer_2.mu), Pprecise_br(nu[1], (zi-z0))]]);\n",
    "\n",
    "            P = np.matmul(P1,np.array([[Pprecise_tl(nu[0], z0), Pprecise_tr(nu[0], z0, model.layer_1.mu)],\n",
    "                          [Pprecise_bl(nu[0], z0, model.layer_1.mu), Pprecise_br(nu[0], z0)]]));\n",
    "\n",
    "\n",
    "        P = amplifyP(P,nu[0],zi)\n",
    "\n",
    "        L1[zn,i] = P[0,0];\n",
    "        L2[zn,i] = P[1,0];"
   ]
  },
  {
   "cell_type": "code",
   "execution_count": 18,
   "metadata": {
    "collapsed": false,
    "scrolled": false
   },
   "outputs": [
    {
     "name": "stderr",
     "output_type": "stream",
     "text": [
      "/Users/Alex/Programs/anaconda/lib/python3.5/site-packages/numpy/core/numeric.py:482: ComplexWarning: Casting complex values to real discards the imaginary part\n",
      "  return array(a, dtype, copy=False, order=order)\n"
     ]
    }
   ],
   "source": [
    "import matplotlib.cm as cm\n",
    "cmap = cm.get_cmap('rainbow')\n",
    "\n",
    "fig,ax = plt.subplots(1,2,figsize=(16,6));\n",
    "for i in range(len(K)):\n",
    "    c=cmap(20*i)\n",
    "    ax[0].plot(z/100000,L1[:,i],color=c);\n",
    "    ax[0].set_title('L1 vs z');\n",
    "\n",
    "for i in range(len(K)):\n",
    "    c=cmap(20*i)\n",
    "    ax[1].plot(z/100000,L2[:,i],color=c);\n",
    "    ax[1].set_title('L2 vs z',);\n",
    "    \n",
    "plt.rcParams.update({'font.size': 22})"
   ]
  },
  {
   "cell_type": "code",
   "execution_count": 19,
   "metadata": {
    "collapsed": false
   },
   "outputs": [
    {
     "ename": "SyntaxError",
     "evalue": "invalid syntax (<ipython-input-19-4629b4b0a3bc>, line 7)",
     "output_type": "error",
     "traceback": [
      "\u001b[0;36m  File \u001b[0;32m\"<ipython-input-19-4629b4b0a3bc>\"\u001b[0;36m, line \u001b[0;32m7\u001b[0m\n\u001b[0;31m    l1 =\u001b[0m\n\u001b[0m         ^\u001b[0m\n\u001b[0;31mSyntaxError\u001b[0m\u001b[0;31m:\u001b[0m invalid syntax\n"
     ]
    }
   ],
   "source": [
    "def int_all_freqs (freqs_list) :\n",
    "    N = len(freqs_list)\n",
    "    res = np.zeros(N)\n",
    "    err = np.zeros(N)\n",
    "    for n, freq in enumerate(freqs_list):   \n",
    "        def I1(z) :\n",
    "            wave_no = #calculated from freq\n",
    "            L1 = #rho as a func of z with a set wn\n",
    "            rho = #rho as a func of z \n",
    "            return rho * (L1**2)\n",
    "        (res[n],err[n]) = integ.quad(I1, 0,  np.inf)\n",
    "    return (res,err)\n",
    "\n",
    "(cw,errw) = int_all_freqs(freqs_list)\n",
    "Sw = np.cumsum(cw[1:]**2) # skip n=0\n",
    "print(Sw)"
   ]
  }
 ],
 "metadata": {
  "anaconda-cloud": {},
  "kernelspec": {
   "display_name": "Python [default]",
   "language": "python",
   "name": "python3"
  },
  "language_info": {
   "codemirror_mode": {
    "name": "ipython",
    "version": 3
   },
   "file_extension": ".py",
   "mimetype": "text/x-python",
   "name": "python",
   "nbconvert_exporter": "python",
   "pygments_lexer": "ipython3",
   "version": "3.5.2"
  },
  "toc": {
   "nav_menu": {
    "height": "12px",
    "width": "252px"
   },
   "navigate_menu": true,
   "number_sections": true,
   "sideBar": true,
   "threshold": 4,
   "toc_cell": false,
   "toc_section_display": "block",
   "toc_window_display": false
  }
 },
 "nbformat": 4,
 "nbformat_minor": 0
}
