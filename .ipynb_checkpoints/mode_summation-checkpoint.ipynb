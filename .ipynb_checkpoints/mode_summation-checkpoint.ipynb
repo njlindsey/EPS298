{
 "cells": [
  {
   "cell_type": "code",
   "execution_count": 1,
   "metadata": {
    "collapsed": false
   },
   "outputs": [],
   "source": [
    "import numpy as np\n",
    "import math\n",
    "import matplotlib.pyplot as plt\n",
    "import time\n",
    "from scipy import interpolate\n",
    "from scipy.optimize import root\n",
    "import pymc\n",
    "import obspy\n",
    "import random\n",
    "from cdh_mc import Model\n",
    "from modal_sum import calc_nu, tl, tr, bl, br"
   ]
  },
  {
   "cell_type": "markdown",
   "metadata": {},
   "source": [
    "# User Defined"
   ]
  },
  {
   "cell_type": "markdown",
   "metadata": {},
   "source": [
    "## Define geometry"
   ]
  },
  {
   "cell_type": "code",
   "execution_count": 2,
   "metadata": {
    "collapsed": false
   },
   "outputs": [],
   "source": [
    "params_dict = { 'min_layers':3, 'max_layers':3,  'min_rho':1, 'max_rho':3, 'min_vel':1, 'max_vel':3, \\\n",
    "              'min_depth':0, 'max_depth':300,} # units: N/A; g/cc; km/s; km\n",
    "model = Model(params_dict)\n",
    "model.layer_1.mu = 3"
   ]
  },
  {
   "cell_type": "markdown",
   "metadata": {},
   "source": [
    "## Define search space"
   ]
  },
  {
   "cell_type": "code",
   "execution_count": 3,
   "metadata": {
    "collapsed": false
   },
   "outputs": [],
   "source": [
    "z = model.no_layers\n",
    "max_w = 2\n",
    "dw = 1\n",
    "max_k = 3\n",
    "dk = 1"
   ]
  },
  {
   "cell_type": "markdown",
   "metadata": {},
   "source": [
    "# Generate propogator matrix"
   ]
  },
  {
   "cell_type": "code",
   "execution_count": 4,
   "metadata": {
    "collapsed": false
   },
   "outputs": [
    {
     "name": "stdout",
     "output_type": "stream",
     "text": [
      "([1.0, nan], [0.0, 1.0])\n",
      "([10.067661995777765, 1.1752011936438014], [30.053624782229708, 10.067661995777765])\n",
      "([201.71563612245589, 1.1752011936438014], [1210.2789442216754, 201.71563612245589])\n",
      "([nan, nan], [nan, nan])\n",
      "([1.0, nan], [0.0, 1.0])\n",
      "([90.29083039427428, 1.1752011936438014], [469.13614168891883, 90.29083039427428])\n",
      "([1.0, nan], [0.0, 1.0])\n",
      "([10.067661995777765, 10.017874927409903], [10.017874927409903, 10.067661995777765])\n",
      "([201.71563612245589, 10.017874927409903], [403.42631474055844, 201.71563612245589])\n",
      "([nan, nan], [nan, nan])\n",
      "([1.0, nan], [0.0, 1.0])\n",
      "([90.29083039427428, 10.017874927409906], [156.37871389630627, 90.29083039427428])\n"
     ]
    }
   ],
   "source": [
    "for z in range(z-1):\n",
    "    for w in np.arange(0, max_w, dw):\n",
    "        for k in np.arange(0, max_k, dk):\n",
    "            layer = z+1\n",
    "            layer_object = getattr(model, \"layer_%i\" % layer) # FIX\n",
    "            beta = layer_object.velocity\n",
    "            nu = calc_nu(k, w, beta)\n",
    "            mu = layer_object.mu\n",
    "            h = 3  # FIX\n",
    "            PM = ([tl(nu, h), tr(nu, h, mu)], \n",
    "                  [bl(nu, h, mu), br(nu, h)])\n",
    "            print (PM)"
   ]
  },
  {
   "cell_type": "markdown",
   "metadata": {},
   "source": [
    "# Generate other matrix"
   ]
  },
  {
   "cell_type": "code",
   "execution_count": null,
   "metadata": {
    "collapsed": false
   },
   "outputs": [],
   "source": []
  },
  {
   "cell_type": "code",
   "execution_count": null,
   "metadata": {
    "collapsed": true
   },
   "outputs": [],
   "source": []
  }
 ],
 "metadata": {
  "anaconda-cloud": {},
  "kernelspec": {
   "display_name": "Python [conda root]",
   "language": "python",
   "name": "conda-root-py"
  },
  "language_info": {
   "codemirror_mode": {
    "name": "ipython",
    "version": 3
   },
   "file_extension": ".py",
   "mimetype": "text/x-python",
   "name": "python",
   "nbconvert_exporter": "python",
   "pygments_lexer": "ipython3",
   "version": "3.5.2"
  },
  "toc": {
   "nav_menu": {
    "height": "102px",
    "width": "252px"
   },
   "navigate_menu": true,
   "number_sections": true,
   "sideBar": true,
   "threshold": 4,
   "toc_cell": false,
   "toc_position": {
    "height": "671px",
    "left": "0px",
    "right": "1166px",
    "top": "106px",
    "width": "224px"
   },
   "toc_section_display": "block",
   "toc_window_display": true
  }
 },
 "nbformat": 4,
 "nbformat_minor": 1
}
