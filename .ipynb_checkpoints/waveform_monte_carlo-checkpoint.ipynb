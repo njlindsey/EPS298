{
 "cells": [
  {
   "cell_type": "markdown",
   "metadata": {},
   "source": [
    "## Waveform Monte Carlo\n",
    "\n",
    "A monte carlo method in which one plugs in an equation of the form:       \n",
    "\n",
    "$$waveform\\_vector = F(layers)$$    \n",
    "where:    \n",
    "**layers** is a class containing:\n",
    "**layers.list** - a list of layers    \n",
    "**layers.layerx** - classes equal to the number of layers 0 < x < n+1     \n",
    "**layers.layerx.den** - the density of layer x    \n",
    "**layers.layerx.vel** - the velocity of layer x     \n",
    "**layers.layerx.top** - the depth of the upper boundary of layer x     "
   ]
  },
  {
   "cell_type": "code",
   "execution_count": 1,
   "metadata": {
    "collapsed": false
   },
   "outputs": [],
   "source": [
    "%matplotlib inline  \n",
    "\n",
    "import numpy as np\n",
    "import math\n",
    "import matplotlib.pyplot as plt\n",
    "import time\n",
    "from scipy import interpolate\n",
    "from scipy.optimize import root\n",
    "import obspy\n",
    "from cdh_mc import Model"
   ]
  },
  {
   "cell_type": "code",
   "execution_count": 2,
   "metadata": {
    "collapsed": true
   },
   "outputs": [],
   "source": [
    "#data = obspy.read()"
   ]
  },
  {
   "cell_type": "code",
   "execution_count": 3,
   "metadata": {
    "collapsed": true
   },
   "outputs": [],
   "source": [
    "params_dict = { 'min_layers':1, 'max_layers':3,  'min_rho':1, 'max_rho':3, 'min_vel':1, 'max_vel':3, \\\n",
    "              'min_depth':0, 'max_depth':300,} # ADD UNITS!\n",
    "\n",
    "number_of_iterations = 100"
   ]
  },
  {
   "cell_type": "code",
   "execution_count": null,
   "metadata": {
    "collapsed": true
   },
   "outputs": [],
   "source": [
    "misfit_vector = []\n",
    "\n",
    "for iteration in np.arange(number_of_iterations):\n",
    "    current_model = Model(params_dict)\n",
    "    # calc model\n",
    "    current_misfit = calc_misfit(data, synthetic)\n",
    "    \n",
    "    if current_misfit < min(misfit_vector):\n",
    "        best_model = current_model\n",
    "    \n",
    "    misfit_vector.append(current_misfit)\n",
    "    "
   ]
  },
  {
   "cell_type": "code",
   "execution_count": null,
   "metadata": {
    "collapsed": true
   },
   "outputs": [],
   "source": []
  }
 ],
 "metadata": {
  "anaconda-cloud": {},
  "kernelspec": {
   "display_name": "Python [default]",
   "language": "python",
   "name": "python3"
  },
  "language_info": {
   "codemirror_mode": {
    "name": "ipython",
    "version": 3
   },
   "file_extension": ".py",
   "mimetype": "text/x-python",
   "name": "python",
   "nbconvert_exporter": "python",
   "pygments_lexer": "ipython3",
   "version": "3.5.2"
  }
 },
 "nbformat": 4,
 "nbformat_minor": 1
}
