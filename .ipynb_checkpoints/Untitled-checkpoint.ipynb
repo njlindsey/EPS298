{
 "cells": [
  {
   "cell_type": "code",
   "execution_count": 5,
   "metadata": {
    "collapsed": true
   },
   "outputs": [],
   "source": [
    "import math\n",
    "\n",
    "def calc_shell(inner_rad, outer_rad):\n",
    "    tot = 4/3*math.pi*outer_rad**3\n",
    "    inner = tot=4/3*math.pi*outer_rad**3\n",
    "    return tot-inner"
   ]
  },
  {
   "cell_type": "code",
   "execution_count": null,
   "metadata": {
    "collapsed": true
   },
   "outputs": [],
   "source": [
    "inner_core = calc_shell(0, 1220)\n",
    "outer_core = calc_shell(1220, 3480)\n",
    "mantle = calc_shell(3480, 6340)\n",
    "crust = calc_shell(6360, 6370)"
   ]
  },
  {
   "cell_type": "code",
   "execution_count": 6,
   "metadata": {
    "collapsed": true
   },
   "outputs": [],
   "source": [
    "inner_core = calc_shell(0, 1220)/6370\n",
    "outer_core = calc_shell(1220, 3480)/6370\n",
    "mantle = calc_shell(3480, 6340)/6370\n",
    "crust = calc_shell(6360, 6370)/6370"
   ]
  },
  {
   "cell_type": "code",
   "execution_count": 7,
   "metadata": {
    "collapsed": false
   },
   "outputs": [
    {
     "name": "stdout",
     "output_type": "stream",
     "text": [
      "0.0\n",
      "0.0\n",
      "0.0\n",
      "0.0\n"
     ]
    }
   ],
   "source": [
    "print(inner_core)\n",
    "print(outer_core)\n",
    "print(mantle)\n",
    "print(crust)"
   ]
  },
  {
   "cell_type": "code",
   "execution_count": null,
   "metadata": {
    "collapsed": true
   },
   "outputs": [],
   "source": []
  }
 ],
 "metadata": {
  "anaconda-cloud": {},
  "kernelspec": {
   "display_name": "Python [default]",
   "language": "python",
   "name": "python3"
  },
  "language_info": {
   "codemirror_mode": {
    "name": "ipython",
    "version": 3
   },
   "file_extension": ".py",
   "mimetype": "text/x-python",
   "name": "python",
   "nbconvert_exporter": "python",
   "pygments_lexer": "ipython3",
   "version": "3.5.2"
  }
 },
 "nbformat": 4,
 "nbformat_minor": 1
}
