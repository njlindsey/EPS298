{
 "cells": [
  {
   "cell_type": "markdown",
   "metadata": {},
   "source": [
    "# Implementation notes:\n",
    "1. Global variables: Some variables previously needed to be defined globally. None do for now, but it might be cleaner if they were. Ex. all of the material properties and layer geometry\n",
    "2. Numpy arrays: B and rho inputs **must be numpy arrays** because normal python array multiplication is dumb (or maybe Jes is)\n",
    "3. I might be confused about the $SH_j$ part of the calculation. They define the radiation pattern, so I think they use source layer parameters.\n",
    "4. The $\\eta_\\beta$ is taken as the slowness of the source layer. Maybe it's supposed to be the slowness of the layer the ray is in at each point but ~~ugh no~~ I hope not.\n",
    "5. What's the station distance? I put in 80km for now."
   ]
  },
  {
   "cell_type": "markdown",
   "metadata": {},
   "source": [
    "# Modeling the Alum Rock M4.6 Event\n",
    "\n",
    "The original velocity structure used with the GRT code was\n",
    "\n",
    "    3    2 1500    0.25000001E-01\n",
    "       6\n",
    "   0.100000E-02   0.100000E-02   0.100000E-02   0.100000E-02   0.000000E+00\n",
    "   0.550000E+01   0.220300E+01   0.240000E+01   0.450000E+01   0.000000E+00\n",
    "   0.630000E+01   0.334000E+01   0.267000E+01   0.350000E+01   0.000000E+00\n",
    "   0.630100E+01   0.334100E+01   0.267000E+01   0.800000E+01   0.000000E+00\n",
    "   0.670000E+01   0.397000E+01   0.280000E+01   0.190000E+02   0.000000E+00\n",
    "   0.780000E+01   0.400000E+01   0.330000E+01   0.400000E+03   0.000000E+00\n",
    "\n",
    "Where:\n",
    "\n",
    "line 1:  layer-above-source    fluid(0)-or-solid(2)    number-of-time-points   time-sample-rate\n",
    "line 2:  number-of-layers\n",
    "line 3+ p-velocity(km/s)  s-velocity(km/s)  density(g/cc)  thickness(km)  layer-dip(radians)\n",
    "\n",
    "We'll use the same(ish) simple velocity model:\n",
    "* Layer 1: d = 5km, B = 2.2km/s, rho = 2.4 g/cc\n",
    "* Layer 2: d = 16km, B = 3.34km/s, rho = 2.67 g/cc\n",
    "* Layer 3: d = 35km, B = 3.97km/s, rho = 2.8 g/cc\n",
    "* Source depth: d = 8km"
   ]
  },
  {
   "cell_type": "code",
   "execution_count": 2,
   "metadata": {
    "collapsed": false
   },
   "outputs": [],
   "source": [
    "import numpy as np\n",
    "from scipy.interpolate import interp1d"
   ]
  },
  {
   "cell_type": "code",
   "execution_count": 3,
   "metadata": {
    "collapsed": false,
    "scrolled": true
   },
   "outputs": [
    {
     "data": {
      "image/png": "[encoded data removed]",
      "text/plain": [
       "<matplotlib.figure.Figure at 0x7f1ba09eb3d0>"
      ]
     },
     "metadata": {},
     "output_type": "display_data"
    }
   ],
   "source": [
    "import matplotlib.pyplot as plt\n",
    "import obspy\n",
    "d=obspy.read('alumdata')\n",
    "d.plot()"
   ]
  },
  {
   "cell_type": "markdown",
   "metadata": {},
   "source": [
    "## Define ray functions\n",
    "t_[**u**p or **d**own][**T**ransmit or **R**eflect at each layer until station]"
   ]
  },
  {
   "cell_type": "code",
   "execution_count": 12,
   "metadata": {
    "collapsed": true
   },
   "outputs": [],
   "source": [
    "def tf_uT(p1,x,zs,B):\n",
    "    return p1*x + (z[0]-z[1])*np.sqrt(1/B[1]**2-p1**2) + z[1]*np.sqrt(1/B[0]**2-p1**2)\n",
    "def tf_uTRR(p1,x,zs,B):\n",
    "    return p1*x + (z[0]-z[1])*np.sqrt(1/B[1]**2-p1**2) + 3*z[1]*np.sqrt(1/B[0]**2-p1**2)\n",
    "def tf_uTRRRR(p1,x,zs,B):\n",
    "    return p1*x + (z[0]-z[1])*np.sqrt(1/B[1]**2-p1**2) + 5*z[1]*np.sqrt(1/B[0]**2-p1**2)\n",
    "def tf_dRT(p1,x,zs,B):\n",
    "    return p1*x + (2*z[2]-z[0]-z[1])*np.sqrt(1/B[1]**2-p1**2) + z[1]*np.sqrt(1/B[0]**2-p1**2)\n",
    "def tf_dTRTT(p1,x,zs,B):\n",
    "    return p1*x + 2*(z[3]-z[2])*np.sqrt(1/B[2]**2-p1**2) + 2*(z[2]-z[1])*np.sqrt(1/B[1]**2-p1**2) + z[1]*np.sqrt(1/B[0]**2-p1**2)\n"
   ]
  },
  {
   "cell_type": "markdown",
   "metadata": {},
   "source": [
    "## Define p-finding function"
   ]
  },
  {
   "cell_type": "code",
   "execution_count": 26,
   "metadata": {
    "collapsed": true
   },
   "outputs": [],
   "source": [
    "def t_from_p(x, zs, B, tfunc, tmax):\n",
    "    p = [0*1j]\n",
    "    t = [tfunc(p[0],x,zs,B).real]\n",
    "    \n",
    "    while t[-1] < tmax:\n",
    "        w0 = p[-1].real\n",
    "        y0 = p[-1].imag\n",
    "        coords = []\n",
    "        for theta in range(0,90):\n",
    "            th = theta*np.pi/180\n",
    "            w = w0 + np.cos(th)*.0005\n",
    "            y = y0 + np.sin(th)*.0005\n",
    "            coords.append((w,y))\n",
    "        tvals = [tfunc(complex(*coord),x,zs,B) for coord in coords]\n",
    "        t_ind = np.argmax([tv.real for tv in tvals])\n",
    "        t.append(tvals[t_ind].real)\n",
    "        p.append(complex(*coords[t_ind]))\n",
    "    \n",
    "    return t, np.array(p)"
   ]
  },
  {
   "cell_type": "markdown",
   "metadata": {},
   "source": [
    "## Condense dp/dt interpolation"
   ]
  },
  {
   "cell_type": "code",
   "execution_count": 28,
   "metadata": {
    "collapsed": true
   },
   "outputs": [],
   "source": [
    "def get_dpdt(t,p):\n",
    "    dt = .01\n",
    "    f=interp1d(t,p)\n",
    "    xi=np.arange(t[0],t[-1],dt)\n",
    "    yi = f(xi)\n",
    "    return yi,np.diff(yi)/dt"
   ]
  },
  {
   "cell_type": "markdown",
   "metadata": {},
   "source": [
    "## Define ray-processing functions\n",
    "Output ${\\rm Im}\\left (\\frac{\\sqrt p}{\\eta} SH_j(p) \\Pi(p) p \\frac{dp}{dt}\\right )$, where $SH_j$ are the radiation patterns and $\\Pi$ is the product of reflection and transmission coefficients, for each ray. Note that SH1 and SH2 are equivalent to tds and tss in EPS 207.\n",
    "\n",
    "$SH_1 = 1/\\beta^2$ and $SH_2 = \\frac{\\varepsilon}{\\beta^2}\\frac{\\eta}{p}$ where $\\varepsilon$ is +1 for upgoing and -1 for downgoing rays."
   ]
  },
  {
   "cell_type": "code",
   "execution_count": 7,
   "metadata": {
    "collapsed": false
   },
   "outputs": [],
   "source": [
    "def i_uT(t,p,B,rh):\n",
    "    yi,dpdt = get_dpdt(t,p) #yi is interpolated p\n",
    "    mu = (B*1.e05)**2*rh\n",
    "    Tr = 2*mu[1]*np.sqrt(1/B[1]**2-yi[:-1]**2\n",
    "                        )/(mu[0]*np.sqrt(1/B[0]**2-yi[:-1]**2)+mu[1]*np.sqrt(1/B[1]**2-yi[:-1]**2))\n",
    "    SH1 = np.imag(np.sqrt(yi[:-1])*Tr*yi[:-1]*dpdt/(np.sqrt(1/B[1]**2-yi[:-1]**2)*B[1]**2))\n",
    "    SH2 = np.imag(np.sqrt(yi[:-1])*Tr*dpdt/B[1]**2)\n",
    "    return SH1,SH2\n",
    "def i_uTRR(t,p,B,rh):\n",
    "    yi,dpdt = get_dpdt(t,p) #yi is interpolated p\n",
    "    mu = (B*1.e05)**2*rh\n",
    "    Tr = 2*mu[1]*np.sqrt(1/B[1]**2-yi[:-1]**2\n",
    "                        )/(mu[0]*np.sqrt(1/B[0]**2-yi[:-1]**2)+mu[1]*np.sqrt(1/B[1]**2-yi[:-1]**2))\n",
    "    Re = (mu[0]*np.sqrt(1/B[0]**2-yi[:-1]**2)-mu[1]*np.sqrt(1/B[1]**2-yi[:-1]**2)\n",
    "         )/(mu[0]*np.sqrt(1/B[0]**2-yi[:-1]**2)+mu[1]*np.sqrt(1/B[1]**2-yi[:-1]**2))\n",
    "    SH1 = np.imag(np.sqrt(yi[:-1])*Tr*Re*yi[:-1]*dpdt/(np.sqrt(1/B[1]**2-yi[:-1]**2)*B[1]**2))\n",
    "    SH2 = np.imag(np.sqrt(yi[:-1])*Tr*Re*dpdt/B[1]**2)\n",
    "    return SH1,SH2\n",
    "def i_uTRRRR(t,p,B,rh):\n",
    "    yi,dpdt = get_dpdt(t,p) #yi is interpolated p\n",
    "    mu = (B*1.e05)**2*rh\n",
    "    Tr = 2*mu[1]*np.sqrt(1/B[1]**2-yi[:-1]**2\n",
    "                        )/(mu[0]*np.sqrt(1/B[0]**2-yi[:-1]**2)+mu[1]*np.sqrt(1/B[1]**2-yi[:-1]**2))\n",
    "    Re = (mu[0]*np.sqrt(1/B[0]**2-yi[:-1]**2)-mu[1]*np.sqrt(1/B[1]**2-yi[:-1]**2)\n",
    "         )/(mu[0]*np.sqrt(1/B[0]**2-yi[:-1]**2)+mu[1]*np.sqrt(1/B[1]**2-yi[:-1]**2))\n",
    "    SH1 = np.imag(np.sqrt(yi[:-1])*Tr*Re*Re*yi[:-1]*dpdt/(np.sqrt(1/B[1]**2-yi[:-1]**2)*B[1]**2))\n",
    "    SH2 = np.imag(np.sqrt(yi[:-1])*Tr*Re*Re*dpdt/B[1]**2)\n",
    "    return SH1,SH2\n",
    "def i_dRT(t,p,B,rh):\n",
    "    yi,dpdt = get_dpdt(t,p) #yi is interpolated p\n",
    "    mu = (B*1.e05)**2*rh\n",
    "    Tr = 2*mu[1]*np.sqrt(1/B[1]**2-yi[:-1]**2\n",
    "                        )/(mu[0]*np.sqrt(1/B[0]**2-yi[:-1]**2)+mu[1]*np.sqrt(1/B[1]**2-yi[:-1]**2))\n",
    "    Re = (mu[1]*np.sqrt(1/B[1]**2-yi[:-1]**2)-mu[2]*np.sqrt(1/B[2]**2-yi[:-1]**2)\n",
    "         )/(mu[1]*np.sqrt(1/B[1]**2-yi[:-1]**2)+mu[2]*np.sqrt(1/B[2]**2-yi[:-1]**2))\n",
    "    SH1 = np.imag(np.sqrt(yi[:-1])*Tr*Re*yi[:-1]*dpdt/(np.sqrt(1/B[1]**2-yi[:-1]**2)*B[1]**2))\n",
    "    SH2 = np.imag(-1*np.sqrt(yi[:-1])*Tr*Re*dpdt/B[1]**2)\n",
    "    return SH1,SH2\n",
    "def i_dTRTT(t,p,B,rh):\n",
    "    yi,dpdt = get_dpdt(t,p) #yi is interpolated p\n",
    "    mu = (B*1.e05)**2*rh\n",
    "    Tr_10 = 2*mu[1]*np.sqrt(1/B[1]**2-yi[:-1]**2\n",
    "                        )/(mu[0]*np.sqrt(1/B[0]**2-yi[:-1]**2)+mu[1]*np.sqrt(1/B[1]**2-yi[:-1]**2))\n",
    "    Tr_12 = 2*mu[1]*np.sqrt(1/B[1]**2-yi[:-1]**2\n",
    "                        )/(mu[2]*np.sqrt(1/B[2]**2-yi[:-1]**2)+mu[1]*np.sqrt(1/B[1]**2-yi[:-1]**2))\n",
    "    Tr_21 = 2*mu[2]*np.sqrt(1/B[2]**2-yi[:-1]**2\n",
    "                        )/(mu[2]*np.sqrt(1/B[2]**2-yi[:-1]**2)+mu[1]*np.sqrt(1/B[1]**2-yi[:-1]**2))\n",
    "    Re = (mu[2]*np.sqrt(1/B[2]**2-yi[:-1]**2)-mu[3]*np.sqrt(1/B[3]**2-yi[:-1]**2)\n",
    "         )/(mu[2]*np.sqrt(1/B[2]**2-yi[:-1]**2)+mu[3]*np.sqrt(1/B[3]**2-yi[:-1]**2))\n",
    "    SH1 = np.imag(np.sqrt(yi[:-1])*Tr_12*Re*Tr_21*Tr_10*yi[:-1]*dpdt/(np.sqrt(1/B[1]**2-yi[:-1]**2)*B[1]**2))\n",
    "    SH2 = np.imag(-1*np.sqrt(yi[:-1])*Tr_12*Re*Tr_21*Tr_10*dpdt/B[1]**2)\n",
    "    return SH1,SH2"
   ]
  },
  {
   "cell_type": "markdown",
   "metadata": {},
   "source": [
    "## Calculate Synthetic seismogram with radiation pattern and source time function (Helmberger Eqn2.33)\n",
    "The SH solution on a free boundary is defined as $V = \\frac{M_0}{4\\pi\\rho_0}\\frac{d}{dt}[\\dot{D(t)} * \\Sigma^{2}_{j=1} A_{j+3}(\\theta,\\lambda,\\delta)V_j(t)]$, where $V_j(t) = \\sqrt{2/r}\\frac{1}{\\pi}[\\frac{1}{\\sqrt{t}}*SH_j]$. $M_0$ is the scalar seismic moment (units of dyne-cm...default is $10^{20}$ dyne-cm); $\\dot{D(t)}$ is the source time function (e.g., triangle; Brune); $A_{j+3}(\\theta,\\lambda,\\delta)$ are the coefficients describing the relative weight of the transverse vertical strike-slip (tss) and dip-slip (tds) fundamental-faults, which depend on fauilt dip ($\\delta$), rake ($\\lambda$), and angle between station and strike of fault ($\\theta$)."
   ]
  },
  {
   "cell_type": "code",
   "execution_count": 8,
   "metadata": {
    "collapsed": false
   },
   "outputs": [],
   "source": [
    "def Vt_SH1(t,r,SH1):    \n",
    "    return np.sqrt(2/r)/np.pi*np.convolve(1/np.sqrt(t),SH1)\n",
    "\n",
    "def Vt_SH2(t,r,SH2):    \n",
    "    return np.sqrt(2/r)/np.pi*np.convolve(1/np.sqrt(t),SH2)\n",
    "\n",
    "def radiationPattern(azimuth,strike,dip,rake,moment):\n",
    "    theta=azimuth-strike;\n",
    "    theta=theta*pi/180;\n",
    "    rake=rake*pi/180;\n",
    "    dip=dip*pi/180;\n",
    "    moment=moment/1e20;\n",
    "    factor=4*pi*rho;\n",
    "    A4=cos(2*theta)*cos(rake)*sin(dip)-0.5*sin(2*theta)*sin(rake)*sin(2*dip);\n",
    "    A5=-1*sin(theta)*cos(rake)*cos(dip)-cos(theta)*sin(rake)*cos(2*dip);\n",
    "    return A4,A5\n",
    "\n",
    "def synth_sourcetime(A4,A5,M0,Vt_SH1,Vt_SH2,risetime,dt):\n",
    "    def synth(A4,A5,M0,Vt_SH1,Vt_SH2):\n",
    "        s = np.diff((A4*Vt_SH1 + A5*Vt_SH2))\n",
    "        return M0/(4*np.pi*rh)*s\n",
    "    def makeDdot(risetime,dt):\n",
    "        time=np.arange(0,risetime*3,dt)\n",
    "        sourceTimeFn=time*e**(-time/(risetime/4))\n",
    "        return sourceTimeFn/trapz(sourceTimeFn)\n",
    "    return np.convolve(makeDdot,synth)"
   ]
  },
  {
   "cell_type": "markdown",
   "metadata": {},
   "source": [
    "#### Compute synthetic for Alum Rock"
   ]
  },
  {
   "cell_type": "code",
   "execution_count": 10,
   "metadata": {
    "collapsed": true
   },
   "outputs": [],
   "source": [
    "#put alum rock geometry and velocity and rho in here.\n",
    "x = 80 #Station distance\n",
    "z = [8,5,16,35]\n",
    "B = np.array([2.2,3.34,3.97])\n",
    "rho = np.array([2.4,2.67,2.8])\n",
    "# then this part\n",
    "azimuth=321.6;\n",
    "strike=318;\n",
    "dip=83;\n",
    "rake=-176;\n",
    "M0=9.20e22;\n",
    "risetime=1;\n",
    "tstart=20;\n",
    "nzyear=1993;\n",
    "nzjday=223;\n",
    "nzhour=22;\n",
    "nzmin=33;\n",
    "nzsec=4;\n",
    "nzmsec=100;"
   ]
  },
  {
   "cell_type": "code",
   "execution_count": 30,
   "metadata": {
    "collapsed": true
   },
   "outputs": [],
   "source": [
    "#Pick max time\n",
    "tmax = 200 #seconds\n",
    "#Get individual ray paths in the complex p-plane\n",
    "t_uT,p_uT = t_from_p(x, z, B, tf_uT, tmax)\n",
    "t_uTRR,p_uTRR = t_from_p(x, z, B, tf_uTRR, tmax)\n",
    "t_uTRRRR,p_uTRRRR = t_from_p(x, z, B, tf_uTRRRR, tmax)\n",
    "t_dRT,p_dRT = t_from_p(x, z, B, tf_dRT, tmax)\n",
    "t_dTRTT,p_dTRTT = t_from_p(x, z, B, tf_dTRTT, tmax)"
   ]
  },
  {
   "cell_type": "code",
   "execution_count": 35,
   "metadata": {
    "collapsed": false
   },
   "outputs": [
    {
     "data": {
      "text/plain": [
       "200.0411321290087"
      ]
     },
     "execution_count": 35,
     "metadata": {},
     "output_type": "execute_result"
    }
   ],
   "source": [
    "t_uTRRRR[-1]"
   ]
  },
  {
   "cell_type": "code",
   "execution_count": 36,
   "metadata": {
    "collapsed": false
   },
   "outputs": [],
   "source": [
    "#Sum imaginary parts for SH1 and SH2\n",
    "SH1,SH2 = np.array(i_uT(t_uT,p_uT,B,rho))\n",
    "sh1,sh2 = np.array(i_uTRR(t_uTRR,p_uTRR,B,rho))\n",
    "\n",
    "# SH_sum += np.array(i_uTRRRR(t_uTRRRR,p_uTRRRR,B,rho))\n",
    "# SH_sum += np.array(i_dRT(t_dRT,p_dRT,B,rho))\n",
    "# SH_sum += np.array(i_dTRTT(t_dTRTT,p_dTRTT,B,rho))\n",
    "# SH1,SH2 = SH_sum\n",
    "\n",
    "# A4,A5 = radiationPattern(azimuth,strike,dip,rake,M0)\n",
    "# # uSH = synth_sourcetime(A4,A5,M0,Vt_SH1,Vt_SH2,risetime,dt)"
   ]
  },
  {
   "cell_type": "code",
   "execution_count": 39,
   "metadata": {
    "collapsed": false
   },
   "outputs": [
    {
     "data": {
      "text/plain": [
       "19230"
      ]
     },
     "execution_count": 39,
     "metadata": {},
     "output_type": "execute_result"
    }
   ],
   "source": [
    "len(sh2)"
   ]
  }
 ],
 "metadata": {
  "anaconda-cloud": {},
  "kernelspec": {
   "display_name": "Python [Root]",
   "language": "python",
   "name": "Python [Root]"
  },
  "language_info": {
   "codemirror_mode": {
    "name": "ipython",
    "version": 3
   },
   "file_extension": ".py",
   "mimetype": "text/x-python",
   "name": "python",
   "nbconvert_exporter": "python",
   "pygments_lexer": "ipython3",
   "version": "3.5.0rc4"
  }
 },
 "nbformat": 4,
 "nbformat_minor": 1
}
