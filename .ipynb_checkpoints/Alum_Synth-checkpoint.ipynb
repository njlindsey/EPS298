{
 "cells": [
  {
   "cell_type": "markdown",
   "metadata": {},
   "source": [
    "# Implementation notes:\n",
    "1. Global variables: Some variables previously needed to be defined globally. None do for now, but it might be cleaner if they were. Ex. all of the material properties and layer geometry\n",
    "2. Numpy arrays: B and rho inputs **must be numpy arrays** because normal python array multiplication is dumb (or maybe Jes is)\n",
    "3. I might be confused about the $SH_j$ part of the calculation. They define the radiation pattern, so I think they use source layer parameters.\n",
    "4. The $\\eta_\\beta$ is taken as the slowness of the source layer. Maybe it's supposed to be the slowness of the layer the ray is in at each point but ~~ugh no~~ I hope not."
   ]
  },
  {
   "cell_type": "markdown",
   "metadata": {},
   "source": [
    "# Modeling the Alum Rock M4.6 Event\n",
    "\n",
    "The original velocity structure used with the GRT code was\n",
    "\n",
    "    3    2 1500    0.25000001E-01\n",
    "       6\n",
    "   0.100000E-02   0.100000E-02   0.100000E-02   0.100000E-02   0.000000E+00\n",
    "   0.550000E+01   0.220300E+01   0.240000E+01   0.450000E+01   0.000000E+00\n",
    "   0.630000E+01   0.334000E+01   0.267000E+01   0.350000E+01   0.000000E+00\n",
    "   0.630100E+01   0.334100E+01   0.267000E+01   0.800000E+01   0.000000E+00\n",
    "   0.670000E+01   0.397000E+01   0.280000E+01   0.190000E+02   0.000000E+00\n",
    "   0.780000E+01   0.400000E+01   0.330000E+01   0.400000E+03   0.000000E+00\n",
    "\n",
    "Where:\n",
    "\n",
    "line 1:  layer-above-source    fluid(0)-or-solid(2)    number-of-time-points   time-sample-rate\n",
    "line 2:  number-of-layers\n",
    "line 3+ p-velocity(km/s)  s-velocity(km/s)  density(g/cc)  thickness(km)  layer-dip(radians)\n",
    "\n",
    "We'll use the same simple velocity model:\n",
    "* Layer 1: d = 5km, B = 2.2km/s, rho = 2.4 g/cc\n",
    "* Layer 2: d = 16km, B = 3.34km/s, rho = 2.67 g/cc\n",
    "* Layer 3: d = 35km, B = 3.97km/s, rho = 2.8 g/cc\n",
    "* Source depth: d = 8km"
   ]
  },
  {
   "cell_type": "code",
   "execution_count": 1,
   "metadata": {
    "collapsed": false,
    "scrolled": true
   },
   "outputs": [
    {
     "ename": "FileNotFoundError",
     "evalue": "[Errno 2] No such file or directory: 'alumdata'",
     "output_type": "error",
     "traceback": [
      "\u001b[0;31m---------------------------------------------------------------------------\u001b[0m",
      "\u001b[0;31mFileNotFoundError\u001b[0m                         Traceback (most recent call last)",
      "\u001b[0;32m<ipython-input-1-b4b5abdd8e92>\u001b[0m in \u001b[0;36m<module>\u001b[0;34m()\u001b[0m\n\u001b[1;32m      1\u001b[0m \u001b[0;32mimport\u001b[0m \u001b[0mmatplotlib\u001b[0m\u001b[0;34m.\u001b[0m\u001b[0mpyplot\u001b[0m \u001b[0;32mas\u001b[0m \u001b[0mplt\u001b[0m\u001b[0;34m\u001b[0m\u001b[0m\n\u001b[1;32m      2\u001b[0m \u001b[0;32mimport\u001b[0m \u001b[0mobspy\u001b[0m\u001b[0;34m\u001b[0m\u001b[0m\n\u001b[0;32m----> 3\u001b[0;31m \u001b[0md\u001b[0m\u001b[0;34m=\u001b[0m\u001b[0mobspy\u001b[0m\u001b[0;34m.\u001b[0m\u001b[0mread\u001b[0m\u001b[0;34m(\u001b[0m\u001b[0;34m'alumdata'\u001b[0m\u001b[0;34m)\u001b[0m\u001b[0;34m\u001b[0m\u001b[0m\n\u001b[0m\u001b[1;32m      4\u001b[0m \u001b[0md\u001b[0m\u001b[0;34m.\u001b[0m\u001b[0mplot\u001b[0m\u001b[0;34m(\u001b[0m\u001b[0;34m)\u001b[0m\u001b[0;34m\u001b[0m\u001b[0m\n",
      "\u001b[0;32m<decorator-gen-166>\u001b[0m in \u001b[0;36mread\u001b[0;34m(pathname_or_url, format, headonly, starttime, endtime, nearest_sample, dtype, apply_calib, **kwargs)\u001b[0m\n",
      "\u001b[0;32m/Applications/anaconda/lib/python3.5/site-packages/obspy/core/util/decorator.py\u001b[0m in \u001b[0;36m_map_example_filename\u001b[0;34m(func, *args, **kwargs)\u001b[0m\n\u001b[1;32m    292\u001b[0m                         \u001b[0;32mexcept\u001b[0m \u001b[0mIOError\u001b[0m\u001b[0;34m:\u001b[0m\u001b[0;34m\u001b[0m\u001b[0m\n\u001b[1;32m    293\u001b[0m                             \u001b[0;32mpass\u001b[0m\u001b[0;34m\u001b[0m\u001b[0m\n\u001b[0;32m--> 294\u001b[0;31m         \u001b[0;32mreturn\u001b[0m \u001b[0mfunc\u001b[0m\u001b[0;34m(\u001b[0m\u001b[0;34m*\u001b[0m\u001b[0margs\u001b[0m\u001b[0;34m,\u001b[0m \u001b[0;34m**\u001b[0m\u001b[0mkwargs\u001b[0m\u001b[0;34m)\u001b[0m\u001b[0;34m\u001b[0m\u001b[0m\n\u001b[0m\u001b[1;32m    295\u001b[0m     \u001b[0;32mreturn\u001b[0m \u001b[0m_map_example_filename\u001b[0m\u001b[0;34m\u001b[0m\u001b[0m\n\u001b[1;32m    296\u001b[0m \u001b[0;34m\u001b[0m\u001b[0m\n",
      "\u001b[0;32m/Applications/anaconda/lib/python3.5/site-packages/obspy/core/stream.py\u001b[0m in \u001b[0;36mread\u001b[0;34m(pathname_or_url, format, headonly, starttime, endtime, nearest_sample, dtype, apply_calib, **kwargs)\u001b[0m\n\u001b[1;32m    234\u001b[0m                 \u001b[0;32mraise\u001b[0m \u001b[0mException\u001b[0m\u001b[0;34m(\u001b[0m\u001b[0;34m\"No file matching file pattern: %s\"\u001b[0m \u001b[0;34m%\u001b[0m \u001b[0mpathname\u001b[0m\u001b[0;34m)\u001b[0m\u001b[0;34m\u001b[0m\u001b[0m\n\u001b[1;32m    235\u001b[0m             \u001b[0;32melif\u001b[0m \u001b[0;32mnot\u001b[0m \u001b[0mhas_magic\u001b[0m\u001b[0;34m(\u001b[0m\u001b[0mpathname\u001b[0m\u001b[0;34m)\u001b[0m \u001b[0;32mand\u001b[0m \u001b[0;32mnot\u001b[0m \u001b[0mos\u001b[0m\u001b[0;34m.\u001b[0m\u001b[0mpath\u001b[0m\u001b[0;34m.\u001b[0m\u001b[0misfile\u001b[0m\u001b[0;34m(\u001b[0m\u001b[0mpathname\u001b[0m\u001b[0;34m)\u001b[0m\u001b[0;34m:\u001b[0m\u001b[0;34m\u001b[0m\u001b[0m\n\u001b[0;32m--> 236\u001b[0;31m                 \u001b[0;32mraise\u001b[0m \u001b[0mIOError\u001b[0m\u001b[0;34m(\u001b[0m\u001b[0;36m2\u001b[0m\u001b[0;34m,\u001b[0m \u001b[0;34m\"No such file or directory\"\u001b[0m\u001b[0;34m,\u001b[0m \u001b[0mpathname\u001b[0m\u001b[0;34m)\u001b[0m\u001b[0;34m\u001b[0m\u001b[0m\n\u001b[0m\u001b[1;32m    237\u001b[0m             \u001b[0;31m# Only raise error if no start/end time has been set. This\u001b[0m\u001b[0;34m\u001b[0m\u001b[0;34m\u001b[0m\u001b[0m\n\u001b[1;32m    238\u001b[0m             \u001b[0;31m# will return an empty stream if the user chose a time window with\u001b[0m\u001b[0;34m\u001b[0m\u001b[0;34m\u001b[0m\u001b[0m\n",
      "\u001b[0;31mFileNotFoundError\u001b[0m: [Errno 2] No such file or directory: 'alumdata'"
     ]
    }
   ],
   "source": [
    "import matplotlib.pyplot as plt\n",
    "import obspy\n",
    "d=obspy.read('alumdata')\n",
    "d.plot()"
   ]
  },
  {
   "cell_type": "markdown",
   "metadata": {},
   "source": [
    "## Define ray functions\n",
    "t_[**u**p or **d**own][**T**ransmit or **R**eflect at each layer until station]"
   ]
  },
  {
   "cell_type": "code",
   "execution_count": null,
   "metadata": {
    "collapsed": true
   },
   "outputs": [],
   "source": [
    "def t_uT(p1,x,zs,B):\n",
    "    return p1*x + (z[0]-z[1])*np.sqrt(1/B[1]**2-p1**2) + z[1]*np.sqrt(1/B[0]**2-p1**2)\n",
    "def t_uTRR(p1,x,zs,B):\n",
    "    return p1*x + (z[0]-z[1])*np.sqrt(1/B[1]**2-p1**2) + 3*z[1]*np.sqrt(1/B[0]**2-p1**2)\n",
    "def t_uTRRRR(p1,x,zs,B):\n",
    "    return p1*x + (z[0]-z[1])*np.sqrt(1/B[1]**2-p1**2) + 5*z[1]*np.sqrt(1/B[0]**2-p1**2)\n",
    "def t_dRT(p1,x,zs,B):\n",
    "    return p1*x + (2*z[2]-z[0]-z[1])*np.sqrt(1/B[1]**2-p1**2) + z[1]*np.sqrt(1/B[0]**2-p1**2)\n",
    "def t_dTRTT(p1,x,zs,B):\n",
    "    return p1*x + 2*(z[3]-z[2])*np.sqrt(1/B[2]**2-p1**2) + 2*(z[2]-z[1])*np.sqrt(1/B[1]**2-p1**2) + z[1]*np.sqrt(1/B[0]**2-p1**2)\n"
   ]
  },
  {
   "cell_type": "markdown",
   "metadata": {},
   "source": [
    "## Define p-finding function"
   ]
  },
  {
   "cell_type": "code",
   "execution_count": null,
   "metadata": {
    "collapsed": true
   },
   "outputs": [],
   "source": [
    "def t_from_p(x, zs, B, tfunc, tmax):\n",
    "    p = [0*1j]\n",
    "    t = [tfunc(p[0],x,zs,B).real]\n",
    "    \n",
    "    while t[-1] < tmax:\n",
    "        w0 = p[-1].real\n",
    "        y0 = p[-1].imag\n",
    "        coords = []\n",
    "        for theta in range(0,90):\n",
    "            th = theta*math.pi/180\n",
    "            w = w0 + np.cos(th)*.0005\n",
    "            y = y0 + np.sin(th)*.0005\n",
    "            coords.append((w,y))\n",
    "        tvals = [tfunc(complex(*coord),x,zs,B) for coord in coords]\n",
    "        t_ind = np.argmax([tv.real for tv in tvals])\n",
    "        t.append(tvals[t_ind].real)\n",
    "        p.append(complex(*coords[t_ind]))\n",
    "    \n",
    "    return t, np.array(p)"
   ]
  },
  {
   "cell_type": "markdown",
   "metadata": {},
   "source": [
    "## Condense dp/dt interpolation"
   ]
  },
  {
   "cell_type": "code",
   "execution_count": null,
   "metadata": {
    "collapsed": true
   },
   "outputs": [],
   "source": [
    "def interp_p(t,p):\n",
    "    dt = .01\n",
    "    f=interp1d(t,p)\n",
    "    xi=np.arange(t[0],t[-1],dt)\n",
    "    yi = f(xi)\n",
    "    return yi,np.diff(yi)/dt"
   ]
  },
  {
   "cell_type": "markdown",
   "metadata": {},
   "source": [
    "## Define ray-processing functions\n",
    "Output ${\\rm Im}\\left (\\frac{\\sqrt p}{\\eta} SH_j(p) \\Pi(p) p \\frac{dp}{dt}\\right )$, where $SH_j$ are the radiation patterns and $\\Pi$ is the product of reflection and transmission coefficients, for each ray."
   ]
  },
  {
   "cell_type": "code",
   "execution_count": null,
   "metadata": {
    "collapsed": true
   },
   "outputs": [],
   "source": [
    "def i_uT(t,p,B,rh):\n",
    "    yi,dpdt = get_dpdt(t,p) #yi is interpolated p\n",
    "    mu = (B*1.e05)**2*rh\n",
    "    Tr = 2*mu[1]*np.sqrt(1/B[1]**2-yi[:-1]**2)/(mu[0]*np.sqrt(1/B[0]**2-yi[:-1]**2)+mu[1]*np.sqrt(1/B[1]**2-yi[:-1]**2))\n",
    "    SH1 = np.imag(np.sqrt(yi[:-1])*Tr*yi[:-1]*dpdt/(np.sqrt(1/B[1]**2-yi[:-1]**2)*B[1]**2))\n",
    "    SH2 = np.imag(np.sqrt(yi[:-1])*Tr*dpdt/B[1]**2)\n",
    "    return SH1,SH2"
   ]
  },
  {
   "cell_type": "code",
   "execution_count": null,
   "metadata": {
    "collapsed": true
   },
   "outputs": [],
   "source": [
    "import numpy as np\n",
    "from interpolate import interp1d"
   ]
  }
 ],
 "metadata": {
  "kernelspec": {
   "display_name": "Python [Root]",
   "language": "python",
   "name": "Python [Root]"
  },
  "language_info": {
   "codemirror_mode": {
    "name": "ipython",
    "version": 3
   },
   "file_extension": ".py",
   "mimetype": "text/x-python",
   "name": "python",
   "nbconvert_exporter": "python",
   "pygments_lexer": "ipython3",
   "version": "3.5.0rc4"
  }
 },
 "nbformat": 4,
 "nbformat_minor": 1
}
