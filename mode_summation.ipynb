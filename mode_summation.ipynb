{
 "cells": [
  {
   "cell_type": "code",
   "execution_count": 1,
   "metadata": {
    "collapsed": false
   },
   "outputs": [],
   "source": [
    "import numpy as np\n",
    "import math\n",
    "import matplotlib.pyplot as plt\n",
    "import time\n",
    "from scipy import interpolate\n",
    "from scipy.optimize import root\n",
    "import pymc\n",
    "import obspy\n",
    "import random\n",
    "from cdh_mc import Model\n",
    "from modal_sum import calc_nu, P_tl, P_tr, P_bl, P_br,F_tl, F_tr, F_bl, F_br"
   ]
  },
  {
   "cell_type": "markdown",
   "metadata": {},
   "source": [
    "# User Defined"
   ]
  },
  {
   "cell_type": "markdown",
   "metadata": {},
   "source": [
    "## Define geometry"
   ]
  },
  {
   "cell_type": "code",
   "execution_count": 2,
   "metadata": {
    "collapsed": false
   },
   "outputs": [],
   "source": [
    "params_dict = { 'min_layers':3, 'max_layers':3,  'min_rho':1, 'max_rho':3, 'min_vel':1, 'max_vel':3, \\\n",
    "              'min_depth':0, 'max_depth':300,} # units: N/A; g/cc; km/s; km\n",
    "model = Model(params_dict)\n",
    "model.layer_1.mu = 3"
   ]
  },
  {
   "cell_type": "markdown",
   "metadata": {},
   "source": [
    "## Define search space"
   ]
  },
  {
   "cell_type": "code",
   "execution_count": 3,
   "metadata": {
    "collapsed": false
   },
   "outputs": [],
   "source": [
    "z = model.no_layers\n",
    "\n",
    "nk = 1000\n",
    "\n",
    "nyquist = 1.0*(2*np.pi) # 1 hz\n",
    "nw = 64\n",
    "dw = nyquist/nw\n",
    "\n",
    "model.layer_1.upper_interface = 0 \n",
    "model.layer_1.lower_interface = 4 #h1 = 4 km\n",
    "model.layer_1.h = 4\n",
    "model.layer_2.upper_interface = 4 \n",
    "model.layer_2.lower_interface = 29 #h2 = 25 km\n",
    "model.layer_2.h = 25\n",
    "model.layer_3.upper_interface = 29\n",
    "model.layer_3.lower_interface = 129 #h3 = 100 km\n",
    "model.layer_3.h = 100\n",
    "\n",
    "model.layer_1.velocity = 2.4*100000 # 2.4*10^5 cm/s\n",
    "model.layer_2.velocity = 3.5*100000\n",
    "model.layer_3.velocity = 4.5*100000\n",
    "beta_max = max([model.layer_1.velocity,model.layer_2.velocity,model.layer_3.velocity])\n",
    "beta_min = min([model.layer_1.velocity,model.layer_2.velocity,model.layer_3.velocity])\n",
    "\n",
    "model.layer_1.density = 2.0 # 2 g/cm^3\n",
    "model.layer_2.density = 2.67\n",
    "model.layer_3.density = 3.3\n",
    "\n",
    "model.layer_1.mu = model.layer_1.velocity**2 * model.layer_1.density\n",
    "model.layer_2.mu = model.layer_2.velocity**2 * model.layer_2.density\n",
    "model.layer_3.mu = model.layer_3.velocity**2 * model.layer_3.density"
   ]
  },
  {
   "cell_type": "markdown",
   "metadata": {},
   "source": [
    "# Generate propogator matrix for top layer"
   ]
  },
  {
   "cell_type": "code",
   "execution_count": 4,
   "metadata": {
    "collapsed": false,
    "scrolled": true
   },
   "outputs": [],
   "source": [
    "B = []\n",
    "for z in range(z-1):\n",
    "    for w in np.arange(dw, nyquist+dw, dw):\n",
    "        kmin = w/beta_max\n",
    "        kmax = w/beta_min\n",
    "        for k in np.arange(kmin, kmax, kmin/nk):\n",
    "\n",
    "################################################################\n",
    "# ALEX: implement this convention after we get it working...\n",
    "#             layer = z+1\n",
    "#             layer_object = getattr(model, \"layer_%i\" % layer)\n",
    "#             beta = layer_object.velocity\n",
    "\n",
    "            nu1 = calc_nu(k, w, model.layer_1.velocity)\n",
    "            nu2 = calc_nu(k, w, model.layer_2.velocity)\n",
    "            nu3 = calc_nu(k, w, model.layer_3.velocity)\n",
    "            \n",
    "            mu1 = model.layer_1.mu\n",
    "            mu2 = model.layer_2.mu\n",
    "            mu3 = model.layer_3.mu\n",
    "            \n",
    "            h1 = model.layer_1.h\n",
    "            h2 = model.layer_1.h\n",
    "            h3 = model.layer_1.h\n",
    "################################################################\n",
    "\n",
    "            \n",
    "            F = np.array([[F_tl(nu2, h2, mu2), F_tr(nu2, h2, mu2)], \n",
    "                [F_bl(nu2, h2, mu2), F_br(nu2, h2, mu2)]]) #Fn\n",
    "               \n",
    "        \n",
    "            P = np.array([[P_tl(nu1, h1), P_tr(nu1, h1, mu1)],\n",
    "                [P_bl(nu1, h1, mu1), P_br(nu1, h1)]]) #Pn+1\n",
    "\n",
    "            B.append(F*P)"
   ]
  },
  {
   "cell_type": "code",
   "execution_count": 34,
   "metadata": {
    "collapsed": false
   },
   "outputs": [],
   "source": [
    "b21 = [b[[1],[0]][0] for b in B]\n",
    "J = np.where(np.imag(b21) == 0)[0]\n",
    "a = [b21[j] for j in J]\n",
    "threshold = 0.01\n",
    "l = np.where(np.abs(a)< threshold)[0]\n",
    "#kk = max()"
   ]
  },
  {
   "cell_type": "code",
   "execution_count": null,
   "metadata": {
    "collapsed": false
   },
   "outputs": [],
   "source": []
  },
  {
   "cell_type": "code",
   "execution_count": null,
   "metadata": {
    "collapsed": true
   },
   "outputs": [],
   "source": []
  },
  {
   "cell_type": "code",
   "execution_count": null,
   "metadata": {
    "collapsed": false
   },
   "outputs": [],
   "source": []
  },
  {
   "cell_type": "code",
   "execution_count": null,
   "metadata": {
    "collapsed": true
   },
   "outputs": [],
   "source": []
  },
  {
   "cell_type": "code",
   "execution_count": null,
   "metadata": {
    "collapsed": true
   },
   "outputs": [],
   "source": []
  },
  {
   "cell_type": "code",
   "execution_count": null,
   "metadata": {
    "collapsed": true
   },
   "outputs": [],
   "source": []
  },
  {
   "cell_type": "code",
   "execution_count": null,
   "metadata": {
    "collapsed": true
   },
   "outputs": [],
   "source": []
  },
  {
   "cell_type": "code",
   "execution_count": null,
   "metadata": {
    "collapsed": true
   },
   "outputs": [],
   "source": []
  },
  {
   "cell_type": "code",
   "execution_count": null,
   "metadata": {
    "collapsed": true
   },
   "outputs": [],
   "source": []
  }
 ],
 "metadata": {
  "anaconda-cloud": {},
  "kernelspec": {
   "display_name": "Python [Root]",
   "language": "python",
   "name": "Python [Root]"
  },
  "language_info": {
   "codemirror_mode": {
    "name": "ipython",
    "version": 3
   },
   "file_extension": ".py",
   "mimetype": "text/x-python",
   "name": "python",
   "nbconvert_exporter": "python",
   "pygments_lexer": "ipython3",
   "version": "3.5.0rc4"
  },
  "toc": {
   "nav_menu": {
    "height": "102px",
    "width": "252px"
   },
   "navigate_menu": true,
   "number_sections": true,
   "sideBar": true,
   "threshold": 4,
   "toc_cell": false,
   "toc_position": {
    "height": "671px",
    "left": "0px",
    "right": "1166px",
    "top": "106px",
    "width": "224px"
   },
   "toc_section_display": "block",
   "toc_window_display": true
  }
 },
 "nbformat": 4,
 "nbformat_minor": 1
}
