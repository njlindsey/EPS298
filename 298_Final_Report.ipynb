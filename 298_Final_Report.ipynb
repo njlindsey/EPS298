{
 "cells": [
  {
   "cell_type": "markdown",
   "metadata": {
    "toc": "true"
   },
   "source": [
    "# Table of Contents\n",
    " <p><div class=\"lev1 toc-item\"><a href=\"#Summary\" data-toc-modified-id=\"Summary-1\"><span class=\"toc-item-num\">1&nbsp;&nbsp;</span>Summary</a></div><div class=\"lev1 toc-item\"><a href=\"#Cagniard-de-Hoop-Method\" data-toc-modified-id=\"Cagniard-de-Hoop-Method-2\"><span class=\"toc-item-num\">2&nbsp;&nbsp;</span>Cagniard de Hoop Method</a></div><div class=\"lev2 toc-item\"><a href=\"#Generalized-Solution\" data-toc-modified-id=\"Generalized-Solution-21\"><span class=\"toc-item-num\">2.1&nbsp;&nbsp;</span>Generalized Solution</a></div><div class=\"lev3 toc-item\"><a href=\"#Time-functions\" data-toc-modified-id=\"Time-functions-211\"><span class=\"toc-item-num\">2.1.1&nbsp;&nbsp;</span>Time functions</a></div><div class=\"lev3 toc-item\"><a href=\"#P-plane-Path\" data-toc-modified-id=\"P-plane-Path-212\"><span class=\"toc-item-num\">2.1.2&nbsp;&nbsp;</span>P-plane Path</a></div><div class=\"lev3 toc-item\"><a href=\"#Find-$dp/dt$\" data-toc-modified-id=\"Find-$dp/dt$-213\"><span class=\"toc-item-num\">2.1.3&nbsp;&nbsp;</span>Find <span class=\"MathJax_Preview\" style=\"color: inherit;\"></span><span class=\"MathJax\" id=\"MathJax-Element-6-Frame\" tabindex=\"0\" data-mathml=\"<math xmlns=&quot;http://www.w3.org/1998/Math/MathML&quot;><mi>d</mi><mi>p</mi><mrow class=&quot;MJX-TeXAtom-ORD&quot;><mo>/</mo></mrow><mi>d</mi><mi>t</mi></math>\" role=\"presentation\" style=\"position: relative;\"><nobr aria-hidden=\"true\"><span class=\"math\" id=\"MathJax-Span-50\" role=\"math\" style=\"width: 2.595em; display: inline-block;\"><span style=\"display: inline-block; position: relative; width: 2.132em; height: 0px; font-size: 120%;\"><span style=\"position: absolute; clip: rect(1.715em 1002.13em 2.873em -999.998em); top: -2.544em; left: 0.002em;\"><span class=\"mrow\" id=\"MathJax-Span-51\"><span class=\"mi\" id=\"MathJax-Span-52\" style=\"font-family: STIXMathJax_Main-italic;\">d<span style=\"display: inline-block; overflow: hidden; height: 1px; width: 0.049em;\"></span></span><span class=\"mi\" id=\"MathJax-Span-53\" style=\"font-family: STIXMathJax_Main-italic;\">p</span><span class=\"texatom\" id=\"MathJax-Span-54\"><span class=\"mrow\" id=\"MathJax-Span-55\"><span class=\"mo\" id=\"MathJax-Span-56\" style=\"font-family: STIXMathJax_Main;\">/</span></span></span><span class=\"mi\" id=\"MathJax-Span-57\" style=\"font-family: STIXMathJax_Main-italic;\">d<span style=\"display: inline-block; overflow: hidden; height: 1px; width: 0.049em;\"></span></span><span class=\"mi\" id=\"MathJax-Span-58\" style=\"font-family: STIXMathJax_Main-italic;\">t<span style=\"display: inline-block; overflow: hidden; height: 1px; width: 0.002em;\"></span></span></span><span style=\"display: inline-block; width: 0px; height: 2.549em;\"></span></span></span><span style=\"display: inline-block; overflow: hidden; vertical-align: -0.275em; border-left: 0px solid; width: 0px; height: 1.169em;\"></span></span></nobr><span class=\"MJX_Assistive_MathML\" role=\"presentation\"><math xmlns=\"http://www.w3.org/1998/Math/MathML\"><mi>d</mi><mi>p</mi><mrow class=\"MJX-TeXAtom-ORD\"><mo>/</mo></mrow><mi>d</mi><mi>t</mi></math></span></span><script type=\"math/tex\" id=\"MathJax-Element-6\">dp/dt</script></a></div><div class=\"lev3 toc-item\"><a href=\"#SH-Functions\" data-toc-modified-id=\"SH-Functions-214\"><span class=\"toc-item-num\">2.1.4&nbsp;&nbsp;</span>SH Functions</a></div><div class=\"lev3 toc-item\"><a href=\"#Potential-function\" data-toc-modified-id=\"Potential-function-215\"><span class=\"toc-item-num\">2.1.5&nbsp;&nbsp;</span>Potential function</a></div><div class=\"lev2 toc-item\"><a href=\"#Application:-Compute-synthetic-for-Alum-Rock\" data-toc-modified-id=\"Application:-Compute-synthetic-for-Alum-Rock-22\"><span class=\"toc-item-num\">2.2&nbsp;&nbsp;</span>Application: Compute synthetic for Alum Rock</a></div><div class=\"lev3 toc-item\"><a href=\"#Synthetic-Data\" data-toc-modified-id=\"Synthetic-Data-221\"><span class=\"toc-item-num\">2.2.1&nbsp;&nbsp;</span>Synthetic Data</a></div><div class=\"lev3 toc-item\"><a href=\"#Observed-Data\" data-toc-modified-id=\"Observed-Data-222\"><span class=\"toc-item-num\">2.2.2&nbsp;&nbsp;</span>Observed Data</a></div><div class=\"lev1 toc-item\"><a href=\"#Love-Wave-mode-summation-following-Haskell-(1951)\" data-toc-modified-id=\"Love-Wave-mode-summation-following-Haskell-(1951)-3\"><span class=\"toc-item-num\">3&nbsp;&nbsp;</span>Love Wave mode summation following Haskell (1951)</a></div><div class=\"lev2 toc-item\"><a href=\"#Theory\" data-toc-modified-id=\"Theory-31\"><span class=\"toc-item-num\">3.1&nbsp;&nbsp;</span>Theory</a></div><div class=\"lev2 toc-item\"><a href=\"#Computation-process\" data-toc-modified-id=\"Computation-process-32\"><span class=\"toc-item-num\">3.2&nbsp;&nbsp;</span>Computation process</a></div><div class=\"lev3 toc-item\"><a href=\"#Plot\" data-toc-modified-id=\"Plot-321\"><span class=\"toc-item-num\">3.2.1&nbsp;&nbsp;</span>Plot</a></div><div class=\"lev3 toc-item\"><a href=\"#Plot\" data-toc-modified-id=\"Plot-322\"><span class=\"toc-item-num\">3.2.2&nbsp;&nbsp;</span>Plot</a></div><div class=\"lev2 toc-item\"><a href=\"#2-layer-analytic-dispersion\" data-toc-modified-id=\"2-layer-analytic-dispersion-33\"><span class=\"toc-item-num\">3.3&nbsp;&nbsp;</span>2-layer analytic dispersion</a></div><div class=\"lev1 toc-item\"><a href=\"#TEMP\" data-toc-modified-id=\"TEMP-4\"><span class=\"toc-item-num\">4&nbsp;&nbsp;</span>TEMP</a></div><div class=\"lev2 toc-item\"><a href=\"#Define-model\" data-toc-modified-id=\"Define-model-41\"><span class=\"toc-item-num\">4.1&nbsp;&nbsp;</span>Define model</a></div><div class=\"lev1 toc-item\"><a href=\"#Waveform-Monte-Carlo\" data-toc-modified-id=\"Waveform-Monte-Carlo-5\"><span class=\"toc-item-num\">5&nbsp;&nbsp;</span>Waveform Monte Carlo</a></div>"
   ]
  },
  {
   "cell_type": "markdown",
   "metadata": {},
   "source": [
    "For a notebook extensions such as table of contents, please visit https://github.com/ipython-contrib/jupyter_contrib_nbextensions and follow install instructions"
   ]
  },
  {
   "cell_type": "markdown",
   "metadata": {},
   "source": [
    "# Summary\n",
    "\n",
    "This notebook walks the user through the calculation of synthetic seismograms both via the Cagniard de Hoop integral method and l1 mode summmation method as outlined in Aki & Richards. It is worth noting here thought that various problems were encountered; some of which were never solved.\n",
    "\n",
    "To Fix:    \n",
    " 1) Unknown amplitude issue in Cagniard de Hoop synthetics     \n",
    "    2) L1 calculation blows up at depth, though largely after the depths of interest"
   ]
  },
  {
   "cell_type": "code",
   "execution_count": 10,
   "metadata": {
    "collapsed": true
   },
   "outputs": [],
   "source": [
    "%matplotlib inline\n",
    "import numpy as np\n",
    "from scipy.interpolate import interp1d\n",
    "import matplotlib.pyplot as plt\n",
    "from __future__ import print_function\n",
    "from scipy.optimize import fsolve\n",
    "import obspy\n",
    "import math\n",
    "import time\n",
    "import scipy as sp\n",
    "from scipy import interpolate\n",
    "from scipy.optimize import root\n",
    "import obspy\n",
    "import random\n",
    "from cdh_mc import Model\n",
    "from modal_sum import calc_nu, P_tl, P_tr, P_bl, P_br,F_tl, F_tr, F_bl, F_br, Pprecise_tl, Pprecise_tr, Pprecise_bl, Pprecise_br,amplifyP"
   ]
  },
  {
   "cell_type": "markdown",
   "metadata": {},
   "source": [
    "# Cagniard de Hoop Method\n",
    "We seek to calculate the response to a point source in a vertically heterogeneous medium by summing over geometric rays. The Cagniard de Hoop method is a manipulation of the elastic equations so that we do not need to perform any inverse transform integrations. Instead, our primary goal is the accurate calculation of the integration path through the complex p-plane for which time is real and increasing (C - figure below).\n",
    "\n",
    "<img src=cdh_int_fig.png>\n",
    "\n",
    "## Generalized Solution\n",
    "\n",
    "### Time functions\n",
    "For each ray, we must find the integration path (C - above figure) through the complex p-plane for which time is real and increasing (although we never need to complete the integral). To facilitate this, we define a time function for each geometric ray. A direct wave has the familiar formula $t = px + \\eta z$, while more complicated waves have functions of the form $t = px + \\eta_i z_i$. Since $\\eta = \\sqrt{B^{-2}-p^2}$, it wasn't obvious how to do a MATLAB-style element-wise caluculation over an array of p-points. Instead, individual functions that take one p-point and return one t-point are defined.\n",
    "\n",
    "The time functions are labeled as upgoing [**u**] or downgoing [**d**] from the source followed by reflections [**R**] and transmissions [**T**] at each layer interface encountered. Each function calculates the time associated with a point in the complex p-plane. The inputs are a [p] value, the horizontal source-receiver distance [x], the depths of layer interfaces [z_array], and the velocities of the layers [B_array]. The velocity structure is assumed to take the form\n",
    "\n",
    "z_array[0] --------------  \n",
    "velocity: B_array[0]  \n",
    "z_array[1] --------------  \n",
    "velocity: B_array[1]  \n",
    "\n",
    "        ...  \n",
    "\n",
    "z_array[n] --------------  \n",
    "velocity: B_array[n] (this is the half-space)\n",
    "\n",
    "For three layers over a half-space with the source in the second layer, the first five rays of interest are the direct transmission, two reflected multiples, the simplest upgoing wave which traverses the third layer, and the simplest downgoing wave which traverses the third layer. Their time functions are defined:"
   ]
  },
  {
   "cell_type": "code",
   "execution_count": 2,
   "metadata": {
    "code_folding": [
     0,
     2,
     4,
     6,
     8
    ],
    "collapsed": true
   },
   "outputs": [],
   "source": [
    "def time_func_uT(p_point,x,z_array,B_array):\n",
    "    return p_point*x + (z_array[0]-z_array[1])*np.sqrt(1/B_array[1]**2-p_point**2) + z_array[1]*np.sqrt(1/B_array[0]**2-p_point**2)\n",
    "def time_func_uTRR(p_point,x,z_array,B_array):\n",
    "    return p_point*x + (z_array[0]-z_array[1])*np.sqrt(1/B_array[1]**2-p_point**2) + 3*z_array[1]*np.sqrt(1/B_array[0]**2-p_point**2)\n",
    "def time_func_uTRRRR(p_point,x,z_array,B_array):\n",
    "    return p_point*x + (z_array[0]-z_array[1])*np.sqrt(1/B_array[1]**2-p_point**2) + 5*z_array[1]*np.sqrt(1/B_array[0]**2-p_point**2)\n",
    "def time_func_dRT(p_point,x,z_array,B_array):\n",
    "    return p_point*x + (2*z_array[2]-z_array[0]-z_array[1])*np.sqrt(1/B_array[1]**2-p_point**2) + z_array[1]*np.sqrt(1/B_array[0]**2-p_point**2)\n",
    "def time_func_dTRTT(p_point,x,z_array,B_array):\n",
    "    return p_point*x + 2*(z_array[3]-z_array[2])*np.sqrt(1/B_array[2]**2-p_point**2) + 2*(z_array[2]-z_array[1])*np.sqrt(1/B_array[1]**2-p_point**2) + z_array[1]*np.sqrt(1/B_array[0]**2-p_point**2)\n"
   ]
  },
  {
   "cell_type": "markdown",
   "metadata": {},
   "source": [
    "### P-plane Path\n",
    "To find the function $t(p)$ for each ray, we start from the known location $p=0$ and use a radial search. The function goes out to infinite time, so we must choose a stop condition. Here, a maximum time is used. For the part of the path on the negative real p-axis, going back to where t=0, we are able to use a nonlinear solver. The radial search find points that are unevenly spaced in time, so we use an interpolator to find the desired spacing. The path-finding function takes inputs for the horizontal distance [x], the depths of layer interfaces [z_array], the layer velocities [B_array], the time function for the ray of interest [time_func], the maximum time to calculate [t_max], and the desired time spacing [dt]."
   ]
  },
  {
   "cell_type": "code",
   "execution_count": 3,
   "metadata": {
    "code_folding": [],
    "collapsed": true
   },
   "outputs": [],
   "source": [
    "def path_search_radial(x, z_array, B_array, time_func, t_max, dt):\n",
    "    p = [0*1j] #start at p=0\n",
    "    t = [time_func(p[0],x,z_array,B_array).real] #find the first t value\n",
    "    \n",
    "    while t[-1] < t_max:\n",
    "        # split the p-point into real and complex coordinates\n",
    "        w0 = p[-1].real\n",
    "        y0 = p[-1].imag\n",
    "        coords = []\n",
    "        # define the search space for the next point\n",
    "        for theta in range(0,90):\n",
    "            th = theta*np.pi/180\n",
    "            w = w0 + np.cos(th)*.0005\n",
    "            y = y0 + np.sin(th)*.0005\n",
    "            coords.append((w,y))\n",
    "        # calculate t values over the search space\n",
    "        tvals = [time_func(complex(*coord),x,z_array,B_array) for coord in coords]\n",
    "        # find the maximum real time point\n",
    "        t_ind = np.argmax([tv.real for tv in tvals])\n",
    "        t = np.append(t,tvals[t_ind].real)\n",
    "        p = np.append(p,complex(*coords[t_ind]))\n",
    "        \n",
    "        # add p<0 section, where p is known to be real and negative\n",
    "        t_stub = np.arange(0,t[0],dt) #solve for p at each of these points in t\n",
    "        def zero_func(p_in,t_in):\n",
    "            make_zero = time_func(p_in,x,z_array,B_array) - t_in #t_in fixed, goal is to find p\n",
    "            return make_zero\n",
    "        p_stub = np.array([])\n",
    "        for t_pt in t_stub:\n",
    "            p_stub = np.append(p_stub,fsolve(zero_func,0,args=(t_pt)))\n",
    "        t = np.concatenate((t_stub,t))\n",
    "        p = np.concatenate((p_stub,p))\n",
    "        \n",
    "        # interpolate full function to dt spacing\n",
    "        f=interp1d(t,p)\n",
    "        ti=np.arange(0,np.floor(t[-1]),dt)\n",
    "        pi = f(ti)\n",
    "    \n",
    "    return ti, pi"
   ]
  },
  {
   "cell_type": "markdown",
   "metadata": {},
   "source": [
    "### Find dp/dt\n",
    "For each $t(p)$ path we also need to find the function $dp/dt$. The inputs to get $dp/dt$ are the path solution points [p_solution] and the required spacing in time [dt]."
   ]
  },
  {
   "cell_type": "code",
   "execution_count": 4,
   "metadata": {
    "code_folding": [
     0
    ],
    "collapsed": true
   },
   "outputs": [],
   "source": [
    "def get_dpdt(p_solution,dt):\n",
    "    dpdt = np.diff(p_solution)/dt\n",
    "    return dpdt"
   ]
  },
  {
   "cell_type": "markdown",
   "metadata": {},
   "source": [
    "### SH Functions\n",
    "Next we process each ray to find ${\\rm Im}\\left (\\frac{\\sqrt p}{\\eta} SH_j(p) \\Pi(p) p \\frac{dp}{dt}\\right )$, where $SH_j$ are the radiation patterns and $\\Pi$ is the product of reflection and transmission coefficients. Note that SH1 and SH2 are equivalent to tds and tss used in EPS 207.\n",
    "\n",
    "$SH_1 = 1/\\beta^2$ and $SH_2 = \\frac{\\varepsilon}{\\beta^2}\\frac{\\eta}{p}$ where $\\varepsilon$ is +1 for upgoing and -1 for downgoing rays. Since these are source radiation functions, we use the parameters of the source layer (possibly a bad assumption).\n",
    "\n",
    "For confusion's sake, we've labeled the output of this full expression SH1 and SH2. We define functions to apply this expression to each ray with the inputs from the path solution [t] and [p], the velocity structure [B] and the density structure [rh]."
   ]
  },
  {
   "cell_type": "code",
   "execution_count": 5,
   "metadata": {
    "code_folding": [],
    "collapsed": true
   },
   "outputs": [],
   "source": [
    "def SH_uT(t,p,B,rh,dt):\n",
    "    dpdt = get_dpdt(p,dt) #p is interpolated p\n",
    "    mu = (B*1.e05)**2*rh\n",
    "    Tr = 2*mu[1]*np.sqrt(1/B[1]**2-p[:-1]**2\n",
    "                        )/(mu[0]*np.sqrt(1/B[0]**2-p[:-1]**2)+mu[1]*np.sqrt(1/B[1]**2-p[:-1]**2))\n",
    "    SH1 = np.imag(np.sqrt(p[:-1])*Tr*p[:-1]*dpdt/(np.sqrt(1/B[1]**2-p[:-1]**2)*B[1]**2))\n",
    "    SH2 = np.imag(np.sqrt(p[:-1])*Tr*dpdt/B[1]**2)\n",
    "    return SH1,SH2"
   ]
  },
  {
   "cell_type": "code",
   "execution_count": 6,
   "metadata": {
    "code_folding": [],
    "collapsed": true
   },
   "outputs": [],
   "source": [
    "def SH_uTRR(t,p,B,rh,dt):\n",
    "    dpdt = get_dpdt(p,dt) #p is interpolated p\n",
    "    mu = (B*1.e05)**2*rh\n",
    "    Tr = 2*mu[1]*np.sqrt(1/B[1]**2-p[:-1]**2\n",
    "                        )/(mu[0]*np.sqrt(1/B[0]**2-p[:-1]**2)+mu[1]*np.sqrt(1/B[1]**2-p[:-1]**2))\n",
    "    Re = (mu[0]*np.sqrt(1/B[0]**2-p[:-1]**2)-mu[1]*np.sqrt(1/B[1]**2-p[:-1]**2)\n",
    "         )/(mu[0]*np.sqrt(1/B[0]**2-p[:-1]**2)+mu[1]*np.sqrt(1/B[1]**2-p[:-1]**2))\n",
    "    SH1 = np.imag(np.sqrt(p[:-1])*Tr*Re*p[:-1]*dpdt/(np.sqrt(1/B[1]**2-p[:-1]**2)*B[1]**2))\n",
    "    SH2 = np.imag(np.sqrt(p[:-1])*Tr*Re*dpdt/B[1]**2)\n",
    "    return SH1,SH2"
   ]
  },
  {
   "cell_type": "code",
   "execution_count": 7,
   "metadata": {
    "code_folding": [],
    "collapsed": true
   },
   "outputs": [],
   "source": [
    "def SH_uTRRRR(t,p,B,rh,dt):\n",
    "    dpdt = get_dpdt(p,dt) #p is interpolated p\n",
    "    mu = (B*1.e05)**2*rh\n",
    "    Tr = 2*mu[1]*np.sqrt(1/B[1]**2-p[:-1]**2\n",
    "                        )/(mu[0]*np.sqrt(1/B[0]**2-p[:-1]**2)+mu[1]*np.sqrt(1/B[1]**2-p[:-1]**2))\n",
    "    Re = (mu[0]*np.sqrt(1/B[0]**2-p[:-1]**2)-mu[1]*np.sqrt(1/B[1]**2-p[:-1]**2)\n",
    "         )/(mu[0]*np.sqrt(1/B[0]**2-p[:-1]**2)+mu[1]*np.sqrt(1/B[1]**2-p[:-1]**2))\n",
    "    SH1 = np.imag(np.sqrt(p[:-1])*Tr*Re*Re*p[:-1]*dpdt/(np.sqrt(1/B[1]**2-p[:-1]**2)*B[1]**2))\n",
    "    SH2 = np.imag(np.sqrt(p[:-1])*Tr*Re*Re*dpdt/B[1]**2)\n",
    "    return SH1,SH2"
   ]
  },
  {
   "cell_type": "code",
   "execution_count": 8,
   "metadata": {
    "code_folding": [],
    "collapsed": true
   },
   "outputs": [],
   "source": [
    "def SH_dRT(t,p,B,rh,dt):\n",
    "    dpdt = get_dpdt(p,dt) #p is interpolated p\n",
    "    mu = (B*1.e05)**2*rh\n",
    "    Tr = 2*mu[1]*np.sqrt(1/B[1]**2-p[:-1]**2\n",
    "                        )/(mu[0]*np.sqrt(1/B[0]**2-p[:-1]**2)+mu[1]*np.sqrt(1/B[1]**2-p[:-1]**2))\n",
    "    Re = (mu[1]*np.sqrt(1/B[1]**2-p[:-1]**2)-mu[2]*np.sqrt(1/B[2]**2-p[:-1]**2)\n",
    "         )/(mu[1]*np.sqrt(1/B[1]**2-p[:-1]**2)+mu[2]*np.sqrt(1/B[2]**2-p[:-1]**2))\n",
    "    SH1 = np.imag(np.sqrt(p[:-1])*Tr*Re*p[:-1]*dpdt/(np.sqrt(1/B[1]**2-p[:-1]**2)*B[1]**2))\n",
    "    SH2 = np.imag(-1*np.sqrt(p[:-1])*Tr*Re*dpdt/B[1]**2)\n",
    "    return SH1,SH2"
   ]
  },
  {
   "cell_type": "code",
   "execution_count": 9,
   "metadata": {
    "code_folding": [],
    "collapsed": true
   },
   "outputs": [],
   "source": [
    "def SH_dTRTT(t,p,B,rh,dt):\n",
    "    dpdt = get_dpdt(p,dt) #p is interpolated p\n",
    "    mu = (B*1.e05)**2*rh\n",
    "    Tr_10 = 2*mu[1]*np.sqrt(1/B[1]**2-p[:-1]**2\n",
    "                        )/(mu[0]*np.sqrt(1/B[0]**2-p[:-1]**2)+mu[1]*np.sqrt(1/B[1]**2-p[:-1]**2))\n",
    "    Tr_12 = 2*mu[1]*np.sqrt(1/B[1]**2-p[:-1]**2\n",
    "                        )/(mu[2]*np.sqrt(1/B[2]**2-p[:-1]**2)+mu[1]*np.sqrt(1/B[1]**2-p[:-1]**2))\n",
    "    Tr_21 = 2*mu[2]*np.sqrt(1/B[2]**2-p[:-1]**2\n",
    "                        )/(mu[2]*np.sqrt(1/B[2]**2-p[:-1]**2)+mu[1]*np.sqrt(1/B[1]**2-p[:-1]**2))\n",
    "    Re = (mu[2]*np.sqrt(1/B[2]**2-p[:-1]**2)-mu[3]*np.sqrt(1/B[3]**2-p[:-1]**2)\n",
    "         )/(mu[2]*np.sqrt(1/B[2]**2-p[:-1]**2)+mu[3]*np.sqrt(1/B[3]**2-p[:-1]**2))\n",
    "    SH1 = np.imag(np.sqrt(p[:-1])*Tr_12*Re*Tr_21*Tr_10*p[:-1]*dpdt/(np.sqrt(1/B[1]**2-p[:-1]**2)*B[1]**2))\n",
    "    SH2 = np.imag(-1*np.sqrt(p[:-1])*Tr_12*Re*Tr_21*Tr_10*dpdt/B[1]**2)\n",
    "    return SH1,SH2"
   ]
  },
  {
   "cell_type": "markdown",
   "metadata": {},
   "source": [
    "### Potential function\n",
    "We finally reach the potential function that allows us to calculate a synthetic seismogram with radiation pattern and source time function (Helmberger Eqn. 2.33). The SH solution on a free boundary is defined as \n",
    "\n",
    "$$V = \\frac{M_0}{4\\pi\\rho_0}\\frac{d}{dt}[\\dot{D(t)} * \\Sigma^{2}_{j=1} A_{j+3}(\\theta,\\lambda,\\delta)V_j(t)]$$ \n",
    "\n",
    "where \n",
    "\n",
    "$$V_j(t) = \\sqrt{2/r}\\frac{1}{\\pi}[\\frac{1}{\\sqrt{t}}*SH_j]$$.\n",
    "\n",
    "$M_0$ is the scalar seismic moment (units of dyne-cm...default is $10^{20}$ dyne-cm); $\\dot{D(t)}$ is the source time function (e.g., triangle; Brune); $A_{j+3}(\\theta,\\lambda,\\delta)$ are the coefficients describing the relative weight of the transverse vertical strike-slip (tss) and dip-slip (tds) fundamental-faults, which depend on fauilt dip ($\\delta$), rake ($\\lambda$), and angle between station and strike of fault ($\\theta$)."
   ]
  },
  {
   "cell_type": "code",
   "execution_count": 10,
   "metadata": {
    "code_folding": [],
    "collapsed": true
   },
   "outputs": [],
   "source": [
    "def Vt(t,r,SH):\n",
    "    A1=np.pi*np.pi/16;\n",
    "    sdt=2.0/np.sqrt(dt);\n",
    "    a=0;\n",
    "    m = len(t)\n",
    "    rt = np.zeros((m,1))[:,0]\n",
    "    for I in range(0,m):\n",
    "         b=np.sqrt((I) + A1)\n",
    "         rt[I]=sdt * (b - a)\n",
    "         a = b\n",
    "    return (np.sqrt(2/(r))/np.pi)*np.convolve(rt,SH)"
   ]
  },
  {
   "cell_type": "code",
   "execution_count": 11,
   "metadata": {
    "code_folding": [],
    "collapsed": true
   },
   "outputs": [],
   "source": [
    "def scaleMoment(M0,x,beta,rh):\n",
    "    return M0*2/np.pi*np.sqrt(2/x)*1/(beta**2)*1/(4*np.pi*rh)"
   ]
  },
  {
   "cell_type": "code",
   "execution_count": 12,
   "metadata": {
    "code_folding": [],
    "collapsed": true
   },
   "outputs": [],
   "source": [
    "def radiationPattern(azimuth,strike,dip,rake):\n",
    "    theta=azimuth-strike;\n",
    "    theta=theta*np.pi/180;\n",
    "    rake=rake*np.pi/180;\n",
    "    dip=dip*np.pi/180;\n",
    "    A4=np.cos(2*theta)*np.cos(rake)*np.sin(dip)-0.5*np.sin(2*theta)*np.sin(rake)*np.sin(2*dip);\n",
    "    A5=-1*np.sin(theta)*np.cos(rake)*np.cos(dip)-np.cos(theta)*np.sin(rake)*np.cos(2*dip);\n",
    "    return A4,A5"
   ]
  },
  {
   "cell_type": "code",
   "execution_count": 13,
   "metadata": {
    "code_folding": [],
    "collapsed": true
   },
   "outputs": [],
   "source": [
    "def synth_sourcetime(A4,A5,M0,Vt_SH1,Vt_SH2,risetime,dt,rh):\n",
    "    def synth():\n",
    "        s = np.diff((A4*Vt_SH1 + A5*Vt_SH2))/dt\n",
    "        return M0*s\n",
    "    def makeDdot():\n",
    "        time=np.arange(0,risetime*3,dt)\n",
    "        sourceTimeFn=time*np.e**(-time/(risetime/4.0))\n",
    "        return sourceTimeFn/np.trapz(sourceTimeFn)\n",
    "\n",
    "    return np.convolve(makeDdot(),synth())"
   ]
  },
  {
   "cell_type": "markdown",
   "metadata": {},
   "source": [
    "## Application: Compute synthetic for Alum Rock\n",
    "With these components, we're able to compute a synthetic seismogram for a velocity model."
   ]
  },
  {
   "cell_type": "markdown",
   "metadata": {},
   "source": [
    "Define geomoetry for solving:"
   ]
  },
  {
   "cell_type": "code",
   "execution_count": 14,
   "metadata": {
    "collapsed": false
   },
   "outputs": [],
   "source": [
    "x = 80.05 #Station distance\n",
    "z_arr = np.array([8,5,16,35]) #Depth array\n",
    "B_arr = np.array([2.2,3.34,3.97,4.0]) #Velocity array\n",
    "rho = np.array([2.4,2.67,2.8,3.3]) #Density array\n",
    "dt = .01\n",
    "azimuth=321.6;\n",
    "strike=318;\n",
    "dip=83;\n",
    "rake=-176;\n",
    "M0=9.20e2;\n",
    "risetime=.5;"
   ]
  },
  {
   "cell_type": "markdown",
   "metadata": {},
   "source": [
    "Pick max time:"
   ]
  },
  {
   "cell_type": "code",
   "execution_count": 15,
   "metadata": {
    "collapsed": false
   },
   "outputs": [],
   "source": [
    "tmax = 120 #seconds"
   ]
  },
  {
   "cell_type": "markdown",
   "metadata": {},
   "source": [
    "Get individual ray paths in the complex p-plane:"
   ]
  },
  {
   "cell_type": "code",
   "execution_count": 16,
   "metadata": {
    "collapsed": false
   },
   "outputs": [],
   "source": [
    "t_uT,p_uT = path_search_radial(x, z_arr, B_arr, time_func_uT, tmax, dt)\n",
    "t_uTRR,p_uTRR = path_search_radial(x, z_arr, B_arr, time_func_uTRR, tmax, dt)\n",
    "t_uTRRRR,p_uTRRRR = path_search_radial(x, z_arr, B_arr, time_func_uTRRRR, tmax, dt)\n",
    "t_dRT,p_dRT = path_search_radial(x, z_arr, B_arr, time_func_dRT, tmax, dt)\n",
    "t_dTRTT,p_dTRTT = path_search_radial(x, z_arr, B_arr, time_func_dTRTT, tmax, dt)"
   ]
  },
  {
   "cell_type": "markdown",
   "metadata": {},
   "source": [
    "Plot p-plane ray paths:"
   ]
  },
  {
   "cell_type": "code",
   "execution_count": 17,
   "metadata": {
    "collapsed": false
   },
   "outputs": [
    {
     "data": {
      "text/plain": [
       "<matplotlib.legend.Legend at 0x106913588>"
      ]
     },
     "execution_count": 17,
     "metadata": {},
     "output_type": "execute_result"
    },
    {
     "data": {
      "image/png": "[encoded data removed]",
      "text/plain": [
       "<matplotlib.figure.Figure at 0x106b4fbe0>"
      ]
     },
     "metadata": {},
     "output_type": "display_data"
    }
   ],
   "source": [
    "fig, ax = plt.subplots(1, 1, figsize = (6,6))\n",
    "ax.plot(p_uT.real,p_uT.imag,p_uTRR.real,p_uTRR.imag,p_uTRRRR.real,p_uTRRRR.imag,p_dRT.real,p_dRT.imag,p_dTRTT.real,p_dTRTT.imag)\n",
    "ax.set_xlabel(\"Re p\")\n",
    "ax.set_ylabel(\"Im p\")\n",
    "ax.legend((\"uT\",\"uTRR\",\"uTRRRR\",\"dRT\",\"dTRTT\"))"
   ]
  },
  {
   "cell_type": "markdown",
   "metadata": {},
   "source": [
    "Sum imaginary parts for SH1 and SH2:"
   ]
  },
  {
   "cell_type": "code",
   "execution_count": 18,
   "metadata": {
    "collapsed": false
   },
   "outputs": [],
   "source": [
    "SH_sum = np.array(SH_uT(t_uT,p_uT,B_arr,rho,dt))\n",
    "SH_sum += np.array(SH_uTRR(t_uTRR,p_uTRR,B_arr,rho,dt))\n",
    "SH_sum += np.array(SH_uTRRRR(t_uTRRRR,p_uTRRRR,B_arr,rho,dt))\n",
    "SH_sum += np.array(SH_dRT(t_dRT,p_dRT,B_arr,rho,dt))\n",
    "SH_sum += np.array(SH_dTRTT(t_dTRTT,p_dTRTT,B_arr,rho,dt))"
   ]
  },
  {
   "cell_type": "markdown",
   "metadata": {},
   "source": [
    "Apply radiation pattern and source time function:"
   ]
  },
  {
   "cell_type": "code",
   "execution_count": 19,
   "metadata": {
    "collapsed": false
   },
   "outputs": [],
   "source": [
    "t = np.arange(dt,tmax,dt)\n",
    "A4,A5 = radiationPattern(azimuth,strike,dip,rake)\n",
    "M0=scaleMoment(M0,x,B_arr[1],rho[1])\n",
    "uSH = synth_sourcetime(A4,A5,M0,Vt(t,x,SH_sum[0,:]),Vt(t,x,SH_sum[1,:]),risetime,dt,rho) #njl"
   ]
  },
  {
   "cell_type": "markdown",
   "metadata": {},
   "source": [
    "### Synthetic Data\n",
    "\n",
    "Note the differing aplitude and $y = 0$ reflection relative to the observed data below."
   ]
  },
  {
   "cell_type": "code",
   "execution_count": 20,
   "metadata": {
    "collapsed": false
   },
   "outputs": [
    {
     "data": {
      "text/plain": [
       "(0.0, 8000)"
      ]
     },
     "execution_count": 20,
     "metadata": {},
     "output_type": "execute_result"
    },
    {
     "data": {
      "image/png": "[encoded data removed]",
      "text/plain": [
       "<matplotlib.figure.Figure at 0x106b6f160>"
      ]
     },
     "metadata": {},
     "output_type": "display_data"
    }
   ],
   "source": [
    "fig, ax = plt.subplots(1, 1, figsize = (12,6))\n",
    "ax.plot(uSH)\n",
    "ax.set_xlim(right=8000)"
   ]
  },
  {
   "cell_type": "markdown",
   "metadata": {},
   "source": [
    "### Observed Data"
   ]
  },
  {
   "cell_type": "code",
   "execution_count": 21,
   "metadata": {
    "collapsed": false,
    "scrolled": true
   },
   "outputs": [
    {
     "data": {
      "text/plain": [
       "[<matplotlib.lines.Line2D at 0x11c5046d8>]"
      ]
     },
     "execution_count": 21,
     "metadata": {},
     "output_type": "execute_result"
    },
    {
     "data": {
      "image/png": "[encoded data removed]",
      "text/plain": [
       "<matplotlib.figure.Figure at 0x1194b27f0>"
      ]
     },
     "metadata": {},
     "output_type": "display_data"
    }
   ],
   "source": [
    "d=obspy.read('alumdata')\n",
    "plt.plot(d[0])"
   ]
  },
  {
   "cell_type": "markdown",
   "metadata": {},
   "source": [
    "# Love Wave mode summation\n",
    "We made two main attempts at calculating the l1 function for a layered velocity structure using propagator matrix methods. The first is a python translation of the MATLAB implementation Doug put together. It might calculate an incorrect l1 function that blows up to infinity with increasing depth, or it might just crash. Run this section at your own risk. We also include the attempt to directly follow the Haskell (1951) paper, but it doesn't seem to work either. Finally, a comparison of the analytic dispersion relation for one layer over a half-space is included using the familiar dispersion relation and the relation found in Haskell (1951). They can be made to agree, but indicate an error in the Haskell r_b equations."
   ]
  },
  {
   "cell_type": "code",
   "execution_count": null,
   "metadata": {
    "collapsed": true
   },
   "outputs": [],
   "source": [
    "params_dict = { 'min_layers':4, 'max_layers':4,  'min_rho':1, 'max_rho':3, 'min_vel':1, 'max_vel':3,\n",
    "                  'min_depth':0, 'max_depth':300,} # units: N/A; g/cc; km/s; km\\n\",\n",
    "model = Model(params_dict)"
   ]
  },
  {
   "cell_type": "code",
   "execution_count": null,
   "metadata": {
    "collapsed": true
   },
   "outputs": [],
   "source": [
    "z = model.no_layers\n",
    "\n",
    "nk = 1000\n",
    "\n",
    "nyquist = 1.0*(2*np.pi) # 1 hz\n",
    "nw = 64\n",
    "dw = nyquist/nw\n",
    "\n",
    "w = np.arange(dw, nyquist+dw, dw)\n",
    "\n",
    "model.layer_1.upper_interface = 0 \n",
    "model.layer_1.lower_interface = 5 #h1 = 4 km\n",
    "model.layer_1.h = 5\n",
    "model.layer_2.upper_interface = 5 \n",
    "model.layer_2.lower_interface = 16 #h2 = 25 km\n",
    "model.layer_2.h = 11\n",
    "#\n",
    "#\n",
    "\n",
    "model.layer_1.velocity = 2.2*100000 # 2.2*10^5 cm/s\n",
    "model.layer_2.velocity = 3.34*100000\n",
    "#model.layer_3.velocity = 4.5*100000\n",
    "\n",
    "beta_max = max([model.layer_1.velocity,model.layer_2.velocity,model.layer_3.velocity])\n",
    "beta_min = min([model.layer_1.velocity,model.layer_2.velocity,model.layer_3.velocity])\n",
    "\n",
    "model.layer_1.density = 2.4 # 2 g/cm^3\n",
    "model.layer_2.density = 2.67\n",
    "\n",
    "model.layer_1.mu = model.layer_1.velocity**2 * model.layer_1.density\n",
    "model.layer_2.mu = model.layer_2.velocity**2 * model.layer_2.density\n",
    "# model.layer_3.mu = model.layer_3.velocity**2 * model.layer_3.density\n"
   ]
  },
  {
   "cell_type": "code",
   "execution_count": null,
   "metadata": {
    "collapsed": true
   },
   "outputs": [],
   "source": [
    "z = model.layer_1.h * 100000 #set z thickness to be the top layer\n",
    "\n",
    "K = np.zeros((len(w))) #preallocate for final wavenumbers, to be filled by the search\n",
    "    \n",
    "for wn,wi in enumerate(w): #iterate through ang. frequency\n",
    "    \n",
    "    kmin = wi/beta_max; #wavenumber range is changing with every frequency\n",
    "    kmax = wi/beta_min;\n",
    "    k = np.arange(0, kmax+kmin/nk, kmin/nk)\n",
    "    B = np.zeros((len(k),2,2)) + 0j #preallocate the B matrix for this frequency with complex zeros\n",
    "    \n",
    "    for kn,ki in enumerate(k): #iterate through wavenumber\n",
    "        \n",
    "        nu1 = calc_nu(ki, wi, model.layer_1.velocity); #set vertical slowness for each layer\n",
    "        nu2 = calc_nu(ki, wi, model.layer_2.velocity);\n",
    "\n",
    "        #calc F matrix\\n\",\n",
    "        F = (1/(2*nu2*model.layer_2.mu))*np.array([[F_tl(nu2, z, model.layer_2.mu), F_tr(nu2, z, model.layer_2.mu)],\n",
    "                                              [F_bl(nu2, z, model.layer_2.mu), F_br(nu2, z, model.layer_2.mu)]])\n",
    "\n",
    "        #calc P matrix\n",
    "        P = np.array([[P_tl(nu1, z), P_tr(nu1, z, model.layer_1.mu)],\n",
    "                      [P_bl(nu1, z, model.layer_1.mu), P_br(nu1, z)]]);\n",
    "\n",
    "     \n",
    "        #fill B matrix\n",
    "        B[kn] = np.matmul(F,P) #equivalent to * in matlab\n",
    "\n",
    "\n",
    "    B21 = np.real(B[:,1,0]) #grab the B21 component of B, which is a 1 x k vector now\n",
    "\n",
    "    IB21 = np.imag(B[:,1,0]) #find where B21 goes real\n",
    "    J = np.where(IB21 == 0)[0]\n",
    "    A = B21[J] \n",
    "\n",
    "    L = np.where(np.abs(A) < 0.01) #find a real, stable minimum value of B21\n",
    "    K[wn] = np.max(k[J[L]]) #retrieve the wavenumber associated with this value\""
   ]
  },
  {
   "cell_type": "code",
   "execution_count": null,
   "metadata": {
    "collapsed": true
   },
   "outputs": [],
   "source": [
    "#phase velocity\n",
    "c=w/K"
   ]
  },
  {
   "cell_type": "code",
   "execution_count": null,
   "metadata": {
    "collapsed": true
   },
   "outputs": [],
   "source": [
    "fig,ax = plt.subplots(1,2,figsize=(16,6))\n",
    "ax[0].plot(w/(2*np.pi),K)\n",
    "ax[0].set_title('k vs f')\n",
    "\n",
    "ax[1].plot(w/(2*np.pi),c/100000,'g-')\n",
    "ax[1].set_title('phase velocity vs f');\n",
    "\n",
    "\n",
    "plt.rcParams.update({'font.size': 22})"
   ]
  },
  {
   "cell_type": "code",
   "execution_count": null,
   "metadata": {
    "collapsed": true
   },
   "outputs": [],
   "source": [
    "dz = 100000;\n",
    "zArr=np.arange(0,41*dz,dz);\n",
    "\n",
    "L1 = np.zeros(np.shape(zArr)) + 0j\n",
    "L2 = np.zeros(np.shape(zArr)) + 0j\n",
    "\n",
    "ki = K[9];\n",
    "wi = w[9];\n",
    "\n",
    "for zn,zi in enumerate(zArr): #start from the top\n",
    "    \n",
    "    nu = calc_nu(ki, wi, [model.layer_1.velocity,model.layer_2.velocity,model.layer_3.velocity]); #vert. slownesses\\n\",\n",
    "    if zi <= model.layer_1.h*100000: #still inside the first layer\n",
    "        P = np.array([[P_tl(nu[0], zi), P_tr(nu[0], zi, model.layer_1.mu)],\n",
    "                      [P_bl(nu[0], zi, model.layer_1.mu), P_br(nu[0], zi)]]);\n",
    "\n",
    "    if zi > model.layer_1.h*100000: #now inside the 2nd layer\n",
    "        z0=model.layer_1.h*100000; #need to now think of z as the distance from the bottom of the first layer\n",
    "        P1 = np.array([[P_tl(nu[1], (zi-z0)), P_tr(nu[1], (zi-z0), model.layer_2.mu)],\n",
    "                      [P_bl(nu[1], (zi-z0), model.layer_2.mu), P_br(nu[1], (zi-z0))]]);\n",
    "        \n",
    "        P = np.matmul(P1,np.array([[P_tl(nu[0], z0), P_tr(nu[0], z0, model.layer_1.mu)],\n",
    "                      [P_bl(nu[0], z0, model.layer_1.mu), P_br(nu[0], z0)]]));\n",
    "\n",
    "    L1[zn] = P[0,0];\n",
    "    L2[zn] = P[1,0];"
   ]
  },
  {
   "cell_type": "code",
   "execution_count": null,
   "metadata": {
    "collapsed": true
   },
   "outputs": [],
   "source": [
    "fig,ax = plt.subplots(1,2,figsize=(16,6));\n",
    "ax[0].plot(zArr/100000,L1);\n",
    "ax[0].set_title('L1 vs z');\n",
    "\n",
    "ax[1].plot(zArr/100000,L2,'g-');\n",
    "ax[1].set_title('L2 vs z');\n",
    "\n",
    "\n",
    "plt.rcParams.update({'font.size': 22})"
   ]
  },
  {
   "cell_type": "code",
   "execution_count": null,
   "metadata": {
    "collapsed": true
   },
   "outputs": [],
   "source": [
    "L1 = np.zeros((len(zArr),len(K)))# + 0j\n",
    "L2 = np.zeros((len(zArr),len(K)))# + 0j\n",
    "\n",
    "ki = K[4];\n",
    "wi = w[4];\n",
    "\n",
    "for zn,zi in enumerate(zArr): #start from the top\n",
    "    \n",
    "    for i in range(len(K)):\n",
    "        nu = calc_nu(K[i], w[i], [model.layer_1.velocity,model.layer_2.velocity,model.layer_3.velocity]); #vert. slownesses\n",
    "\n",
    "        if zi <= model.layer_1.h*100000: #still inside the first layer\n",
    "            P = np.array([[Pprecise_tl(nu[0], zi), Pprecise_tr(nu[0], zi, model.layer_1.mu)],\n",
    "                          [Pprecise_bl(nu[0], zi, model.layer_1.mu), Pprecise_br(nu[0], zi)]]);\n",
    "\n",
    "        if zi > model.layer_1.h*100000: #now inside the 2nd layer\\n\",\n",
    "            z0=model.layer_1.h*100000; #need to now think of z as the distance from the bottom of the first layer\n",
    "            P1 = np.array([[Pprecise_tl(nu[1], (zi-z0)), Pprecise_tr(nu[1], (zi-z0), model.layer_2.mu)],\n",
    "                          [Pprecise_bl(nu[1], (zi-z0), model.layer_2.mu), Pprecise_br(nu[1], (zi-z0))]]);\n",
    "\n",
    "            P = np.matmul(P1,np.array([[Pprecise_tl(nu[0], z0), Pprecise_tr(nu[0], z0, model.layer_1.mu)],\n",
    "                          [Pprecise_bl(nu[0], z0, model.layer_1.mu), Pprecise_br(nu[0], z0)]]));\n",
    "\n",
    "\n",
    "        P = amplifyP(P,nu[0],zi)\n",
    "\n",
    "        L1[zn,i] = P[0,0];\n",
    "        L2[zn,i] = P[1,0];"
   ]
  },
  {
   "cell_type": "code",
   "execution_count": null,
   "metadata": {
    "collapsed": true
   },
   "outputs": [],
   "source": [
    "import matplotlib.cm as cm\n",
    "cmap = cm.get_cmap('rainbow')\n",
    "\n",
    "fig,ax = plt.subplots(1,2,figsize=(16,6));\n",
    "for i in range(len(K)):\n",
    "    cm=cmap(20*i)\n",
    "    ax[0].plot(zArr/100000,L1[:,i],color=cm);\n",
    "    ax[0].set_title('L1 vs z');\n",
    "\n",
    "for i in range(len(K)):\n",
    "    cm=cmap(20*i)\n",
    "    ax[1].plot(zArr/100000,L2[:,i],color=cm);\n",
    "    ax[1].set_title('L2 vs z',);\n",
    "    \n",
    "plt.rcParams.update({'font.size': 22})"
   ]
  },
  {
   "cell_type": "code",
   "execution_count": null,
   "metadata": {
    "collapsed": true
   },
   "outputs": [],
   "source": [
    "#model mu and rho as 1 x len(zArr) vectors for calculting the energy integrals\n",
    "mu_vector = []\n",
    "for zi,zn in enumerate(zArr):\n",
    "    zn = zn/100000\n",
    "    if zn < model.layer_1.lower_interface:\n",
    "        mu_vector.append(model.layer_1.mu)\n",
    "    elif zn < model.layer_2.lower_interface:\n",
    "        mu_vector.append(model.layer_2.mu)\n",
    "    elif zn < model.layer_3.lower_interface:\n",
    "        mu_vector.append(model.layer_3.mu)\n",
    "\n",
    "rho_vector = []\n",
    "for zi,zn in enumerate(zArr):\n",
    "    zn = zn/100000\n",
    "    if zn < model.layer_1.lower_interface:\n",
    "        rho_vector.append(model.layer_1.density)\n",
    "    elif zn < model.layer_2.lower_interface:\n",
    "        rho_vector.append(model.layer_2.density)\n",
    "    elif zn < model.layer_3.lower_interface:\n",
    "        rho_vector.append(model.layer_3.density)"
   ]
  },
  {
   "cell_type": "code",
   "execution_count": null,
   "metadata": {
    "collapsed": true
   },
   "outputs": [],
   "source": [
    "def calc_I1(n):\n",
    "    I1 = 0\n",
    "    for zi,zn in enumerate(zArr):\n",
    "        I1 = I1 + L1[zi, n]**2 * mu_vector[zi]\n",
    "    return I1*0.5"
   ]
  },
  {
   "cell_type": "code",
   "execution_count": null,
   "metadata": {
    "collapsed": true
   },
   "outputs": [],
   "source": [
    "def calc_I2(n):\n",
    "    I2 = 0\n",
    "    for zi,zn in enumerate(zArr):\n",
    "        I2 = I2 + L1[zi, n]**2 * rho_vector[zi]\n",
    "    return I2*0.5"
   ]
  },
  {
   "cell_type": "code",
   "execution_count": null,
   "metadata": {
    "collapsed": true
   },
   "outputs": [],
   "source": [
    "def calc_U(n):\n",
    "    I1 = calc_I1(n)\n",
    "    I2 = calc_I2(n)\n",
    "    return I2/(c*I1)\n",
    "    "
   ]
  },
  {
   "cell_type": "code",
   "execution_count": null,
   "metadata": {
    "collapsed": true
   },
   "outputs": [],
   "source": [
    "def find_z_ind(depth):\n",
    "    # returns the index in z vector associated with the given depth (or throw error)\n",
    "    z_ind = np.where(zArr == depth)[0]\n",
    "    if len(z_ind) == 0:\n",
    "        print('ERROR: INVALID Z')\n",
    "    return z_ind[0]"
   ]
  },
  {
   "cell_type": "code",
   "execution_count": null,
   "metadata": {
    "collapsed": true
   },
   "outputs": [],
   "source": [
    "def calc_bracket(n):\n",
    "    z_ind = find_z_ind(depthRec)\n",
    "    junk = 1j*K[n]*L1[z_ind,n]\n",
    "    deriv_L1_Arr = np.gradient(L1[:,n],dz)###################problem with derivative\n",
    "    h_ind = find_z_ind(depthSource)\n",
    "    bracket = [ junk*M[0]*np.sin(phi)*np.cos(phi),\n",
    "                 -junk*M[4]*np.cos(phi)**2,\n",
    "                 junk*M[1]*np.sin(phi)**2,\n",
    "                 -junk*M[3]*np.sin(phi)*np.cos(phi),\n",
    "                 -deriv_L1_Arr[h_ind]*M[2]*np.sin(phi),\n",
    "                 deriv_L1_Arr[h_ind]*M[5]*np.cos(phi)]\n",
    "    \n",
    "    return np.sum(bracket)"
   ]
  },
  {
   "cell_type": "code",
   "execution_count": null,
   "metadata": {
    "collapsed": true
   },
   "outputs": [],
   "source": [
    "def calc_u_love_n(n):\n",
    "\n",
    "    z_ind = find_z_ind(depthRec)\n",
    "    \n",
    "    U = calc_U(n)\n",
    "    I1 = calc_I1(n)\n",
    "    brack = calc_bracket(n)\n",
    "    \n",
    "    u_love_n = L1[z_ind, n]/(8*c[n]*U[n]*I1) * np.sqrt(2/(np.pi*K[n]*R)) * np.exp(1j*(K[n]*R+np.pi/4)) * brack\n",
    "    \n",
    "    return u_love_n"
   ]
  },
  {
   "cell_type": "code",
   "execution_count": null,
   "metadata": {
    "collapsed": true
   },
   "outputs": [],
   "source": [
    "def calc_u_love(max_n):\n",
    "    \n",
    "    if max_n > len(K):\n",
    "        print('ERROR: max_n incompatible with K vector')\n",
    "        \n",
    "    u_love_n_hat = 0\n",
    "    result = calc_u_love_n(0)\n",
    "\n",
    "    \n",
    "    for n in range(max_n):\n",
    "        u_love_n_hat = u_love_n_hat + calc_u_love_n(n)\n",
    "\n",
    "    return u_love_n_hat"
   ]
  },
  {
   "cell_type": "code",
   "execution_count": null,
   "metadata": {
    "collapsed": true
   },
   "outputs": [],
   "source": [
    "#globals: K, zArr, L1, c, w, M, phi, depthRec\n",
    "# K - wavenumber vector - increasing frequency - must be same length as frwq vector\n",
    "# n - index\n",
    "# zArr - model depth\n",
    "# L1 - array of size (z, n), containing L1(z) for each frequency\n",
    "# M - [Mxx, Mxy, Mxz, Myy, Myx, Myz] - moment tensor\n",
    "# phi - radians\n",
    "# depthRec - depth of reciever in cm\n",
    "# loop start at 0, don't be stupid\n",
    "M = [1, 0, 1, 1, 0, 0] # moment tensor\n",
    "phi = np.deg2rad(30)\n",
    "depthRec = 0; # cm\n",
    "depthSource = 8*(10**5); # cm\n",
    "r = 10000000; #cm\n",
    "R = np.sqrt(r**2 + depthRec**2)\n",
    "max_n = 64\n"
   ]
  },
  {
   "cell_type": "code",
   "execution_count": null,
   "metadata": {
    "collapsed": true
   },
   "outputs": [],
   "source": [
    "def ifft_ulove(vec):\n",
    "    return np.fft.ifft(vec)"
   ]
  },
  {
   "cell_type": "code",
   "execution_count": null,
   "metadata": {
    "collapsed": true
   },
   "outputs": [],
   "source": [
    "freqs = np.arange(0,max_n,1)"
   ]
  },
  {
   "cell_type": "code",
   "execution_count": null,
   "metadata": {
    "collapsed": true
   },
   "outputs": [],
   "source": [
    "u_love_hat = np.zeros(np.shape(freqs));\n",
    "for f in freqs:\n",
    "    u_love_hat[f] = calc_u_love(f);"
   ]
  },
  {
   "cell_type": "code",
   "execution_count": null,
   "metadata": {
    "collapsed": true
   },
   "outputs": [],
   "source": [
    "u_love = ifft_ulove(u_love_hat)"
   ]
  },
  {
   "cell_type": "code",
   "execution_count": null,
   "metadata": {
    "collapsed": true
   },
   "outputs": [],
   "source": [
    "fig,ax = plt.subplots(2,1,figsize=(10,10))\n",
    "\n",
    "\n",
    "# SPECTRA\n",
    "for f in range(len(freqs)):\n",
    "    ax[0].plot([f,f],[0,np.abs(u_love_hat.tolist())[f]],'k-')\n",
    "    \n",
    "    \n",
    "# TIME SERIES\n",
    "npts = len(u_love)\n",
    "print(npts)\n",
    "ax[1].plot(u_love[npts/2:],'k')"
   ]
  },
  {
   "cell_type": "markdown",
   "metadata": {},
   "source": [
    "# Love Wave mode summation following Haskell (1951)\n",
    "Model has $n$ layers, where the $n$th is the lower half-space and the zero-th is the free half-space. The layer boundaries $0$ to $n-1$ are above the $n$ layers.\n",
    "## Theory\n",
    "Displacement and stress within a homogeneous layer:\n",
    "$$v = \\exp[i(pt-kx)][v'\\exp(-ikr_\\beta z)+v''\\exp(ikr_\\beta z)]$$\n",
    "$$Y_z = \\mu\\partial v/\\partial z = ik\\mu r_\\beta \\exp[i(pt-kx)][-v'\\exp(-ikr_\\beta z)+v''\\exp(ikr_\\beta z)]$$\n",
    "Note that $p$ is the angular frequency, usually $\\omega$.\n",
    "\n",
    "Place the $z$ origin at the $(m-1)$th interface so that:\n",
    "$$(\\dot v/c)_{m-1} = ik(v_m'+v_m'')$$\n",
    "$$(Y_z)_{m-1} = ik\\mu_m r_{\\beta m}(v_m''-v_m')$$\n",
    "\n",
    "and at the $m$th interface (next one down, $z = d_m$):\n",
    "$$(\\dot v/c)_{m} = (v_m'+v_m'')ik\\cos Q_m - (v_m''-v_m')\\\n",
    "sin Q_m$$\n",
    "$$(Y_z)_{m} = -(v_m'-v_m'')k\\mu_m r_{\\beta m}\\sin Q_m + (v_m''-v_m')k\\mu_m r_{\\beta m}\\cos Q_m$$\n",
    "where $Q = kr_{\\beta m}d_m$\n",
    "\n",
    "Eliminate the constants $v_m'$ and $v_m''$ to find:\n",
    "$$(\\dot v_m/c)_m = (\\dot v/c)_{m-1}\\cos Q_m + (Y_z)_{m-1}\\mu_m^{-1}r_{\\beta m}^{-1}i\\sin Q_m$$\n",
    "$$(Y_z)_m = (\\dot v/c)_{m-1}i\\mu_m r_{\\beta m}\\sin Q_m + (Y_z)_{m-1}\\cos Q_m$$\n",
    "\n",
    "So the propagator matrix (with a time derivative so that $l_1$ is replaced by $l_1 ik/c$) is:\n",
    "$$a_m = \\begin{bmatrix} \\cos Q_m & i\\mu_m^{-1}r_{\\beta m}^{-1}\\sin Q_m \\\\ i\\mu_mr_{\\beta m}\\sin Q_m & \\cos Q_m \\end{bmatrix}$$\n",
    "\n",
    "The combined propagation through all layers $A = a_{n-1}a_{n-2}...a_1$ leads to the equations at the lowest interface:\n",
    "$$(\\dot v/c)_{n-1} = A_{11}(\\dot v/c)_0 + A_{12}(Y_z)_0$$\n",
    "$$(Y_z)_{n-1} = A_{21}(\\dot v/c)_0 + A_{22}(Y_z)_0$$\n",
    "\n",
    "The coefficients in the lower half space are:\n",
    "$$v_n'+v_n'' = A_{11}(ik)^{-1}(\\dot v/c)_0 + A_{12}(ik)^{-1}(Y_z)_0$$\n",
    "$$v_n''-v_n' = A_{21}(ik\\mu_n r_{\\beta n})^{-1}(\\dot v/c)_0 + A_{22}(ik\\mu_n r_{\\beta n})^{-1}(Y_z)_0$$\n",
    "\n",
    "The boundary conditions call for $(Y_z)_0 = 0$ and $v_n'' = 0$, so the dispersion relation is:\n",
    "$$A_{21} = -\\mu_n r_{\\beta n}A_{11}$$\n",
    "\n",
    "## Computation process\n",
    "1. Find k(c) over the range of acceptable phase velocities (vs_min to vs_max)\n",
    "2. Find $(\\dot v/c)\\cdot c/ik = l_1$ throughout the model at a range of frequencies\n",
    "3. Plot $l_1$ and check boundary conditions and bounded-ness"
   ]
  },
  {
   "cell_type": "markdown",
   "metadata": {},
   "source": [
    "Two layers over half-space:"
   ]
  },
  {
   "cell_type": "code",
   "execution_count": 11,
   "metadata": {
    "collapsed": true
   },
   "outputs": [],
   "source": [
    "dm = np.array([4, 21, 100])*100000\n",
    "B = np.array([2.4, 3.5, 4.5])*100000\n",
    "rho = np.array([2.0, 2.67, 3.3])\n",
    "mu = (B**2)*rho"
   ]
  },
  {
   "cell_type": "markdown",
   "metadata": {},
   "source": [
    "Bounds on phase velocity:"
   ]
  },
  {
   "cell_type": "code",
   "execution_count": 12,
   "metadata": {
    "collapsed": false
   },
   "outputs": [],
   "source": [
    "cmin = min(B)\n",
    "cmax = max(B)\n",
    "c = np.linspace(cmin,cmax,100)"
   ]
  },
  {
   "cell_type": "code",
   "execution_count": 30,
   "metadata": {
    "collapsed": true
   },
   "outputs": [],
   "source": [
    "k_test = np.linspace(0,3e-6,1e5)"
   ]
  },
  {
   "cell_type": "markdown",
   "metadata": {},
   "source": [
    "r_b is a function of c and layer velocity [Note: Haskell has r_b negative imaginary for c<B, we believe this is wrong and implement it as positive imaginary.]"
   ]
  },
  {
   "cell_type": "code",
   "execution_count": 14,
   "metadata": {
    "collapsed": false
   },
   "outputs": [],
   "source": [
    "r_b = np.zeros((len(c),len(B)),dtype=complex)\n",
    "for ci in range(len(c)):\n",
    "    for bi in range(len(B)):\n",
    "        if c[ci]>B[bi]:\n",
    "            r_b[ci,bi] = np.sqrt((c[ci]/B[bi])**2-1)\n",
    "        else:\n",
    "            r_b[ci,bi] = 1j*np.sqrt(1-(c[ci]/B[bi])**2)"
   ]
  },
  {
   "cell_type": "markdown",
   "metadata": {},
   "source": [
    "Make A matrix as a function of k and c (index):"
   ]
  },
  {
   "cell_type": "code",
   "execution_count": 15,
   "metadata": {
    "collapsed": true
   },
   "outputs": [],
   "source": [
    "def A_mat(k,ci):\n",
    "    # TODO solve case for ci=-1 (currently sets a[0,1]=0)\n",
    "    #calculate each a_m matrix and multiply\n",
    "    A = np.ones((2,2),dtype=complex)\n",
    "    a_m = np.zeros((2,2),dtype=complex)\n",
    "    for m in [1]:\n",
    "        Q_m = k*r_b[ci,m]*dm[m]\n",
    "        if Q_m == np.real(Q_m):\n",
    "            a_m[0,0] = np.cos(Q_m)\n",
    "            a_m[1,1] = np.cos(Q_m)\n",
    "            a_m[0,1] = 1j*np.sin(Q_m)/(mu[m]*r_b[ci,m])\n",
    "            a_m[1,0] = 1j*mu[m]*r_b[ci,m]*np.sin(Q_m)\n",
    "        else:\n",
    "            a_m[0,0] = np.cosh(Q_m)\n",
    "            a_m[1,1] = np.cosh(Q_m)\n",
    "            a_m[0,1] = 1j*np.sinh(Q_m)/(mu[m]*r_b[ci,m])\n",
    "            a_m[1,0] = 1j*mu[m]*r_b[ci,m]*np.sinh(Q_m)\n",
    "        if ci == len(c)-1:\n",
    "            a_m[0,1] = 0\n",
    "        A = np.multiply(a_m,A)\n",
    "    return A"
   ]
  },
  {
   "cell_type": "markdown",
   "metadata": {},
   "source": [
    "check dispersion relation produces plausible output:"
   ]
  },
  {
   "cell_type": "code",
   "execution_count": 16,
   "metadata": {
    "collapsed": false
   },
   "outputs": [
    {
     "name": "stdout",
     "output_type": "stream",
     "text": [
      "[[-0.12646333 -0.00000000e+00j  0.00000000 -4.16675001e-12j]\n",
      " [ 0.00000000 +2.36156962e+11j -0.12646333 -0.00000000e+00j]]\n"
     ]
    }
   ],
   "source": [
    "ci_test = 0\n",
    "check_zero = np.zeros(len(k_test),dtype=complex)\n",
    "for ki in range(len(k_test)):\n",
    "    A = A_mat(k_test[ki],ci_test)\n",
    "    check_zero[ki] = A[1,0]/(mu[-1]*r_b[ci_test,-1]) + A[0,0]\n",
    "print(A)"
   ]
  },
  {
   "cell_type": "markdown",
   "metadata": {},
   "source": [
    "### Plot \n",
    "We need to find a zero of the function (which has infinite periodic zeros) and follow it as we iterate over phase velocity. It moves in the positive k direction at a probably exponential rate."
   ]
  },
  {
   "cell_type": "code",
   "execution_count": 17,
   "metadata": {
    "collapsed": false
   },
   "outputs": [
    {
     "data": {
      "text/plain": [
       "[<matplotlib.lines.Line2D at 0x7fa917c78950>]"
      ]
     },
     "execution_count": 17,
     "metadata": {},
     "output_type": "execute_result"
    },
    {
     "data": {
      "image/png": "[encoded data removed]",
      "text/plain": [
       "<matplotlib.figure.Figure at 0x7fa96082d1d0>"
      ]
     },
     "metadata": {},
     "output_type": "display_data"
    }
   ],
   "source": [
    "plt.plot(k_test,np.abs(check_zero))"
   ]
  },
  {
   "cell_type": "code",
   "execution_count": 37,
   "metadata": {
    "collapsed": false
   },
   "outputs": [
    {
     "ename": "StopIteration",
     "evalue": "",
     "output_type": "error",
     "traceback": [
      "\u001b[0;31m---------------------------------------------------------------------------\u001b[0m",
      "\u001b[0;31mStopIteration\u001b[0m                             Traceback (most recent call last)",
      "\u001b[0;32m<ipython-input-37-10f501e0e730>\u001b[0m in \u001b[0;36m<module>\u001b[0;34m()\u001b[0m\n\u001b[1;32m     12\u001b[0m         \u001b[0mk_test\u001b[0m \u001b[0;34m=\u001b[0m \u001b[0mnp\u001b[0m\u001b[0;34m.\u001b[0m\u001b[0mlinspace\u001b[0m\u001b[0;34m(\u001b[0m\u001b[0;36m.95\u001b[0m\u001b[0;34m*\u001b[0m\u001b[0mk_now\u001b[0m\u001b[0;34m,\u001b[0m\u001b[0;36m3\u001b[0m\u001b[0;34m*\u001b[0m\u001b[0mk_now\u001b[0m\u001b[0;34m,\u001b[0m\u001b[0;36m5e4\u001b[0m\u001b[0;34m)\u001b[0m\u001b[0;34m\u001b[0m\u001b[0m\n\u001b[1;32m     13\u001b[0m     \u001b[0;32melse\u001b[0m\u001b[0;34m:\u001b[0m\u001b[0;34m\u001b[0m\u001b[0m\n\u001b[0;32m---> 14\u001b[0;31m         \u001b[0mk_now\u001b[0m \u001b[0;34m=\u001b[0m \u001b[0mk_test\u001b[0m\u001b[0;34m[\u001b[0m\u001b[0mnext\u001b[0m\u001b[0;34m(\u001b[0m\u001b[0mi\u001b[0m \u001b[0;32mfor\u001b[0m \u001b[0mi\u001b[0m\u001b[0;34m,\u001b[0m\u001b[0mv\u001b[0m \u001b[0;32min\u001b[0m \u001b[0menumerate\u001b[0m\u001b[0;34m(\u001b[0m\u001b[0mcheck_zero\u001b[0m\u001b[0;34m)\u001b[0m \u001b[0;32mif\u001b[0m \u001b[0mabs\u001b[0m\u001b[0;34m(\u001b[0m\u001b[0mv\u001b[0m\u001b[0;34m)\u001b[0m\u001b[0;34m<\u001b[0m\u001b[0;36m.01\u001b[0m\u001b[0;34m)\u001b[0m\u001b[0;34m]\u001b[0m\u001b[0;34m\u001b[0m\u001b[0m\n\u001b[0m\u001b[1;32m     15\u001b[0m         \u001b[0mk_of_c\u001b[0m\u001b[0;34m[\u001b[0m\u001b[0mci_test\u001b[0m\u001b[0;34m]\u001b[0m \u001b[0;34m=\u001b[0m \u001b[0mk_now\u001b[0m\u001b[0;34m\u001b[0m\u001b[0m\n\u001b[1;32m     16\u001b[0m         \u001b[0mk_test\u001b[0m \u001b[0;34m=\u001b[0m \u001b[0mnp\u001b[0m\u001b[0;34m.\u001b[0m\u001b[0mlinspace\u001b[0m\u001b[0;34m(\u001b[0m\u001b[0;36m.95\u001b[0m\u001b[0;34m*\u001b[0m\u001b[0mk_now\u001b[0m\u001b[0;34m,\u001b[0m\u001b[0;36m8\u001b[0m\u001b[0;34m*\u001b[0m\u001b[0mk_now\u001b[0m\u001b[0;34m,\u001b[0m\u001b[0;36m5e4\u001b[0m\u001b[0;34m)\u001b[0m\u001b[0;34m\u001b[0m\u001b[0m\n",
      "\u001b[0;31mStopIteration\u001b[0m: "
     ]
    }
   ],
   "source": [
    "#reset k_of_c and k_test if re-running\n",
    "k_of_c = np.zeros(c.shape)\n",
    "k_test = np.linspace(0e-6,3e-6,1e5)\n",
    "for ci_test in range(len(c)):\n",
    "    check_zero = np.zeros(len(k_test),dtype=complex)\n",
    "    for ki in range(len(k_test)):\n",
    "        A = A_mat(k_test[ki],ci_test)\n",
    "        check_zero[ki] = A[1,0]/(mu[-1]*r_b[ci_test,-1]) + A[0,0]\n",
    "    if ci<50:\n",
    "        k_now = k_test[next(i for i,v in enumerate(check_zero) if abs(v)<.001)]\n",
    "        k_of_c[ci_test] = k_now\n",
    "        k_test = np.linspace(.95*k_now,3*k_now,5e4)\n",
    "    else:\n",
    "        k_now = k_test[next(i for i,v in enumerate(check_zero) if abs(v)<.01)]\n",
    "        k_of_c[ci_test] = k_now\n",
    "        k_test = np.linspace(.95*k_now,8*k_now,5e4)"
   ]
  },
  {
   "cell_type": "markdown",
   "metadata": {},
   "source": [
    "The calculation above often fails at some point. We can find out how far through the iterations we got:"
   ]
  },
  {
   "cell_type": "code",
   "execution_count": 35,
   "metadata": {
    "collapsed": false
   },
   "outputs": [
    {
     "data": {
      "text/plain": [
       "99"
      ]
     },
     "execution_count": 35,
     "metadata": {},
     "output_type": "execute_result"
    }
   ],
   "source": [
    "next(i for i,v in enumerate(k_of_c) if v==0)"
   ]
  },
  {
   "cell_type": "markdown",
   "metadata": {},
   "source": [
    "### Plot\n",
    "Check for smoothness. The second plot statement should produce the expected dispersion relation. It currently shows the calculation for one layer over a halfspace, so it should match the analytic relations in the section below. It doesn't. This could mean that we're tracking the wrong zero of the function or that there's an error in the calculation method.\n",
    "\n",
    "If we try tracking the second zero (find larger values of k), we end up calculating results for shorter periods. The general shape of the dispersion relation doesn't change, so the choice of zero to follow doesn't seem to be the problem."
   ]
  },
  {
   "cell_type": "code",
   "execution_count": 38,
   "metadata": {
    "collapsed": false
   },
   "outputs": [
    {
     "data": {
      "text/plain": [
       "[<matplotlib.lines.Line2D at 0x7fa91775ea50>]"
      ]
     },
     "execution_count": 38,
     "metadata": {},
     "output_type": "execute_result"
    },
    {
     "data": {
      "image/png": "[encoded data removed]",
      "text/plain": [
       "<matplotlib.figure.Figure at 0x7fa917e13b90>"
      ]
     },
     "metadata": {},
     "output_type": "display_data"
    }
   ],
   "source": [
    "n=99\n",
    "# plt.plot(k_of_c[:n],c[:n])\n",
    "plt.plot(2*np.pi/(k_of_c[:n]*c[:n]),c[:n])"
   ]
  },
  {
   "cell_type": "markdown",
   "metadata": {},
   "source": [
    "## Get l1 function from k_of_c\n",
    "Use propagator matrix to get l1, l2. Implented for only one layer over a half-space."
   ]
  },
  {
   "cell_type": "code",
   "execution_count": 43,
   "metadata": {
    "collapsed": false
   },
   "outputs": [
    {
     "name": "stderr",
     "output_type": "stream",
     "text": [
      "/home/jes/anaconda2/lib/python2.7/site-packages/ipykernel/__main__.py:24: ComplexWarning: Casting complex values to real discards the imaginary part\n"
     ]
    },
    {
     "data": {
      "text/plain": [
       "[<matplotlib.lines.Line2D at 0x7fa917454e10>]"
      ]
     },
     "execution_count": 43,
     "metadata": {},
     "output_type": "execute_result"
    },
    {
     "data": {
      "image/png": "[encoded data removed]",
      "text/plain": [
       "<matplotlib.figure.Figure at 0x7fa917ada6d0>"
      ]
     },
     "metadata": {},
     "output_type": "display_data"
    }
   ],
   "source": [
    "#Choose longest period, first values\n",
    "ci = 1\n",
    "m = 0 #layer\n",
    "k_use = k_of_c[ci]\n",
    "c_use = c[ci]\n",
    "omega = k_use*c_use\n",
    "z_list = range(0,41)\n",
    "l1 = np.zeros(41)\n",
    "for z in z_list:\n",
    "    #all inside first layer\n",
    "    #dm in Qm is the depth within the layer, down from layer interface\n",
    "    a_z = np.zeros((2,2),dtype=complex)\n",
    "    Q_z = k_use*r_b[ci,m]*z\n",
    "    #Q_z all real in the upper layer\n",
    "    a_z[0,0] = np.cos(Q_z)\n",
    "    a_z[1,1] = np.cos(Q_z)\n",
    "    a_z[0,1] = 1j*np.sin(Q_z)/(mu[m]*r_b[ci,m])\n",
    "    a_z[1,0] = 1j*mu[m]*r_b[ci,m]*np.sin(Q_z)\n",
    "    #use propagator\n",
    "    f = np.matrix(a_z)*np.matrix([[1],[0]])\n",
    "#     print f\n",
    "#     print f[0,0]*c_use/(1j*k_use)\n",
    "    \n",
    "    l1[z] = f[0,0]#*c_use/(k_use)\n",
    "plt.plot(l1,z_list)"
   ]
  },
  {
   "cell_type": "markdown",
   "metadata": {},
   "source": [
    "## 2-layer analytic dispersion\n",
    "Haskell (1951):\n",
    "$$\\tan Q_1 = -i(\\mu_2 r_{\\beta 2}/\\mu_1 r_{\\beta 1})$$\n",
    "EPS 130 (probably also Modern Global Seismology):\n",
    "$$\\tan(\\frac{2\\pi}{T}H\\sqrt{\\beta_1^{-2}-c^{-2}}) = \\frac{\\mu_2}{\\mu_1}\\frac{\\sqrt{c^{-2}-\\beta_2^{-2}}}{\\sqrt{\\beta_1^{-2}-c^{-2}}}$$\n",
    "\n",
    "See plots and note that Haskell matches more familiar EPS130 relation as long as the positive imaginary correction to the r_b calculation is made."
   ]
  },
  {
   "cell_type": "code",
   "execution_count": 3,
   "metadata": {
    "collapsed": false
   },
   "outputs": [],
   "source": [
    "# One layer over half-space\n",
    "dm = np.array([40, 100])*100000\n",
    "B = np.array([2.4, 3.5])*100000\n",
    "rho = np.array([2.0, 2.67])\n",
    "mu = (B**2)*rho"
   ]
  },
  {
   "cell_type": "code",
   "execution_count": 4,
   "metadata": {
    "collapsed": true
   },
   "outputs": [],
   "source": [
    "# 130 equation for dispersion\n",
    "c_range = np.linspace(B[0],B[1],(B[1]-B[0])/10)\n",
    "T_analytic = np.zeros(c_range.shape)\n",
    "for c_ind in range(len(c_range)):\n",
    "    c = c_range[c_ind]\n",
    "    T_analytic[c_ind] = 2*np.pi*dm[0]*np.sqrt(B[0]**-2-c**-2)/np.arctan(np.sqrt(c**-2-B[1]**-2)*mu[1]/(np.sqrt(B[0]**-2-c**-2)*mu[0]))\n",
    "#     print T_analytic[c_ind]\n",
    "omega_a = 2*np.pi/T_analytic\n",
    "k_a = omega_a/c_range"
   ]
  },
  {
   "cell_type": "code",
   "execution_count": 8,
   "metadata": {
    "collapsed": true
   },
   "outputs": [],
   "source": [
    "#haskell analytic relation\n",
    "r_b = np.zeros((len(c_range),len(B)),dtype=complex)\n",
    "for ci in range(len(c_range)):\n",
    "    for bi in range(len(B)):\n",
    "        if c_range[ci]>B[bi]:\n",
    "            r_b[ci,bi] = np.sqrt((c_range[ci]/B[bi])**2-1)\n",
    "        else:\n",
    "            r_b[ci,bi] = 1j*np.sqrt(1-(c_range[ci]/B[bi])**2)\n",
    "k_ha = np.arctan(-1j*mu[1]*r_b[:,1]/(mu[0]*r_b[:,0]))/(r_b[:,0]*dm[0])\n",
    "T_ha = 2*np.pi/(c_range*k_ha)"
   ]
  },
  {
   "cell_type": "code",
   "execution_count": 9,
   "metadata": {
    "collapsed": false
   },
   "outputs": [
    {
     "data": {
      "text/plain": [
       "[<matplotlib.lines.Line2D at 0x7fa917f9f890>]"
      ]
     },
     "execution_count": 9,
     "metadata": {},
     "output_type": "execute_result"
    },
    {
     "data": {
      "image/png": "[encoded data removed]",
      "text/plain": [
       "<matplotlib.figure.Figure at 0x7fa91846ac10>"
      ]
     },
     "metadata": {},
     "output_type": "display_data"
    }
   ],
   "source": [
    "plt.plot(T_analytic,c_range)\n",
    "plt.plot(T_ha,c_range)"
   ]
  },
  {
   "cell_type": "markdown",
   "metadata": {},
   "source": [
    "# TEMP"
   ]
  },
  {
   "cell_type": "markdown",
   "metadata": {},
   "source": []
  },
  {
   "cell_type": "code",
   "execution_count": 30,
   "metadata": {
    "collapsed": true
   },
   "outputs": [],
   "source": [
    "params_dict = { 'min_layers':4, 'max_layers':4,  'min_rho':1, 'max_rho':3, 'min_vel':1, 'max_vel':3,\n",
    "                  'min_depth':0, 'max_depth':300,} # units: N/A; g/cc; km/s; km\\n\",\n",
    "model = Model(params_dict)"
   ]
  },
  {
   "cell_type": "markdown",
   "metadata": {},
   "source": [
    "## Define model"
   ]
  },
  {
   "cell_type": "code",
   "execution_count": 31,
   "metadata": {
    "collapsed": true
   },
   "outputs": [],
   "source": [
    "z = model.no_layers\n",
    "\n",
    "nk = 1000\n",
    "\n",
    "nyquist = 1.0*(2*np.pi) # 1 hz\n",
    "nw = 64\n",
    "dw = nyquist/nw\n",
    "\n",
    "w = np.arange(dw, nyquist+dw, dw)\n",
    "\n",
    "model.layer_1.upper_interface = 0 \n",
    "model.layer_1.lower_interface = 5 #h1 = 4 km\n",
    "model.layer_1.h = 5\n",
    "model.layer_2.upper_interface = 5 \n",
    "model.layer_2.lower_interface = 16 #h2 = 25 km\n",
    "model.layer_2.h = 11\n",
    "\n",
    "model.layer_1.velocity = 2.2*100000 # 2.2*10^5 cm/s\n",
    "model.layer_2.velocity = 3.34*100000\n",
    "\n",
    "beta_max = max([model.layer_1.velocity,model.layer_2.velocity,model.layer_3.velocity])\n",
    "beta_min = min([model.layer_1.velocity,model.layer_2.velocity,model.layer_3.velocity])\n",
    "\n",
    "model.layer_1.density = 2.4 # 2 g/cm^3\n",
    "model.layer_2.density = 2.67\n",
    "\n",
    "model.layer_1.mu = model.layer_1.velocity**2 * model.layer_1.density\n",
    "model.layer_2.mu = model.layer_2.velocity**2 * model.layer_2.density"
   ]
  },
  {
   "cell_type": "code",
   "execution_count": null,
   "metadata": {
    "collapsed": true
   },
   "outputs": [],
   "source": [
    "z = model.layer_1.h * 100000 #set z thickness to be the top layer\n",
    "\n",
    "K = np.zeros((len(w))) #preallocate for final wavenumbers, to be filled by the search\n",
    "    \n",
    "for wn,wi in enumerate(w): #iterate through ang. frequency\n",
    "    \n",
    "    kmin = wi/beta_max; #wavenumber range is changing with every frequency\n",
    "    kmax = wi/beta_min;\n",
    "    k = np.arange(0, kmax+kmin/nk, kmin/nk)\n",
    "    B = np.zeros((len(k),2,2)) + 0j #preallocate the B matrix for this frequency with complex zeros\n",
    "    \n",
    "    for kn,ki in enumerate(k): #iterate through wavenumber\n",
    "        \n",
    "        nu1 = calc_nu(ki, wi, model.layer_1.velocity); #set vertical slowness for each layer\n",
    "        nu2 = calc_nu(ki, wi, model.layer_2.velocity);\n",
    "\n",
    "        #calc F matrix\\n\",\n",
    "        F = (1/(2*nu2*model.layer_2.mu))*np.array([[F_tl(nu2, z, model.layer_2.mu), F_tr(nu2, z, model.layer_2.mu)],\n",
    "                                              [F_bl(nu2, z, model.layer_2.mu), F_br(nu2, z, model.layer_2.mu)]])\n",
    "\n",
    "        #calc P matrix\n",
    "        P = np.array([[P_tl(nu1, z), P_tr(nu1, z, model.layer_1.mu)],\n",
    "                      [P_bl(nu1, z, model.layer_1.mu), P_br(nu1, z)]]);\n",
    "\n",
    "     \n",
    "        #fill B matrix\n",
    "        B[kn] = np.matmul(F,P) #equivalent to * in matlab\n",
    "\n",
    "\n",
    "    B21 = np.real(B[:,1,0]) #grab the B21 component of B, which is a 1 x k vector now\n",
    "\n",
    "    IB21 = np.imag(B[:,1,0]) #find where B21 goes real\n",
    "    J = np.where(IB21 == 0)[0]\n",
    "    A = B21[J] \n",
    "\n",
    "    L = np.where(np.abs(A) < 0.01) #find a real, stable minimum value of B21\n",
    "    K[wn] = np.max(k[J[L]]) #retrieve the wavenumber associated with this value\""
   ]
  },
  {
   "cell_type": "code",
   "execution_count": null,
   "metadata": {
    "collapsed": true
   },
   "outputs": [],
   "source": []
  },
  {
   "cell_type": "code",
   "execution_count": null,
   "metadata": {
    "collapsed": true
   },
   "outputs": [],
   "source": []
  },
  {
   "cell_type": "markdown",
   "metadata": {},
   "source": [
    "# Waveform Monte Carlo\n",
    "\n",
    "A monte carlo method in which one plugs in an equation of the form: waveform_vector=F(layers) waveform_vector=F(layers)\n",
    "where: layers is a class containing: layers.list - a list of layers layers.layerx - classes equal to the number of layers 0 < x < n+1 layers.layerx.den - the density of layer x layers.layerx.vel - the velocity of layer x layers.layerx.top - the depth of the upper boundary of layer x\n"
   ]
  },
  {
   "cell_type": "code",
   "execution_count": null,
   "metadata": {
    "collapsed": true
   },
   "outputs": [],
   "source": [
    "from cdh_mc import Model"
   ]
  },
  {
   "cell_type": "markdown",
   "metadata": {},
   "source": [
    "Define a model space to Monte Carlo search within:"
   ]
  },
  {
   "cell_type": "code",
   "execution_count": null,
   "metadata": {
    "collapsed": true
   },
   "outputs": [],
   "source": [
    "params_dict = { 'min_layers':3, 'max_layers':3,  'min_rho':1, 'max_rho':3, 'min_vel':1, 'max_vel':3, \\\n",
    "              'min_depth':0, 'max_depth':300,} # units: N/A; g/cc; km/s; km\n",
    "\n",
    "number_of_iterations = 100"
   ]
  },
  {
   "cell_type": "markdown",
   "metadata": {},
   "source": [
    "Generalized implementation for finding the best model:"
   ]
  },
  {
   "cell_type": "code",
   "execution_count": null,
   "metadata": {
    "collapsed": false
   },
   "outputs": [],
   "source": [
    "misfit_vector = []\n",
    "\n",
    "for iteration in np.arange(number_of_iterations):\n",
    "    current_model = Model(params_dict) # generate random model\n",
    "    current_misfit = calc_misfit(data, synthetic) # calculate the misfit\n",
    "    \n",
    "    if current_misfit < min(misfit_vector):\n",
    "        best_model = current_model\n",
    "    \n",
    "    misfit_vector.append(current_misfit)"
   ]
  }
 ],
 "metadata": {
  "anaconda-cloud": {},
  "kernelspec": {
   "display_name": "Python 2",
   "language": "python",
   "name": "python2"
  },
  "language_info": {
   "codemirror_mode": {
    "name": "ipython",
    "version": 2
   },
   "file_extension": ".py",
   "mimetype": "text/x-python",
   "name": "python",
   "nbconvert_exporter": "python",
   "pygments_lexer": "ipython2",
   "version": "2.7.12"
  },
  "toc": {
   "nav_menu": {
    "height": "276px",
    "width": "253px"
   },
   "navigate_menu": true,
   "number_sections": true,
   "sideBar": true,
   "threshold": 4,
   "toc_cell": true,
   "toc_section_display": "block",
   "toc_window_display": true
  }
 },
 "nbformat": 4,
 "nbformat_minor": 1
}
