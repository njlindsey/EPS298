{
 "cells": [
  {
   "cell_type": "code",
   "execution_count": 1,
   "metadata": {
    "collapsed": true
   },
   "outputs": [],
   "source": [
    "import numpy as np\n",
    "import math\n",
    "import matplotlib.pyplot as plt\n",
    "from scipy import interpolate\n",
    "from scipy.optimize import newton_krylov\n",
    "import obspy\n",
    "# from scipy.signal import find_peaks_cwt\n",
    "%matplotlib inline"
   ]
  },
  {
   "cell_type": "markdown",
   "metadata": {},
   "source": [
    "# Love Wave mode summation following Haskell (1951)\n",
    "Model has $n$ layers, where the $n$th is the lower half-space and the zero-th is the free half-space. The layer boundaries $0$ to $n-1$ are above the $n$ layers.\n",
    "## Theory\n",
    "Displacement and stress within a homogeneous layer:\n",
    "$$v = \\exp[i(pt-kx)][v'\\exp(-ikr_\\beta z)+v''\\exp(ikr_\\beta z)]$$\n",
    "$$Y_z = \\mu\\partial v/\\partial z = ik\\mu r_\\beta \\exp[i(pt-kx)][-v'\\exp(-ikr_\\beta z)+v''\\exp(ikr_\\beta z)]$$\n",
    "Note that $p$ is the angular frequency, usually $\\omega$.\n",
    "\n",
    "Place the $z$ origin at the $(m-1)$th interface so that:\n",
    "$$(\\dot v/c)_{m-1} = ik(v_m'+v_m'')$$\n",
    "$$(Y_z)_{m-1} = ik\\mu_m r_{\\beta m}(v_m''-v_m')$$\n",
    "\n",
    "and at the $m$th interface (next one down, $z = d_m$):\n",
    "$$(\\dot v/c)_{m} = (v_m'+v_m'')ik\\cos Q_m - (v_m''-v_m')\\\n",
    "sin Q_m$$\n",
    "$$(Y_z)_{m} = -(v_m'-v_m'')k\\mu_m r_{\\beta m}\\sin Q_m + (v_m''-v_m')k\\mu_m r_{\\beta m}\\cos Q_m$$\n",
    "where $Q = kr_{\\beta m}d_m$\n",
    "\n",
    "Eliminate the constants $v_m'$ and $v_m''$ to find:\n",
    "$$(\\dot v_m/c)_m = (\\dot v/c)_{m-1}\\cos Q_m + (Y_z)_{m-1}\\mu_m^{-1}r_{\\beta m}^{-1}i\\sin Q_m$$\n",
    "$$(Y_z)_m = (\\dot v/c)_{m-1}i\\mu_m r_{\\beta m}\\sin Q_m + (Y_z)_{m-1}\\cos Q_m$$\n",
    "\n",
    "So the propagator matrix (with a time derivative so that $l_1$ is replaced by $l_1 ik/c$) is:\n",
    "$$a_m = \\begin{bmatrix} \\cos Q_m & i\\mu_m^{-1}r_{\\beta m}^{-1}\\sin Q_m \\\\ i\\mu_mr_{\\beta m}\\sin Q_m & \\cos Q_m \\end{bmatrix}$$\n",
    "\n",
    "The combined propagation through all layers $A = a_{n-1}a_{n-2}...a_1$ leads to the equations at the lowest interface:\n",
    "$$(\\dot v/c)_{n-1} = A_{11}(\\dot v/c)_0 + A_{12}(Y_z)_0$$\n",
    "$$(Y_z)_{n-1} = A_{21}(\\dot v/c)_0 + A_{22}(Y_z)_0$$\n",
    "\n",
    "The coefficients in the lower half space are:\n",
    "$$v_n'+v_n'' = A_{11}(ik)^{-1}(\\dot v/c)_0 + A_{12}(ik)^{-1}(Y_z)_0$$\n",
    "$$v_n''-v_n' = A_{21}(ik\\mu_n r_{\\beta n})^{-1}(\\dot v/c)_0 + A_{22}(ik\\mu_n r_{\\beta n})^{-1}(Y_z)_0$$\n",
    "\n",
    "The boundary conditions call for $(Y_z)_0 = 0$ and $v_n'' = 0$, so the dispersion relation is:\n",
    "$$A_{21} = -\\mu_n r_{\\beta n}A_{11}$$\n",
    "\n",
    "## Computation process\n",
    "1. Find k(c) over the range of acceptable phase velocities (vs_min to vs_max)\n",
    "2. Find $(\\dot v/c)\\cdot c/ik = l_1$ throughout the model at a range of frequencies\n",
    "3. Plot $l_1$ and check boundary conditions and bounded-ness"
   ]
  },
  {
   "cell_type": "code",
   "execution_count": 9,
   "metadata": {
    "collapsed": false,
    "scrolled": true
   },
   "outputs": [
    {
     "name": "stdout",
     "output_type": "stream",
     "text": [
      "[[-0.66709148 -0.00000000e+00j  0.00000000 -3.12925185e-12j]\n",
      " [ 0.00000000 +1.77355159e+11j -0.66709148 -0.00000000e+00j]]\n"
     ]
    }
   ],
   "source": [
    "# One layer over half-space\n",
    "dm = np.array([40, 100])*100000 #cm\n",
    "B = np.array([2.4, 3.5])*100000 #cm/s\n",
    "rho = np.array([2.0, 2.67]) #g/cc\n",
    "mu = (B**2)*rho \n",
    "\n",
    "# Bounds on phase velocity\n",
    "cmin = min(B)\n",
    "cmax = max(B)\n",
    "c = np.linspace(cmin,cmax,100)\n",
    "\n",
    "# Bounds on frequency TRY WITHOUT\n",
    "# omega_max = 1.0\n",
    "# n_omega = 100\n",
    "# omega = np.linspace(.01,omega_max,n_omega)\n",
    "# determine k_test values for given omega\n",
    "# omega_test = omega[1]\n",
    "# k_test = np.linspace(omega_test/c[-1],omega_test/c[0],1000)\n",
    "k_test = np.linspace(27e-7,40e-7,1e5)\n",
    "\n",
    "# r_b is a function of c and layer velocity\n",
    "r_b = np.zeros((len(c),len(B)),dtype=complex)\n",
    "for ci in range(len(c)):\n",
    "    for bi in range(len(B)):\n",
    "        if c[ci]>=B[bi]:\n",
    "            r_b[ci,bi] = np.sqrt((c[ci]/B[bi])**2-1)\n",
    "        else:\n",
    "            r_b[ci,bi] = 1j*np.sqrt(1-(c[ci]/B[bi])**2) #FIXED positive not negative, Haskell wrong?\n",
    "            \n",
    "# Make A matrix as a function of k and c (index)\n",
    "def A_mat(k,ci):\n",
    "    # TODO solve case for ci=0 (currently sets a[0,1]=0)\n",
    "    #calculate each a_m matrix and multiply\n",
    "    A = np.ones((2,2),dtype=complex)\n",
    "    a_m = np.zeros((2,2),dtype=complex)\n",
    "    for m in [1]:\n",
    "        Q_m = k*r_b[ci,m]*dm[m]\n",
    "        if Q_m == np.real(Q_m):\n",
    "            a_m[0,0] = np.cos(Q_m)\n",
    "            a_m[1,1] = np.cos(Q_m)\n",
    "            a_m[0,1] = 1j*np.sin(Q_m)/(mu[m]*r_b[ci,m])\n",
    "            a_m[1,0] = 1j*mu[m]*r_b[ci,m]*np.sin(Q_m)\n",
    "        else:\n",
    "            a_m[0,0] = np.cosh(Q_m)\n",
    "            a_m[1,1] = np.cosh(Q_m)\n",
    "            a_m[0,1] = 1j*np.sinh(Q_m)/(mu[m]*r_b[ci,m])\n",
    "            a_m[1,0] = 1j*mu[m]*r_b[ci,m]*np.sinh(Q_m)\n",
    "        if ci == len(c)-1:\n",
    "            a_m[0,1] = 0\n",
    "        A = np.multiply(a_m,A)\n",
    "    return A\n",
    "\n",
    "# check dispersion relation\n",
    "ci_test = 0\n",
    "# k_test = np.array(range(50))+1\n",
    "check_zero = np.zeros(len(k_test),dtype=complex)\n",
    "for ki in range(len(k_test)):\n",
    "    A = A_mat(k_test[ki],ci_test)\n",
    "    check_zero[ki] = A[1,0]/(mu[-1]*r_b[ci_test,-1]) + A[0,0]\n",
    "print A"
   ]
  },
  {
   "cell_type": "code",
   "execution_count": 410,
   "metadata": {
    "collapsed": false
   },
   "outputs": [
    {
     "name": "stderr",
     "output_type": "stream",
     "text": [
      "/home/jes/anaconda2/lib/python2.7/site-packages/ipykernel/__main__.py:25: ComplexWarning: Casting complex values to real discards the imaginary part\n"
     ]
    },
    {
     "data": {
      "text/plain": [
       "[<matplotlib.lines.Line2D at 0x7f4abd837a10>]"
      ]
     },
     "execution_count": 410,
     "metadata": {},
     "output_type": "execute_result"
    },
    {
     "data": {
      "image/png": "[encoded data removed]",
      "text/plain": [
       "<matplotlib.figure.Figure at 0x7f4abd955c10>"
      ]
     },
     "metadata": {},
     "output_type": "display_data"
    }
   ],
   "source": [
    "#Use propagator matrix to get l1, l2\n",
    "#Choose longest period, first values\n",
    "ci = 1\n",
    "m = 0\n",
    "k_use = k_of_c[ci]\n",
    "c_use = c[ci]\n",
    "omega = k_use*c_use\n",
    "z_list = range(0,41)\n",
    "l1 = np.zeros(41)\n",
    "for z in z_list:\n",
    "    #all inside first layer\n",
    "    #dm in Qm is the depth within the layer, down from layer interface\n",
    "    a_z = np.zeros((2,2),dtype=complex)\n",
    "    Q_z = k_use*r_b[ci,m]*z\n",
    "    #Q_z all real in the upper layer\n",
    "    a_z[0,0] = np.cos(Q_z)\n",
    "    a_z[1,1] = np.cos(Q_z)\n",
    "    a_z[0,1] = 1j*np.sin(Q_z)/(mu[m]*r_b[ci,m])\n",
    "    a_z[1,0] = 1j*mu[m]*r_b[ci,m]*np.sin(Q_z)\n",
    "    #use propagator\n",
    "    f = np.matrix(a_z)*np.matrix([[1],[0]])\n",
    "#     print f\n",
    "#     print f[0,0]*c_use/(1j*k_use)\n",
    "    \n",
    "    l1[z] = f[0,0]#*c_use/(k_use)\n",
    "plt.plot(l1,z_list)"
   ]
  },
  {
   "cell_type": "code",
   "execution_count": 411,
   "metadata": {
    "collapsed": false
   },
   "outputs": [
    {
     "data": {
      "text/plain": [
       "1.0"
      ]
     },
     "execution_count": 411,
     "metadata": {},
     "output_type": "execute_result"
    }
   ],
   "source": [
    "# f=np.matrix(a_z)*np.matrix([[1],[0]])\n",
    "l1[0]"
   ]
  },
  {
   "cell_type": "code",
   "execution_count": 355,
   "metadata": {
    "collapsed": false,
    "scrolled": false
   },
   "outputs": [
    {
     "data": {
      "text/plain": [
       "[<matplotlib.lines.Line2D at 0x7f4abe402c90>]"
      ]
     },
     "execution_count": 355,
     "metadata": {},
     "output_type": "execute_result"
    },
    {
     "data": {
      "image/png": "[encoded data removed]",
      "text/plain": [
       "<matplotlib.figure.Figure at 0x7f4abe684b90>"
      ]
     },
     "metadata": {},
     "output_type": "display_data"
    }
   ],
   "source": [
    "plt.plot(k_test,np.abs(check_zero))\n",
    "# plt.plot(k_test[get_k_ind],0,'x')"
   ]
  },
  {
   "cell_type": "code",
   "execution_count": 352,
   "metadata": {
    "collapsed": false
   },
   "outputs": [
    {
     "data": {
      "text/plain": [
       "19950"
      ]
     },
     "execution_count": 352,
     "metadata": {},
     "output_type": "execute_result"
    }
   ],
   "source": [
    "np.argmin(abs(check_zero))\n",
    "# (2*np.pi)/(k_test[64741]*c[ci_test])"
   ]
  },
  {
   "cell_type": "code",
   "execution_count": 353,
   "metadata": {
    "collapsed": false
   },
   "outputs": [
    {
     "name": "stdout",
     "output_type": "stream",
     "text": [
      "2.95935259353e-06\n"
     ]
    }
   ],
   "source": [
    "k_of_c[ci_test] = k_test[np.argmin(abs(check_zero))]\n",
    "print k_of_c[ci_test]"
   ]
  },
  {
   "cell_type": "code",
   "execution_count": 312,
   "metadata": {
    "collapsed": true
   },
   "outputs": [],
   "source": [
    "for ci_test in range(70,80):\n",
    "    check_zero = np.zeros(len(k_test),dtype=complex)\n",
    "    for ki in range(len(k_test)):\n",
    "        A = A_mat(k_test[ki],ci_test)\n",
    "        check_zero[ki] = A[1,0]/(mu[-1]*r_b[ci_test,-1]) + A[0,0]\n",
    "    k_of_c[ci_test] = k_test[np.argmin(abs(check_zero))]"
   ]
  },
  {
   "cell_type": "code",
   "execution_count": 11,
   "metadata": {
    "collapsed": false
   },
   "outputs": [
    {
     "name": "stdout",
     "output_type": "stream",
     "text": [
      "1.1921209792\n",
      "2\n"
     ]
    },
    {
     "data": {
      "text/plain": [
       "0.00022002200220022004"
      ]
     },
     "execution_count": 11,
     "metadata": {},
     "output_type": "execute_result"
    }
   ],
   "source": [
    "low_k_bound = 1.5e-6\n",
    "low_k_ind = np.argwhere(k_test>low_k_bound)[0,0]\n",
    "thresh = abs(check_zero[low_k_ind])\n",
    "print thresh\n",
    "hi_k_ind = low_k_ind+np.argwhere(abs(check_zero[low_k_ind:])>thresh)[0,0]\n",
    "print hi_k_ind\n",
    "get_k_ind = low_k_ind+np.argmin(abs(check_zero[low_k_ind:hi_k_ind]))\n",
    "get_k = k_test[get_k_ind+10]\n",
    "get_k"
   ]
  },
  {
   "cell_type": "code",
   "execution_count": 628,
   "metadata": {
    "collapsed": true
   },
   "outputs": [],
   "source": [
    "#save 4km layer results\n",
    "k_of_c_4km = k_of_c"
   ]
  },
  {
   "cell_type": "code",
   "execution_count": 682,
   "metadata": {
    "collapsed": false
   },
   "outputs": [],
   "source": [
    "ci_list = np.array(range(len(c)-1)) #ci=0 works, last doesn't\n",
    "k_of_c = np.zeros(ci_list.size)\n",
    "low_k_bound = 1.5e-6\n",
    "for ci in ci_list:\n",
    "#     def check_dissipation(k):\n",
    "#         A = A_mat(k,ci)\n",
    "#         return abs(A[1,0]/(mu[-1]*r_b[ci,-1]) + A[0,0])\n",
    "#     k_of_c[ci-1] = newton_krylov(check_dissipation,2e-6)\n",
    "    for ki in range(len(k_test)):\n",
    "        A = A_mat(k_test[ki],ci)\n",
    "        check_zero[ki] = A[1,0]/(mu[-1]*r_b[ci_test,-1]) + A[0,0]\n",
    "    # find zero of first mode, near 2.5e-6\n",
    "    low_k_ind = np.argwhere(k_test>low_k_bound)[0,0]\n",
    "    thresh = abs(check_zero[low_k_ind])\n",
    "    hi_k_ind = low_k_ind+np.argwhere(abs(check_zero[low_k_ind:])>thresh)\n",
    "    if not hi_k_ind.any():\n",
    "        break\n",
    "    else: hi_k_ind = hi_k_ind[0,0]\n",
    "    get_k_ind = low_k_ind+np.argmin(abs(check_zero[low_k_ind:hi_k_ind]))\n",
    "    k_of_c[ci] = k_test[get_k_ind]\n",
    "    if thresh>1.2:\n",
    "        low_k_bound += .1e-6"
   ]
  },
  {
   "cell_type": "code",
   "execution_count": 358,
   "metadata": {
    "collapsed": true
   },
   "outputs": [
    {
     "data": {
      "text/plain": [
       "[1.0041395203716919,\n",
       " 1.0041993668646882,\n",
       " 1.0042583957795927,\n",
       " 1.0043013508071896,\n",
       " 1.0043740545663307,\n",
       " 1.0044154917224652,\n",
       " 1.004486411292508,\n",
       " 1.0045413124542872,\n",
       " 1.0046103026089239,\n",
       " 1.0046782548772664,\n",
       " 1.0047303829540648,\n",
       " 1.0048111017275827,\n",
       " 1.004875920275043,\n",
       " 1.0049396891638667,\n",
       " 1.0050169066855357,\n",
       " 1.005078427072633,\n",
       " 1.0051676025769112,\n",
       " 1.0052267196764575,\n",
       " 1.0053274007398694,\n",
       " 1.0053839566570293,\n",
       " 1.0054816239100002,\n",
       " 1.0055635700786167,\n",
       " 1.0056439998443034,\n",
       " 1.0057367350098423,\n",
       " 1.0058277140791523,\n",
       " 1.0059305983345133,\n",
       " 1.0060178933841208,\n",
       " 1.0061169264672523,\n",
       " 1.006213947695471,\n",
       " 1.0063222928848863,\n",
       " 1.0064283707195003,\n",
       " 1.0065453472721575,\n",
       " 1.0066467090939542,\n",
       " 1.0067717919123229,\n",
       " 1.0068940765165033,\n",
       " 1.0070135578355672,\n",
       " 1.0071429662790876,\n",
       " 1.0072819400301896,\n",
       " 1.0074175596605242,\n",
       " 1.0075498213458118,\n",
       " 1.007703455302648,\n",
       " 1.0078531654392004,\n",
       " 1.008011123042571,\n",
       " 1.0081769407854211,\n",
       " 1.0083382452306675,\n",
       " 1.0085069172167649,\n",
       " 1.0086943409029863,\n",
       " 1.008888027208342,\n",
       " 1.0090759859136993,\n",
       " 1.0092926354143483,\n",
       " 1.0094912464564119,\n",
       " 1.00971728663631,\n",
       " 1.0099471640546069,\n",
       " 1.0101804433903305,\n",
       " 1.0104385502766491,\n",
       " 1.0106985076176835,\n",
       " 1.0109705689069461,\n",
       " 1.0112644087032379,\n",
       " 1.0115681610706777,\n",
       " 1.0118808848154428,\n",
       " 1.0122118604370496,\n",
       " 1.0125697449069295,\n",
       " 1.0129425875994642,\n",
       " 1.0133288936525702,\n",
       " 1.0137465998067308,\n",
       " 1.0141931301414135,\n",
       " 1.0146564065516974,\n",
       " 1.0151529553854497,\n",
       " 1.0156795352688563,\n",
       " 1.0162455102051882,\n",
       " 1.0168538526395181,\n",
       " 1.0175103776538892,\n",
       " 1.0182061680915844,\n",
       " 1.0189612349960575,\n",
       " 1.0197765998167332,\n",
       " 1.020668610035975,\n",
       " 1.0216271376399753,\n",
       " 1.0226964257609497,\n",
       " 1.0238535660738446,\n",
       " 1.025137249591116,\n",
       " 1.0265663243530447,\n",
       " 1.0281527613972865,\n",
       " 1.029931916649474,\n",
       " 1.0319546161119213,\n",
       " 1.0342573181147605,\n",
       " 1.036910106454858,\n",
       " 1.0399898155086635,\n",
       " 1.0436235497783259,\n",
       " 1.0479627504869653,\n",
       " 1.0532406523316655,\n",
       " 1.0598082943515732,\n",
       " 1.0681852743150204,\n",
       " 1.0792604963657442,\n",
       " 1.0945646591132998,\n",
       " 1.1171425494078737,\n",
       " 1.1537823624595469,\n",
       " 1.2237668659315486,\n",
       " 1.413090792753388]"
      ]
     },
     "execution_count": 358,
     "metadata": {},
     "output_type": "execute_result"
    }
   ],
   "source": [
    "[k_of_c[n]/k_of_c[n-1] for n in range(1,99)]"
   ]
  },
  {
   "cell_type": "code",
   "execution_count": 602,
   "metadata": {
    "collapsed": false,
    "scrolled": false
   },
   "outputs": [
    {
     "data": {
      "text/plain": [
       "[<matplotlib.lines.Line2D at 0x7f4ab8200650>]"
      ]
     },
     "execution_count": 602,
     "metadata": {},
     "output_type": "execute_result"
    },
    {
     "data": {
      "image/png": "[encoded data removed]",
      "text/plain": [
       "<matplotlib.figure.Figure at 0x7f4ab82f3cd0>"
      ]
     },
     "metadata": {},
     "output_type": "display_data"
    }
   ],
   "source": [
    "plt.plot(2*np.pi/(k_of_c[:-1]*c[:-1]),c[:-1])"
   ]
  },
  {
   "cell_type": "code",
   "execution_count": 601,
   "metadata": {
    "collapsed": false,
    "scrolled": true
   },
   "outputs": [
    {
     "data": {
      "text/plain": [
       "[<matplotlib.lines.Line2D at 0x7f4ab82bbbd0>]"
      ]
     },
     "execution_count": 601,
     "metadata": {},
     "output_type": "execute_result"
    },
    {
     "data": {
      "image/png": "[encoded data removed]",
      "text/plain": [
       "<matplotlib.figure.Figure at 0x7f4ab8323b90>"
      ]
     },
     "metadata": {},
     "output_type": "display_data"
    }
   ],
   "source": [
    "plt.plot(k_of_c[:-1],c[:-1]*k_of_c[:-1])"
   ]
  },
  {
   "cell_type": "code",
   "execution_count": 512,
   "metadata": {
    "collapsed": false
   },
   "outputs": [
    {
     "data": {
      "text/plain": [
       "9.1419237648628862"
      ]
     },
     "execution_count": 512,
     "metadata": {},
     "output_type": "execute_result"
    }
   ],
   "source": [
    "max(k_of_c)/min(k_of_c)"
   ]
  },
  {
   "cell_type": "code",
   "execution_count": 600,
   "metadata": {
    "collapsed": false
   },
   "outputs": [
    {
     "data": {
      "text/plain": [
       "[<matplotlib.lines.Line2D at 0x7f4ab830b4d0>]"
      ]
     },
     "execution_count": 600,
     "metadata": {},
     "output_type": "execute_result"
    },
    {
     "data": {
      "image/png": "[encoded data removed]",
      "text/plain": [
       "<matplotlib.figure.Figure at 0x7f4ab8416490>"
      ]
     },
     "metadata": {},
     "output_type": "display_data"
    }
   ],
   "source": [
    "plt.plot(c[:-1]*k_of_c[:-1],c[:-1])"
   ]
  },
  {
   "cell_type": "markdown",
   "metadata": {},
   "source": [
    "## non-dimensional version\n",
    "I got confused trying to re-dimensionalize once solved. It's also out of date now"
   ]
  },
  {
   "cell_type": "code",
   "execution_count": 43,
   "metadata": {
    "collapsed": false
   },
   "outputs": [
    {
     "name": "stdout",
     "output_type": "stream",
     "text": [
      "[[-0.12646333 -0.00000000e+00j  0.00000000 -4.16675001e-12j]\n",
      " [ 0.00000000 +2.36156962e+11j -0.12646333 -0.00000000e+00j]]\n"
     ]
    }
   ],
   "source": [
    "# # Two layers over half-space (non-dimensionalized)\n",
    "dm = np.array([4, 21, 100])*100000\n",
    "B = np.array([2.4, 3.5, 4.5])*100000\n",
    "rho = np.array([2.0, 2.67, 3.3])\n",
    "mu = (B**2)*rho\n",
    "\n",
    "\n",
    "# Bounds on phase velocity\n",
    "cmin = min(B)\n",
    "cmax = max(B)\n",
    "c = np.linspace(cmin,cmax,100)\n",
    "\n",
    "k_test = np.linspace(0,3e-6,1e5)\n",
    "\n",
    "# r_b is a function of c and layer velocity\n",
    "r_b = np.zeros((len(c),len(B)),dtype=complex)\n",
    "for ci in range(len(c)):\n",
    "    for bi in range(len(B)):\n",
    "        if c[ci]>B[bi]:\n",
    "            r_b[ci,bi] = np.sqrt((c[ci]/B[bi])**2-1)\n",
    "        else:\n",
    "            r_b[ci,bi] = 1j*np.sqrt(1-(c[ci]/B[bi])**2) #FIXED to positive not negative, Haskell is wrong?\n",
    "            \n",
    "# Make A matrix as a function of k and c (index)\n",
    "def A_mat(k,ci):\n",
    "    # TODO solve case for ci=0 (currently sets a[0,1]=0)\n",
    "    #calculate each a_m matrix and multiply\n",
    "    A = np.ones((2,2),dtype=complex)\n",
    "    a_m = np.zeros((2,2),dtype=complex)\n",
    "    for m in [1]:\n",
    "        Q_m = k*r_b[ci,m]*dm[m]\n",
    "        if Q_m == np.real(Q_m):\n",
    "            a_m[0,0] = np.cos(Q_m)\n",
    "            a_m[1,1] = np.cos(Q_m)\n",
    "            a_m[0,1] = 1j*np.sin(Q_m)/(mu[m]*r_b[ci,m])\n",
    "            a_m[1,0] = 1j*mu[m]*r_b[ci,m]*np.sin(Q_m)\n",
    "        else:\n",
    "            a_m[0,0] = np.cosh(Q_m)\n",
    "            a_m[1,1] = np.cosh(Q_m)\n",
    "            a_m[0,1] = 1j*np.sinh(Q_m)/(mu[m]*r_b[ci,m])\n",
    "            a_m[1,0] = 1j*mu[m]*r_b[ci,m]*np.sinh(Q_m)\n",
    "        if ci == len(c)-1:\n",
    "            a_m[0,1] = 0\n",
    "        A = np.multiply(a_m,A)\n",
    "    return A\n",
    "\n",
    "# check dispersion relation\n",
    "ci_test = 0\n",
    "check_zero = np.zeros(len(k_test),dtype=complex)\n",
    "for ki in range(len(k_test)):\n",
    "    A = A_mat(k_test[ki],ci_test)\n",
    "    check_zero[ki] = A[1,0]/(mu[-1]*r_b[ci_test,-1]) + A[0,0]\n",
    "print A"
   ]
  },
  {
   "cell_type": "code",
   "execution_count": 44,
   "metadata": {
    "collapsed": false,
    "scrolled": true
   },
   "outputs": [
    {
     "data": {
      "text/plain": [
       "[<matplotlib.lines.Line2D at 0x7fc18aff4650>]"
      ]
     },
     "execution_count": 44,
     "metadata": {},
     "output_type": "execute_result"
    },
    {
     "data": {
      "image/png": "[encoded data removed]",
      "text/plain": [
       "<matplotlib.figure.Figure at 0x7fc18b277590>"
      ]
     },
     "metadata": {},
     "output_type": "display_data"
    }
   ],
   "source": [
    "plt.plot(k_test,np.abs(check_zero))\n",
    "# plt.plot(k_test[get_k_ind],0,'x')"
   ]
  },
  {
   "cell_type": "code",
   "execution_count": 571,
   "metadata": {
    "collapsed": false
   },
   "outputs": [
    {
     "name": "stdout",
     "output_type": "stream",
     "text": [
      "[[-0.96224936 -0.00000000e+00j  0.00000000 +8.17442204e-12j]\n",
      " [ 0.00000000 -9.06194691e+09j -0.96224936 -0.00000000e+00j]]\n"
     ]
    }
   ],
   "source": [
    "k_now=k_of_c2[50]\n",
    "k_test = np.linspace(.98*k_now,2.5*k_now,1e5)\n",
    "ci_test = 51\n",
    "check_zero = np.zeros(len(k_test),dtype=complex)\n",
    "for ki in range(len(k_test)):\n",
    "    A = A_mat(k_test[ki],ci_test)\n",
    "    check_zero[ki] = A[1,0]/(mu[-1]*r_b[ci_test,-1]) + A[0,0]\n",
    "print A"
   ]
  },
  {
   "cell_type": "code",
   "execution_count": 533,
   "metadata": {
    "collapsed": false,
    "scrolled": true
   },
   "outputs": [
    {
     "data": {
      "text/plain": [
       "48382"
      ]
     },
     "execution_count": 533,
     "metadata": {},
     "output_type": "execute_result"
    }
   ],
   "source": [
    "np.argmin(abs(check_zero))\n",
    "# k_test[np.argmin(abs(check_zero))]\n",
    "# (2*np.pi)/(k_test[64741]*c[ci_test])"
   ]
  },
  {
   "cell_type": "code",
   "execution_count": 545,
   "metadata": {
    "collapsed": false
   },
   "outputs": [
    {
     "name": "stdout",
     "output_type": "stream",
     "text": [
      "2.94887348873e-05\n"
     ]
    }
   ],
   "source": [
    "k_of_c2[ci_test] = k_test[np.argmin(abs(check_zero))]\n",
    "print k_of_c2[ci_test]"
   ]
  },
  {
   "cell_type": "code",
   "execution_count": 596,
   "metadata": {
    "collapsed": false
   },
   "outputs": [],
   "source": [
    "k_test = np.linspace(1e-6,1.5e-6,1e5)\n",
    "k_now = k_of_c2[54]\n",
    "k_test = np.linspace(.98*k_now,3*k_now,1e5)\n",
    "for ci_test in range(55,65):\n",
    "    check_zero = np.zeros(len(k_test),dtype=complex)\n",
    "    for ki in range(len(k_test)):\n",
    "        A = A_mat(k_test[ki],ci_test)\n",
    "        check_zero[ki] = A[1,0]/(mu[-1]*r_b[ci_test,-1]) + A[0,0]\n",
    "    k_now = k_test[np.argmin(abs(check_zero))]\n",
    "    k_of_c2[ci_test] = k_now\n",
    "    if ci_test<40:\n",
    "        k_test = np.linspace(.95*k_now,1.5*k_now,1e5)\n",
    "    else:\n",
    "        k_test = np.linspace(.95*k_now,3.5*k_now,1e5)"
   ]
  },
  {
   "cell_type": "code",
   "execution_count": 560,
   "metadata": {
    "collapsed": false
   },
   "outputs": [],
   "source": [
    "# [k_of_c2[n]/k_of_c2[n-1] for n in range(1,55)]\n",
    "k_now=k_of_c2[20]"
   ]
  },
  {
   "cell_type": "code",
   "execution_count": 605,
   "metadata": {
    "collapsed": false,
    "scrolled": false
   },
   "outputs": [
    {
     "data": {
      "text/plain": [
       "[<matplotlib.lines.Line2D at 0x7f4ab7f8fcd0>]"
      ]
     },
     "execution_count": 605,
     "metadata": {},
     "output_type": "execute_result"
    },
    {
     "data": {
      "image/png": "[encoded data removed]",
      "text/plain": [
       "<matplotlib.figure.Figure at 0x7f4ab800ac10>"
      ]
     },
     "metadata": {},
     "output_type": "display_data"
    }
   ],
   "source": [
    "n=99\n",
    "plt.plot(k_of_c2[:n],c[:n])\n",
    "# plt.plot(2*np.pi/(k_of_c2*c[:-1]),c[:-1])"
   ]
  },
  {
   "cell_type": "markdown",
   "metadata": {},
   "source": [
    "## 2-layer analytic dispersion\n",
    "$$\\tan Q_1 = -i(\\mu_2 r_{\\beta 2}/\\mu_1 r_{\\beta 1})$$"
   ]
  },
  {
   "cell_type": "code",
   "execution_count": 2,
   "metadata": {
    "collapsed": false
   },
   "outputs": [],
   "source": [
    "# One layer over half-space\n",
    "dm = np.array([40, 100])*100000\n",
    "B = np.array([2.4, 3.5])*100000\n",
    "rho = np.array([2.0, 2.67])\n",
    "mu = (B**2)*rho"
   ]
  },
  {
   "cell_type": "code",
   "execution_count": 3,
   "metadata": {
    "collapsed": false,
    "scrolled": true
   },
   "outputs": [
    {
     "name": "stderr",
     "output_type": "stream",
     "text": [
      "/home/jes/anaconda2/lib/python2.7/site-packages/ipykernel/__main__.py:6: RuntimeWarning: divide by zero encountered in double_scalars\n",
      "/home/jes/anaconda2/lib/python2.7/site-packages/ipykernel/__main__.py:8: RuntimeWarning: divide by zero encountered in divide\n"
     ]
    }
   ],
   "source": [
    "# 130 equation for dispersion\n",
    "c_range = np.linspace(B[0],B[1],(B[1]-B[0])/10)\n",
    "T_analytic = np.zeros(c_range.shape)\n",
    "for c_ind in range(len(c_range)):\n",
    "    c = c_range[c_ind]\n",
    "    T_analytic[c_ind] = 2*np.pi*dm[0]*np.sqrt(B[0]**-2-c**-2)/np.arctan(np.sqrt(c**-2-B[1]**-2)*mu[1]/(np.sqrt(B[0]**-2-c**-2)*mu[0]))\n",
    "#     print T_analytic[c_ind]\n",
    "omega_a = 2*np.pi/T_analytic\n",
    "k_a = omega_a/c_range"
   ]
  },
  {
   "cell_type": "code",
   "execution_count": 5,
   "metadata": {
    "collapsed": false,
    "scrolled": false
   },
   "outputs": [
    {
     "name": "stderr",
     "output_type": "stream",
     "text": [
      "/home/jes/anaconda2/lib/python2.7/site-packages/ipykernel/__main__.py:10: RuntimeWarning: divide by zero encountered in divide\n",
      "/home/jes/anaconda2/lib/python2.7/site-packages/ipykernel/__main__.py:10: RuntimeWarning: invalid value encountered in divide\n",
      "/home/jes/anaconda2/lib/python2.7/site-packages/ipykernel/__main__.py:11: RuntimeWarning: invalid value encountered in multiply\n",
      "/home/jes/anaconda2/lib/python2.7/site-packages/ipykernel/__main__.py:11: RuntimeWarning: divide by zero encountered in divide\n",
      "/home/jes/anaconda2/lib/python2.7/site-packages/ipykernel/__main__.py:11: RuntimeWarning: invalid value encountered in divide\n"
     ]
    }
   ],
   "source": [
    "#haskell analytic relation\n",
    "# r_b is a function of c and layer velocity\n",
    "r_b = np.zeros((len(c_range),len(B)),dtype=complex)\n",
    "for ci in range(len(c_range)):\n",
    "    for bi in range(len(B)):\n",
    "        if c_range[ci]>=B[bi]:\n",
    "            r_b[ci,bi] = np.sqrt((c_range[ci]/B[bi])**2-1)\n",
    "        else:\n",
    "            r_b[ci,bi] = 1j*np.sqrt(1-(c_range[ci]/B[bi])**2)\n",
    "k_ha = np.arctan(-1j*mu[1]*r_b[:,1]/(mu[0]*r_b[:,0]))/(r_b[:,0]*dm[0])\n",
    "T_ha = 2*np.pi/(c_range*k_ha)"
   ]
  },
  {
   "cell_type": "code",
   "execution_count": 7,
   "metadata": {
    "collapsed": false
   },
   "outputs": [
    {
     "name": "stderr",
     "output_type": "stream",
     "text": [
      "/home/jes/anaconda2/lib/python2.7/site-packages/numpy/core/numeric.py:482: ComplexWarning: Casting complex values to real discards the imaginary part\n",
      "  return array(a, dtype, copy=False, order=order)\n"
     ]
    },
    {
     "data": {
      "text/plain": [
       "[<matplotlib.lines.Line2D at 0x7eff75414f90>]"
      ]
     },
     "execution_count": 7,
     "metadata": {},
     "output_type": "execute_result"
    },
    {
     "data": {
      "image/png": "[encoded data removed]",
      "text/plain": [
       "<matplotlib.figure.Figure at 0x7eff75414cd0>"
      ]
     },
     "metadata": {},
     "output_type": "display_data"
    }
   ],
   "source": [
    "plt.plot(T_analytic,c_range)\n",
    "plt.plot(T_ha,c_range)"
   ]
  }
 ],
 "metadata": {
  "kernelspec": {
   "display_name": "Python 2",
   "language": "python",
   "name": "python2"
  },
  "language_info": {
   "codemirror_mode": {
    "name": "ipython",
    "version": 2
   },
   "file_extension": ".py",
   "mimetype": "text/x-python",
   "name": "python",
   "nbconvert_exporter": "python",
   "pygments_lexer": "ipython2",
   "version": "2.7.12"
  }
 },
 "nbformat": 4,
 "nbformat_minor": 1
}
