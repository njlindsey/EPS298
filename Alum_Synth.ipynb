{
 "cells": [
  {
   "cell_type": "markdown",
   "metadata": {},
   "source": [
    "# Implementation notes:\n",
    "1. Global variables: Some variables previously needed to be defined globally. None do for now, but it might be cleaner if they were. Ex. all of the material properties and layer geometry\n",
    "2. Numpy arrays: B and rho inputs **must be numpy arrays** because normal python array multiplication is dumb (or maybe Jes is)\n",
    "3. I might be confused about the $SH_j$ part of the calculation. They define the radiation pattern, so I think they use source layer parameters.\n",
    "4. The $\\eta_\\beta$ is taken as the slowness of the source layer. Maybe it's supposed to be the slowness of the layer the ray is in at each point but ~~ugh no~~ I hope not."
   ]
  },
  {
   "cell_type": "markdown",
   "metadata": {},
   "source": [
    "# Modeling the Alum Rock M4.6 Event\n",
    "\n",
    "The original velocity structure used with the GRT code was\n",
    "\n",
    "    3    2 1500    0.25000001E-01\n",
    "       6\n",
    "   0.100000E-02   0.100000E-02   0.100000E-02   0.100000E-02   0.000000E+00\n",
    "   0.550000E+01   0.220300E+01   0.240000E+01   0.450000E+01   0.000000E+00\n",
    "   0.630000E+01   0.334000E+01   0.267000E+01   0.350000E+01   0.000000E+00\n",
    "   0.630100E+01   0.334100E+01   0.267000E+01   0.800000E+01   0.000000E+00\n",
    "   0.670000E+01   0.397000E+01   0.280000E+01   0.190000E+02   0.000000E+00\n",
    "   0.780000E+01   0.400000E+01   0.330000E+01   0.400000E+03   0.000000E+00\n",
    "\n",
    "Where:\n",
    "\n",
    "line 1:  layer-above-source    fluid(0)-or-solid(2)    number-of-time-points   time-sample-rate\n",
    "line 2:  number-of-layers\n",
    "line 3+ p-velocity(km/s)  s-velocity(km/s)  density(g/cc)  thickness(km)  layer-dip(radians)\n",
    "\n",
    "We'll use the same simple velocity model:\n",
    "* Layer 1: d = 5km, B = 2.2km/s, rho = 2.4 g/cc\n",
    "* Layer 2: d = 16km, B = 3.34km/s, rho = 2.67 g/cc\n",
    "* Layer 3: d = 35km, B = 3.97km/s, rho = 2.8 g/cc\n",
    "* Source depth: d = 8km"
   ]
  },
  {
   "cell_type": "code",
   "execution_count": 2,
   "metadata": {
    "collapsed": false,
    "scrolled": true
   },
   "outputs": [
    {
     "data": {
      "image/png": "[encoded data removed]",
      "text/plain": [
       "<matplotlib.figure.Figure at 0x10d294668>"
      ]
     },
     "metadata": {},
     "output_type": "display_data"
    }
   ],
   "source": [
    "import matplotlib.pyplot as plt\n",
    "import obspy\n",
    "d=obspy.read('alumdata')\n",
    "d.plot()"
   ]
  },
  {
   "cell_type": "markdown",
   "metadata": {},
   "source": [
    "## Define ray functions\n",
    "t_[**u**p or **d**own][**T**ransmit or **R**eflect at each layer until station]"
   ]
  },
  {
   "cell_type": "code",
   "execution_count": 3,
   "metadata": {
    "collapsed": true
   },
   "outputs": [],
   "source": [
    "def t_uT(p1,x,zs,B):\n",
    "    return p1*x + (z[0]-z[1])*np.sqrt(1/B[1]**2-p1**2) + z[1]*np.sqrt(1/B[0]**2-p1**2)\n",
    "def t_uTRR(p1,x,zs,B):\n",
    "    return p1*x + (z[0]-z[1])*np.sqrt(1/B[1]**2-p1**2) + 3*z[1]*np.sqrt(1/B[0]**2-p1**2)\n",
    "def t_uTRRRR(p1,x,zs,B):\n",
    "    return p1*x + (z[0]-z[1])*np.sqrt(1/B[1]**2-p1**2) + 5*z[1]*np.sqrt(1/B[0]**2-p1**2)\n",
    "def t_dRT(p1,x,zs,B):\n",
    "    return p1*x + (2*z[2]-z[0]-z[1])*np.sqrt(1/B[1]**2-p1**2) + z[1]*np.sqrt(1/B[0]**2-p1**2)\n",
    "def t_dTRTT(p1,x,zs,B):\n",
    "    return p1*x + 2*(z[3]-z[2])*np.sqrt(1/B[2]**2-p1**2) + 2*(z[2]-z[1])*np.sqrt(1/B[1]**2-p1**2) + z[1]*np.sqrt(1/B[0]**2-p1**2)\n"
   ]
  },
  {
   "cell_type": "markdown",
   "metadata": {},
   "source": [
    "## Define p-finding function"
   ]
  },
  {
   "cell_type": "code",
   "execution_count": 4,
   "metadata": {
    "collapsed": true
   },
   "outputs": [],
   "source": [
    "def t_from_p(x, zs, B, tfunc, tmax):\n",
    "    p = [0*1j]\n",
    "    t = [tfunc(p[0],x,zs,B).real]\n",
    "    \n",
    "    while t[-1] < tmax:\n",
    "        w0 = p[-1].real\n",
    "        y0 = p[-1].imag\n",
    "        coords = []\n",
    "        for theta in range(0,90):\n",
    "            th = theta*math.pi/180\n",
    "            w = w0 + np.cos(th)*.0005\n",
    "            y = y0 + np.sin(th)*.0005\n",
    "            coords.append((w,y))\n",
    "        tvals = [tfunc(complex(*coord),x,zs,B) for coord in coords]\n",
    "        t_ind = np.argmax([tv.real for tv in tvals])\n",
    "        t.append(tvals[t_ind].real)\n",
    "        p.append(complex(*coords[t_ind]))\n",
    "    \n",
    "    return t, np.array(p)"
   ]
  },
  {
   "cell_type": "markdown",
   "metadata": {},
   "source": [
    "## Condense dp/dt interpolation"
   ]
  },
  {
   "cell_type": "code",
   "execution_count": 5,
   "metadata": {
    "collapsed": true
   },
   "outputs": [],
   "source": [
    "def interp_p(t,p):\n",
    "    dt = .01\n",
    "    f=interp1d(t,p)\n",
    "    xi=np.arange(t[0],t[-1],dt)\n",
    "    yi = f(xi)\n",
    "    return yi,np.diff(yi)/dt"
   ]
  },
  {
   "cell_type": "markdown",
   "metadata": {},
   "source": [
    "## Define ray-processing functions\n",
    "Output ${\\rm Im}\\left (\\frac{\\sqrt p}{\\eta} SH_j(p) \\Pi(p) p \\frac{dp}{dt}\\right )$, where $SH_j$ are the radiation patterns and $\\Pi$ is the product of reflection and transmission coefficients, for each ray. Note that SH1 and SH2 are equivalent to tds and tss in EPS 207."
   ]
  },
  {
   "cell_type": "code",
   "execution_count": 6,
   "metadata": {
    "collapsed": true
   },
   "outputs": [],
   "source": [
    "def i_uT(t,p,B,rh):\n",
    "    yi,dpdt = get_dpdt(t,p) #yi is interpolated p\n",
    "    mu = (B*1.e05)**2*rh\n",
    "    Tr = 2*mu[1]*np.sqrt(1/B[1]**2-yi[:-1]**2)/(mu[0]*np.sqrt(1/B[0]**2-yi[:-1]**2)+mu[1]*np.sqrt(1/B[1]**2-yi[:-1]**2))\n",
    "    SH1 = np.imag(np.sqrt(yi[:-1])*Tr*yi[:-1]*dpdt/(np.sqrt(1/B[1]**2-yi[:-1]**2)*B[1]**2))\n",
    "    SH2 = np.imag(np.sqrt(yi[:-1])*Tr*dpdt/B[1]**2)\n",
    "    return SH1,SH2"
   ]
  },
  {
   "cell_type": "code",
   "execution_count": null,
   "metadata": {
    "collapsed": true
   },
   "outputs": [],
   "source": []
  },
  {
   "cell_type": "markdown",
   "metadata": {},
   "source": [
    "## Calculate Synthetic seismogram with radiation pattern and source time function (Helmberger Eqn2.33)\n",
    "The SH solution on a free boundary is defined as $V = \\frac{M_0}{4\\pi\\rho_0}\\frac{d}{dt}[\\dot{D(t)} * \\Sigma^{2}_{j=1} A_{j+3}(\\theta,\\lambda,\\delta)V_i(t)]$, where $V_i(t) = \\sqrt{2/r}\\frac{1}{\\pi}[\\frac{1}{\\sqrt{t}}*SH_j]$. $M_0$ is the scalar seismic moment (units of dyne-cm...default is $10^{20}$ dyne-cm); $\\dot{D(t)}$ is the source time function (e.g., triangle; Brune); $A_{j+3}(\\theta,\\lambda,\\delta)$ are the coefficients describing the relative weight of the transverse vertical strike-slip (tss) and dip-slip (tds) fundamental-faults, which depend on fauilt dip ($\\delta$), rake ($\\lambda$), and angle between station and strike of fault ($\\theta$)."
   ]
  },
  {
   "cell_type": "code",
   "execution_count": 24,
   "metadata": {
    "collapsed": false
   },
   "outputs": [],
   "source": [
    "def Vt_SH1(t,r,SH1):    \n",
    "    return np.sqrt(2/r)/np.pi*((1/np.sqrt(t))*(SH1))\n",
    "\n",
    "def Vt_SH2(t,r,SH2):    \n",
    "    return np.sqrt(2/r)/np.pi*((1/np.sqrt(t))*(SH2))\n",
    "\n",
    "def radiationPattern(azimuth,strike,dip,rake,moment):\n",
    "    theta=azimuth-strike;\n",
    "    theta=theta*pi/180;\n",
    "    rake=rake*pi/180;\n",
    "    dip=dip*pi/180;\n",
    "    moment=moment/1e20;\n",
    "    factor=4*pi*rho;\n",
    "    A4=cos(2*theta)*cos(rake)*sin(dip)-0.5*sin(2*theta)*sin(rake)*sin(2*dip);\n",
    "    A5=-1*sin(theta)*cos(rake)*cos(dip)-cos(theta)*sin(rake)*cos(2*dip);\n",
    "    return A4,A5\n",
    "\n",
    "def synth_sourcetime(A4,A5,M0,Vt_SH1,Vt_SH2,risetime,dt):\n",
    "    def synth(A4,A5,M0,Vt_SH1,Vt_SH2):\n",
    "        s = np.diff((A4*Vt_SH1 + A4*Vt_SH1))\n",
    "        return M0/(4*np.pi*rh)*s\n",
    "    def makeDdot(risetime,dt):\n",
    "        time=np.arange(0,risetime*3,dt)\n",
    "        sourceTimeFn=time*e**(-time/(risetime/4))\n",
    "        return sourceTimeFn/trapz(sourceTimeFn)\n",
    "    return np.convolve(D_dot,synth)"
   ]
  },
  {
   "cell_type": "markdown",
   "metadata": {},
   "source": [
    "#### Compute synthetic for Alum Rock"
   ]
  },
  {
   "cell_type": "code",
   "execution_count": 26,
   "metadata": {
    "collapsed": true
   },
   "outputs": [],
   "source": [
    "#put alum rock geometry and velocity and rho in here.\n",
    "#\n",
    "#\n",
    "# then this part\n",
    "azimuth=321.6;\n",
    "strike=318;\n",
    "dip=83;\n",
    "rake=-176;\n",
    "M0=9.20e22;\n",
    "risetime=1;\n",
    "tstart=20;\n",
    "nzyear=1993;\n",
    "nzjday=223;\n",
    "nzhour=22;\n",
    "nzmin=33;\n",
    "nzsec=4;\n",
    "nzmsec=100;"
   ]
  },
  {
   "cell_type": "code",
   "execution_count": 27,
   "metadata": {
    "collapsed": false
   },
   "outputs": [
    {
     "ename": "NameError",
     "evalue": "name 't' is not defined",
     "output_type": "error",
     "traceback": [
      "\u001b[0;31m---------------------------------------------------------------------------\u001b[0m",
      "\u001b[0;31mNameError\u001b[0m                                 Traceback (most recent call last)",
      "\u001b[0;32m<ipython-input-27-8556bddecb56>\u001b[0m in \u001b[0;36m<module>\u001b[0;34m()\u001b[0m\n\u001b[1;32m      1\u001b[0m \u001b[0;31m#..calculate up to SH1 and SH2\u001b[0m\u001b[0;34m\u001b[0m\u001b[0;34m\u001b[0m\u001b[0m\n\u001b[0;32m----> 2\u001b[0;31m \u001b[0mSH1\u001b[0m\u001b[0;34m,\u001b[0m\u001b[0mSH2\u001b[0m \u001b[0;34m=\u001b[0m \u001b[0mi_uT\u001b[0m\u001b[0;34m(\u001b[0m\u001b[0mt\u001b[0m\u001b[0;34m,\u001b[0m\u001b[0mp\u001b[0m\u001b[0;34m,\u001b[0m\u001b[0mB\u001b[0m\u001b[0;34m,\u001b[0m\u001b[0mrh\u001b[0m\u001b[0;34m)\u001b[0m\u001b[0;34m\u001b[0m\u001b[0m\n\u001b[0m\u001b[1;32m      3\u001b[0m \u001b[0mA4\u001b[0m\u001b[0;34m,\u001b[0m\u001b[0mA5\u001b[0m \u001b[0;34m=\u001b[0m \u001b[0mradiationPattern\u001b[0m\u001b[0;34m(\u001b[0m\u001b[0mazimuth\u001b[0m\u001b[0;34m,\u001b[0m\u001b[0mstrike\u001b[0m\u001b[0;34m,\u001b[0m\u001b[0mdip\u001b[0m\u001b[0;34m,\u001b[0m\u001b[0mrake\u001b[0m\u001b[0;34m,\u001b[0m\u001b[0mM0\u001b[0m\u001b[0;34m)\u001b[0m\u001b[0;34m\u001b[0m\u001b[0m\n\u001b[1;32m      4\u001b[0m \u001b[0muSH\u001b[0m \u001b[0;34m=\u001b[0m \u001b[0msynth_sourcetime\u001b[0m\u001b[0;34m(\u001b[0m\u001b[0mA4\u001b[0m\u001b[0;34m,\u001b[0m\u001b[0mA5\u001b[0m\u001b[0;34m,\u001b[0m\u001b[0mM0\u001b[0m\u001b[0;34m,\u001b[0m\u001b[0mVt_SH1\u001b[0m\u001b[0;34m,\u001b[0m\u001b[0mVt_SH2\u001b[0m\u001b[0;34m,\u001b[0m\u001b[0mrisetime\u001b[0m\u001b[0;34m,\u001b[0m\u001b[0mdt\u001b[0m\u001b[0;34m)\u001b[0m\u001b[0;34m\u001b[0m\u001b[0m\n",
      "\u001b[0;31mNameError\u001b[0m: name 't' is not defined"
     ]
    }
   ],
   "source": [
    "#..calculate up to SH1 and SH2\n",
    "SH1,SH2 = i_uT(t,p,B,rh)\n",
    "A4,A5 = radiationPattern(azimuth,strike,dip,rake,M0)\n",
    "uSH = synth_sourcetime(A4,A5,M0,Vt_SH1,Vt_SH2,risetime,dt)"
   ]
  },
  {
   "cell_type": "code",
   "execution_count": null,
   "metadata": {
    "collapsed": true
   },
   "outputs": [],
   "source": []
  },
  {
   "cell_type": "code",
   "execution_count": null,
   "metadata": {
    "collapsed": false
   },
   "outputs": [],
   "source": []
  },
  {
   "cell_type": "code",
   "execution_count": 13,
   "metadata": {
    "collapsed": false
   },
   "outputs": [],
   "source": [
    "import numpy as np\n",
    "from scipy.interpolate import interp1d"
   ]
  },
  {
   "cell_type": "code",
   "execution_count": null,
   "metadata": {
    "collapsed": true
   },
   "outputs": [],
   "source": []
  }
 ],
 "metadata": {
  "kernelspec": {
   "display_name": "Python [Root]",
   "language": "python",
   "name": "Python [Root]"
  },
  "language_info": {
   "codemirror_mode": {
    "name": "ipython",
    "version": 3
   },
   "file_extension": ".py",
   "mimetype": "text/x-python",
   "name": "python",
   "nbconvert_exporter": "python",
   "pygments_lexer": "ipython3",
   "version": "3.5.0rc4"
  }
 },
 "nbformat": 4,
 "nbformat_minor": 1
}
