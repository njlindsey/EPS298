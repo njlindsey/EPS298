{
 "cells": [
  {
   "cell_type": "markdown",
   "metadata": {},
   "source": [
    "# Scroll to bottom for seismogram comparison!\n",
    "# Implementation notes:\n",
    "1. Global variables: Some variables previously needed to be defined globally. None do for now, but it might be cleaner if they were. Ex. all of the material properties and layer geometry\n",
    "2. Numpy arrays: B and rho inputs **must be numpy arrays** because normal python array multiplication is dumb (or maybe Jes is)\n",
    "3. I might be confused about the $SH_j$ part of the calculation. They define the radiation pattern, so I think they use source layer parameters.\n",
    "4. The $\\eta_\\beta$ is taken as the slowness of the source layer. Maybe it's supposed to be the slowness of the layer the ray is in at each point but ~~ugh no~~ I hope not.\n",
    "5. I haven't thought about units at all. Time is probably in units of .01 seconds right now."
   ]
  },
  {
   "cell_type": "markdown",
   "metadata": {},
   "source": [
    "# Modeling the Alum Rock M4.6 Event\n",
    "\n",
    "The original velocity structure used with the GRT code was\n",
    "\n",
    "    3    2 1500    0.25000001E-01\n",
    "       6\n",
    "   0.100000E-02   0.100000E-02   0.100000E-02   0.100000E-02   0.000000E+00\n",
    "   0.550000E+01   0.220300E+01   0.240000E+01   0.450000E+01   0.000000E+00\n",
    "   0.630000E+01   0.334000E+01   0.267000E+01   0.350000E+01   0.000000E+00\n",
    "   0.630100E+01   0.334100E+01   0.267000E+01   0.800000E+01   0.000000E+00\n",
    "   0.670000E+01   0.397000E+01   0.280000E+01   0.190000E+02   0.000000E+00\n",
    "   0.780000E+01   0.400000E+01   0.330000E+01   0.400000E+03   0.000000E+00\n",
    "\n",
    "Where:\n",
    "\n",
    "line 1:  layer-above-source    fluid(0)-or-solid(2)    number-of-time-points   time-sample-rate\n",
    "line 2:  number-of-layers\n",
    "line 3+ p-velocity(km/s)  s-velocity(km/s)  density(g/cc)  thickness(km)  layer-dip(radians)\n",
    "\n",
    "We'll use the same(ish) simple velocity model:\n",
    "* Layer 1: d = 5km, B = 2.2km/s, rho = 2.4 g/cc\n",
    "* Layer 2: d = 16km, B = 3.34km/s, rho = 2.67 g/cc\n",
    "* Layer 3: d = 35km, B = 3.97km/s, rho = 2.8 g/cc\n",
    "* Lower half-space: B = 4.0km/s, rho = 3.3 g/cc\n",
    "* Source depth: d = 8km"
   ]
  },
  {
   "cell_type": "code",
   "execution_count": 21,
   "metadata": {
    "collapsed": false
   },
   "outputs": [],
   "source": [
    "import numpy as np\n",
    "import scipy as sp\n",
    "from scipy.interpolate import interp1d\n",
    "import matplotlib.pyplot as plt\n",
    "from __future__ import print_function\n",
    "%matplotlib inline"
   ]
  },
  {
   "cell_type": "markdown",
   "metadata": {},
   "source": [
    "## Define ray functions\n",
    "t_[**u**p or **d**own][**T**ransmit or **R**eflect at each layer until station]"
   ]
  },
  {
   "cell_type": "code",
   "execution_count": 8,
   "metadata": {
    "collapsed": true
   },
   "outputs": [],
   "source": [
    "def tf_uT(p1,x,zs,B):\n",
    "    return p1*x + (z[0]-z[1])*np.sqrt(1/B[1]**2-p1**2) + z[1]*np.sqrt(1/B[0]**2-p1**2)\n",
    "def tf_uTRR(p1,x,zs,B):\n",
    "    return p1*x + (z[0]-z[1])*np.sqrt(1/B[1]**2-p1**2) + 3*z[1]*np.sqrt(1/B[0]**2-p1**2)\n",
    "def tf_uTRRRR(p1,x,zs,B):\n",
    "    return p1*x + (z[0]-z[1])*np.sqrt(1/B[1]**2-p1**2) + 5*z[1]*np.sqrt(1/B[0]**2-p1**2)\n",
    "def tf_dRT(p1,x,zs,B):\n",
    "    return p1*x + (2*z[2]-z[0]-z[1])*np.sqrt(1/B[1]**2-p1**2) + z[1]*np.sqrt(1/B[0]**2-p1**2)\n",
    "def tf_dTRTT(p1,x,zs,B):\n",
    "    return p1*x + 2*(z[3]-z[2])*np.sqrt(1/B[2]**2-p1**2) + 2*(z[2]-z[1])*np.sqrt(1/B[1]**2-p1**2) + z[1]*np.sqrt(1/B[0]**2-p1**2)\n"
   ]
  },
  {
   "cell_type": "markdown",
   "metadata": {},
   "source": [
    "## Define p-finding function"
   ]
  },
  {
   "cell_type": "code",
   "execution_count": 9,
   "metadata": {
    "collapsed": true
   },
   "outputs": [],
   "source": [
    "def t_from_p(x, zs, B, tfunc, tmax):\n",
    "    p = [0*1j]\n",
    "    t = [tfunc(p[0],x,zs,B).real]\n",
    "    \n",
    "    while t[-1] < tmax:\n",
    "        w0 = p[-1].real\n",
    "        y0 = p[-1].imag\n",
    "        coords = []\n",
    "        for theta in range(0,90):\n",
    "            th = theta*np.pi/180\n",
    "            w = w0 + np.cos(th)*.0005\n",
    "            y = y0 + np.sin(th)*.0005\n",
    "            coords.append((w,y))\n",
    "        tvals = [tfunc(complex(*coord),x,zs,B) for coord in coords]\n",
    "        t_ind = np.argmax([tv.real for tv in tvals])\n",
    "        t.append(tvals[t_ind].real)\n",
    "        p.append(complex(*coords[t_ind]))\n",
    "    \n",
    "    return t, np.array(p)"
   ]
  },
  {
   "cell_type": "markdown",
   "metadata": {},
   "source": [
    "## Condense dp/dt interpolation"
   ]
  },
  {
   "cell_type": "code",
   "execution_count": 10,
   "metadata": {
    "collapsed": true
   },
   "outputs": [],
   "source": [
    "def get_dpdt(t,p):\n",
    "    dt = .01 #IF CHANGING: also change dt in material parameters block\n",
    "    f=interp1d(t,p)\n",
    "    t_0 = np.ceil(t[0]/dt)*dt #round t[0] up to nearest dt unit\n",
    "    xi=np.arange(t_0,np.floor(t[-1]),dt)\n",
    "    yi = f(xi)\n",
    "    stub = np.arange(0,t_0,dt) #interpolation points between t=0 and t_0\n",
    "    dpdt = np.diff(yi)/dt\n",
    "    dpdt = np.concatenate((np.ones(len(stub))*dpdt[0],dpdt)) #fill with dpdt[0]s in case not quite = 0\n",
    "    yi = np.concatenate((np.zeros(len(stub)),yi)) #fill with zeros back to t=0\n",
    "    return yi,dpdt"
   ]
  },
  {
   "cell_type": "markdown",
   "metadata": {},
   "source": [
    "## Define ray-processing functions\n",
    "Output ${\\rm Im}\\left (\\frac{\\sqrt p}{\\eta} SH_j(p) \\Pi(p) p \\frac{dp}{dt}\\right )$, where $SH_j$ are the radiation patterns and $\\Pi$ is the product of reflection and transmission coefficients, for each ray. Note that SH1 and SH2 are equivalent to tds and tss in EPS 207.\n",
    "\n",
    "$SH_1 = 1/\\beta^2$ and $SH_2 = \\frac{\\varepsilon}{\\beta^2}\\frac{\\eta}{p}$ where $\\varepsilon$ is +1 for upgoing and -1 for downgoing rays."
   ]
  },
  {
   "cell_type": "code",
   "execution_count": 11,
   "metadata": {
    "collapsed": false
   },
   "outputs": [],
   "source": [
    "def i_uT(t,p,B,rh):\n",
    "    yi,dpdt = get_dpdt(t,p) #yi is interpolated p\n",
    "    mu = (B*1.e05)**2*rh\n",
    "    Tr = 2*mu[1]*np.sqrt(1/B[1]**2-yi[:-1]**2\n",
    "                        )/(mu[0]*np.sqrt(1/B[0]**2-yi[:-1]**2)+mu[1]*np.sqrt(1/B[1]**2-yi[:-1]**2))\n",
    "    SH1 = np.imag(np.sqrt(yi[:-1])*Tr*yi[:-1]*dpdt/(np.sqrt(1/B[1]**2-yi[:-1]**2)*B[1]**2))\n",
    "    SH2 = np.imag(np.sqrt(yi[:-1])*Tr*dpdt/B[1]**2)\n",
    "    return SH1,SH2\n",
    "def i_uTRR(t,p,B,rh):\n",
    "    yi,dpdt = get_dpdt(t,p) #yi is interpolated p\n",
    "    mu = (B*1.e05)**2*rh\n",
    "    Tr = 2*mu[1]*np.sqrt(1/B[1]**2-yi[:-1]**2\n",
    "                        )/(mu[0]*np.sqrt(1/B[0]**2-yi[:-1]**2)+mu[1]*np.sqrt(1/B[1]**2-yi[:-1]**2))\n",
    "    Re = (mu[0]*np.sqrt(1/B[0]**2-yi[:-1]**2)-mu[1]*np.sqrt(1/B[1]**2-yi[:-1]**2)\n",
    "         )/(mu[0]*np.sqrt(1/B[0]**2-yi[:-1]**2)+mu[1]*np.sqrt(1/B[1]**2-yi[:-1]**2))\n",
    "    SH1 = np.imag(np.sqrt(yi[:-1])*Tr*Re*yi[:-1]*dpdt/(np.sqrt(1/B[1]**2-yi[:-1]**2)*B[1]**2))\n",
    "    SH2 = np.imag(np.sqrt(yi[:-1])*Tr*Re*dpdt/B[1]**2)\n",
    "    return SH1,SH2\n",
    "def i_uTRRRR(t,p,B,rh):\n",
    "    yi,dpdt = get_dpdt(t,p) #yi is interpolated p\n",
    "    mu = (B*1.e05)**2*rh\n",
    "    Tr = 2*mu[1]*np.sqrt(1/B[1]**2-yi[:-1]**2\n",
    "                        )/(mu[0]*np.sqrt(1/B[0]**2-yi[:-1]**2)+mu[1]*np.sqrt(1/B[1]**2-yi[:-1]**2))\n",
    "    Re = (mu[0]*np.sqrt(1/B[0]**2-yi[:-1]**2)-mu[1]*np.sqrt(1/B[1]**2-yi[:-1]**2)\n",
    "         )/(mu[0]*np.sqrt(1/B[0]**2-yi[:-1]**2)+mu[1]*np.sqrt(1/B[1]**2-yi[:-1]**2))\n",
    "    SH1 = np.imag(np.sqrt(yi[:-1])*Tr*Re*Re*yi[:-1]*dpdt/(np.sqrt(1/B[1]**2-yi[:-1]**2)*B[1]**2))\n",
    "    SH2 = np.imag(np.sqrt(yi[:-1])*Tr*Re*Re*dpdt/B[1]**2)\n",
    "    return SH1,SH2\n",
    "def i_dRT(t,p,B,rh):\n",
    "    yi,dpdt = get_dpdt(t,p) #yi is interpolated p\n",
    "    mu = (B*1.e05)**2*rh\n",
    "    Tr = 2*mu[1]*np.sqrt(1/B[1]**2-yi[:-1]**2\n",
    "                        )/(mu[0]*np.sqrt(1/B[0]**2-yi[:-1]**2)+mu[1]*np.sqrt(1/B[1]**2-yi[:-1]**2))\n",
    "    Re = (mu[1]*np.sqrt(1/B[1]**2-yi[:-1]**2)-mu[2]*np.sqrt(1/B[2]**2-yi[:-1]**2)\n",
    "         )/(mu[1]*np.sqrt(1/B[1]**2-yi[:-1]**2)+mu[2]*np.sqrt(1/B[2]**2-yi[:-1]**2))\n",
    "    SH1 = np.imag(np.sqrt(yi[:-1])*Tr*Re*yi[:-1]*dpdt/(np.sqrt(1/B[1]**2-yi[:-1]**2)*B[1]**2))\n",
    "    SH2 = np.imag(-1*np.sqrt(yi[:-1])*Tr*Re*dpdt/B[1]**2)\n",
    "    return SH1,SH2\n",
    "def i_dTRTT(t,p,B,rh):\n",
    "    yi,dpdt = get_dpdt(t,p) #yi is interpolated p\n",
    "    mu = (B*1.e05)**2*rh\n",
    "    Tr_10 = 2*mu[1]*np.sqrt(1/B[1]**2-yi[:-1]**2\n",
    "                        )/(mu[0]*np.sqrt(1/B[0]**2-yi[:-1]**2)+mu[1]*np.sqrt(1/B[1]**2-yi[:-1]**2))\n",
    "    Tr_12 = 2*mu[1]*np.sqrt(1/B[1]**2-yi[:-1]**2\n",
    "                        )/(mu[2]*np.sqrt(1/B[2]**2-yi[:-1]**2)+mu[1]*np.sqrt(1/B[1]**2-yi[:-1]**2))\n",
    "    Tr_21 = 2*mu[2]*np.sqrt(1/B[2]**2-yi[:-1]**2\n",
    "                        )/(mu[2]*np.sqrt(1/B[2]**2-yi[:-1]**2)+mu[1]*np.sqrt(1/B[1]**2-yi[:-1]**2))\n",
    "    Re = (mu[2]*np.sqrt(1/B[2]**2-yi[:-1]**2)-mu[3]*np.sqrt(1/B[3]**2-yi[:-1]**2)\n",
    "         )/(mu[2]*np.sqrt(1/B[2]**2-yi[:-1]**2)+mu[3]*np.sqrt(1/B[3]**2-yi[:-1]**2))\n",
    "    SH1 = np.imag(np.sqrt(yi[:-1])*Tr_12*Re*Tr_21*Tr_10*yi[:-1]*dpdt/(np.sqrt(1/B[1]**2-yi[:-1]**2)*B[1]**2))\n",
    "    SH2 = np.imag(-1*np.sqrt(yi[:-1])*Tr_12*Re*Tr_21*Tr_10*dpdt/B[1]**2)\n",
    "    return SH1,SH2"
   ]
  },
  {
   "cell_type": "markdown",
   "metadata": {},
   "source": [
    "## Calculate Synthetic seismogram with radiation pattern and source time function (Helmberger Eqn2.33)\n",
    "The SH solution on a free boundary is defined as $V = \\frac{M_0}{4\\pi\\rho_0}\\frac{d}{dt}[\\dot{D(t)} * \\Sigma^{2}_{j=1} A_{j+3}(\\theta,\\lambda,\\delta)V_j(t)]$, where $V_j(t) = \\sqrt{2/r}\\frac{1}{\\pi}[\\frac{1}{\\sqrt{t}}*SH_j]$. $M_0$ is the scalar seismic moment (units of dyne-cm...default is $10^{20}$ dyne-cm); $\\dot{D(t)}$ is the source time function (e.g., triangle; Brune); $A_{j+3}(\\theta,\\lambda,\\delta)$ are the coefficients describing the relative weight of the transverse vertical strike-slip (tss) and dip-slip (tds) fundamental-faults, which depend on fauilt dip ($\\delta$), rake ($\\lambda$), and angle between station and strike of fault ($\\theta$)."
   ]
  },
  {
   "cell_type": "code",
   "execution_count": null,
   "metadata": {
    "collapsed": false
   },
   "outputs": [],
   "source": []
  },
  {
   "cell_type": "code",
   "execution_count": 34,
   "metadata": {
    "collapsed": false
   },
   "outputs": [],
   "source": [
    "def Vt(t,r,SH):\n",
    "    A1=np.pi*np.pi/16;\n",
    "    sdt=2.0/np.sqrt(dt);\n",
    "    a=0;\n",
    "    m = len(t)\n",
    "    rt = np.zeros((m,1))[:,0]\n",
    "    for I in range(0,m):\n",
    "         b=np.sqrt((I) + A1)\n",
    "         rt[I]=sdt * (b - a)\n",
    "         a = b\n",
    "    return (np.sqrt(2/(r))/np.pi)*np.convolve(rt,SH)\n",
    "\n",
    "def scaleMoment(M0,x,beta,rh):\n",
    "    return M0*2/np.pi*np.sqrt(2/x)*1/(beta**2)*1/(4*np.pi*rh)\n",
    "\n",
    "def radiationPattern(azimuth,strike,dip,rake):\n",
    "    theta=azimuth-strike;\n",
    "    theta=theta*np.pi/180;\n",
    "    rake=rake*np.pi/180;\n",
    "    dip=dip*np.pi/180;\n",
    "    A4=np.cos(2*theta)*np.cos(rake)*np.sin(dip)-0.5*np.sin(2*theta)*np.sin(rake)*np.sin(2*dip);\n",
    "    A5=-1*np.sin(theta)*np.cos(rake)*np.cos(dip)-np.cos(theta)*np.sin(rake)*np.cos(2*dip);\n",
    "    return A4,A5\n",
    "\n",
    "def synth_sourcetime(A4,A5,M0,Vt_SH1,Vt_SH2,risetime,dt,rh):\n",
    "    def synth():\n",
    "        s = np.diff((A4*Vt_SH1 + A5*Vt_SH2))/dt\n",
    "        return M0*s\n",
    "    def makeDdot():\n",
    "        time=np.arange(0,risetime*3,dt)\n",
    "        sourceTimeFn=time*np.e**(-time/(risetime/4.0))\n",
    "        return sourceTimeFn/np.trapz(sourceTimeFn)\n",
    "\n",
    "    return np.convolve(makeDdot(),synth())"
   ]
  },
  {
   "cell_type": "code",
   "execution_count": 35,
   "metadata": {
    "collapsed": true
   },
   "outputs": [],
   "source": [
    "# def synth_sourcetime(A4,A5,M0,Vt_SH1,Vt_SH2,risetime,dt,rh):\n",
    "#     w5=conv(rt,u).*dt;\n",
    "#     wds5=conv(rt,uds).*dt;\n",
    "    \n",
    "#     dw5=diff(w5)./dt;\n",
    "#     dwds5=diff(wds5)./dt;\n",
    "\n",
    "#     tss=np.convolve(src,tss)*dt\n",
    "#     tds=np.convolve(src,tds)*dt\n",
    "#     return M0*(A4*tss + A5*tds)\n",
    "\n",
    "# def Vt(t,r,SH):\n",
    "#     A1=np.pi*np.pi/16;\n",
    "#     sdt=2.0/np.sqrt(dt);\n",
    "#     a=0;\n",
    "#     m = len(t)\n",
    "#     rt = np.zeros((m,1))[:,0]\n",
    "#     for I in range(0,m):\n",
    "#          b=np.sqrt((I) + A1)\n",
    "#          rt[I]=sdt * (b - a)\n",
    "#          a = b\n",
    "#     return np.sqrt(2/(r*1e5))/np.pi*np.convolve(rt,SH)"
   ]
  },
  {
   "cell_type": "markdown",
   "metadata": {},
   "source": [
    "#### Compute synthetic for Alum Rock"
   ]
  },
  {
   "cell_type": "code",
   "execution_count": 36,
   "metadata": {
    "collapsed": true
   },
   "outputs": [],
   "source": [
    "#put alum rock geometry and velocity and rho in here.\n",
    "x = 80.05 #Station distance\n",
    "z = np.array([8,5,16,35])\n",
    "B = np.array([2.2,3.34,3.97,4.0])\n",
    "rho = np.array([2.4,2.67,2.8,3.3])\n",
    "dt = .01\n",
    "azimuth=321.6;\n",
    "strike=318;\n",
    "dip=83;\n",
    "rake=-176;\n",
    "M0=9.20e2;\n",
    "risetime=.5;"
   ]
  },
  {
   "cell_type": "code",
   "execution_count": 15,
   "metadata": {
    "collapsed": true
   },
   "outputs": [],
   "source": [
    "#Pick max time\n",
    "tmax = 120 #seconds\n",
    "#Get individual ray paths in the complex p-plane\n",
    "t_uT,p_uT = t_from_p(x, z, B, tf_uT, tmax)\n",
    "t_uTRR,p_uTRR = t_from_p(x, z, B, tf_uTRR, tmax)\n",
    "t_uTRRRR,p_uTRRRR = t_from_p(x, z, B, tf_uTRRRR, tmax)\n",
    "t_dRT,p_dRT = t_from_p(x, z, B, tf_dRT, tmax)\n",
    "t_dTRTT,p_dTRTT = t_from_p(x, z, B, tf_dTRTT, tmax)"
   ]
  },
  {
   "cell_type": "code",
   "execution_count": 16,
   "metadata": {
    "collapsed": false
   },
   "outputs": [
    {
     "data": {
      "text/plain": [
       "<matplotlib.legend.Legend at 0x10e08a898>"
      ]
     },
     "execution_count": 16,
     "metadata": {},
     "output_type": "execute_result"
    },
    {
     "data": {
      "image/png": "[encoded data removed]",
      "text/plain": [
       "<matplotlib.figure.Figure at 0x10b878278>"
      ]
     },
     "metadata": {},
     "output_type": "display_data"
    }
   ],
   "source": [
    "#Plot p-plane ray paths\n",
    "fig, ax = plt.subplots(1, 1, figsize = (6,6))\n",
    "ax.plot(p_uT.real,p_uT.imag,p_uTRR.real,p_uTRR.imag,p_uTRRRR.real,p_uTRRRR.imag,p_dRT.real,p_dRT.imag,p_dTRTT.real,p_dTRTT.imag)\n",
    "ax.set_xlabel(\"Re p\")\n",
    "ax.set_ylabel(\"Im p\")\n",
    "ax.legend((\"uT\",\"uTRR\",\"uTRRRR\",\"dRT\",\"dTRTT\"))\n",
    "# ax.set_xlim(right=1)\n",
    "# ax.set_ylim(top=.3)"
   ]
  },
  {
   "cell_type": "code",
   "execution_count": 37,
   "metadata": {
    "collapsed": false
   },
   "outputs": [
    {
     "name": "stdout",
     "output_type": "stream",
     "text": [
      "1.5615325058\n"
     ]
    }
   ],
   "source": [
    "#Sum imaginary parts for SH1 and SH2\n",
    "SH_sum = np.array(i_uT(t_uT,p_uT,B,rho))\n",
    "SH_sum += np.array(i_uTRR(t_uTRR,p_uTRR,B,rho))\n",
    "SH_sum += np.array(i_uTRRRR(t_uTRRRR,p_uTRRRR,B,rho))\n",
    "SH_sum += np.array(i_dRT(t_dRT,p_dRT,B,rho))\n",
    "SH_sum += np.array(i_dTRTT(t_dTRTT,p_dTRTT,B,rho))\n",
    "# SH1,SH2 = SH_sum\n",
    "\n",
    "#Apply radiation pattern and source time function\n",
    "t = np.arange(dt,tmax,dt)\n",
    "A4,A5 = radiationPattern(azimuth,strike,dip,rake)\n",
    "M0=scaleMoment(M0,x,B[1],rho[1])\n",
    "uSH = synth_sourcetime(A4,A5,M0,Vt(t,x,SH_sum[0,:]),Vt(t,x,SH_sum[1,:]),risetime,dt,rho) #njl"
   ]
  },
  {
   "cell_type": "code",
   "execution_count": 38,
   "metadata": {
    "collapsed": false,
    "scrolled": false
   },
   "outputs": [
    {
     "data": {
      "text/plain": [
       "(0.0, 8000)"
      ]
     },
     "execution_count": 38,
     "metadata": {},
     "output_type": "execute_result"
    },
    {
     "data": {
      "image/png": "[encoded data removed]",
      "text/plain": [
       "<matplotlib.figure.Figure at 0x11016f518>"
      ]
     },
     "metadata": {},
     "output_type": "display_data"
    }
   ],
   "source": [
    "fig, ax = plt.subplots(1, 1, figsize = (12,6))\n",
    "ax.plot(uSH)\n",
    "ax.set_xlim(right=8000)"
   ]
  },
  {
   "cell_type": "code",
   "execution_count": 19,
   "metadata": {
    "collapsed": false,
    "scrolled": true
   },
   "outputs": [
    {
     "data": {
      "text/plain": [
       "[<matplotlib.lines.Line2D at 0x110168550>]"
      ]
     },
     "execution_count": 19,
     "metadata": {},
     "output_type": "execute_result"
    },
    {
     "data": {
      "image/png": "[encoded data removed]",
      "text/plain": [
       "<matplotlib.figure.Figure at 0x10e7dcfd0>"
      ]
     },
     "metadata": {},
     "output_type": "display_data"
    }
   ],
   "source": [
    "import matplotlib.pyplot as plt\n",
    "import obspy\n",
    "d=obspy.read('alumdata')\n",
    "plt.plot(d[0])"
   ]
  },
  {
   "cell_type": "code",
   "execution_count": 20,
   "metadata": {
    "collapsed": false
   },
   "outputs": [
    {
     "data": {
      "text/plain": [
       "         network: \n",
       "         station: BKS\n",
       "        location: \n",
       "         channel: Q\n",
       "       starttime: 1993-08-11T22:33:04.091000Z\n",
       "         endtime: 1993-08-11T22:34:24.091000Z\n",
       "   sampling_rate: 20.0\n",
       "           delta: 0.05\n",
       "            npts: 1601\n",
       "           calib: 0.00244141\n",
       "         _format: SAC\n",
       "             sac: AttribDict({'iftype': 1, 'stel': 276.0, 'depmen': 1.7200138e-05, 'depmax': 0.016833488, 'nevid': 0, 'evla': 37.313, 'cmpaz': 51.269165, 'norid': 0, 'internal1': 0.041000001, 'iztype': 11, 'lcalda': 1, 'dist': 80.051086, 'stlo': -122.235, 'unused23': 0, 'internal2': 0.050000001, 'evlo': -121.67, 'scale': 0.0024414062, 'internal3': 6000, 'kcmpnm': 'Q       ', 'ievtyp': 40, 'depmin': -0.017463746, 'kstnm': 'BKS     ', 'nzhour': 22, 'nzmin': 33, 'internal0': 1.0, 'cmpinc': 90.0, 'e': 79.990997, 'npts': 1601, 'kevnm': '932232233BHN    ', 'gcarc': 0.72000003, 'nzjday': 223, 'delta': 0.050000001, 'leven': 1, 'stla': 37.876999, 'idep': 6, 'nvhdr': 6, 'lovrok': 1, 'az': 321.61243, 'baz': 141.26917, 'nzyear': 1993, 'lpspol': 1, 'nzsec': 4, 'nzmsec': 100, 'b': -0.0089998245})"
      ]
     },
     "execution_count": 20,
     "metadata": {},
     "output_type": "execute_result"
    }
   ],
   "source": [
    "d[0].stats"
   ]
  },
  {
   "cell_type": "code",
   "execution_count": null,
   "metadata": {
    "collapsed": true
   },
   "outputs": [],
   "source": []
  }
 ],
 "metadata": {
  "anaconda-cloud": {},
  "kernelspec": {
   "display_name": "Python 2",
   "language": "python",
   "name": "python2"
  },
  "language_info": {
   "codemirror_mode": {
    "name": "ipython",
    "version": 2
   },
   "file_extension": ".py",
   "mimetype": "text/x-python",
   "name": "python",
   "nbconvert_exporter": "python",
   "pygments_lexer": "ipython2",
   "version": "2.7.12"
  }
 },
 "nbformat": 4,
 "nbformat_minor": 1
}
